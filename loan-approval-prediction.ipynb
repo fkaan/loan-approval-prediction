{
 "cells": [
  {
   "cell_type": "code",
   "execution_count": 1,
   "id": "ec936cf5",
   "metadata": {
    "_cell_guid": "b1076dfc-b9ad-4769-8c92-a6c4dae69d19",
    "_uuid": "8f2839f25d086af736a60e9eeb907d3b93b6e0e5",
    "execution": {
     "iopub.execute_input": "2024-10-10T22:51:15.378075Z",
     "iopub.status.busy": "2024-10-10T22:51:15.377526Z",
     "iopub.status.idle": "2024-10-10T22:51:16.298983Z",
     "shell.execute_reply": "2024-10-10T22:51:16.297754Z"
    },
    "papermill": {
     "duration": 0.938275,
     "end_time": "2024-10-10T22:51:16.301819",
     "exception": false,
     "start_time": "2024-10-10T22:51:15.363544",
     "status": "completed"
    },
    "tags": []
   },
   "outputs": [
    {
     "name": "stdout",
     "output_type": "stream",
     "text": [
      "/kaggle/input/playground-series-s4e10/sample_submission.csv\n",
      "/kaggle/input/playground-series-s4e10/train.csv\n",
      "/kaggle/input/playground-series-s4e10/test.csv\n"
     ]
    }
   ],
   "source": [
    "# This Python 3 environment comes with many helpful analytics libraries installed\n",
    "# It is defined by the kaggle/python Docker image: https://github.com/kaggle/docker-python\n",
    "# For example, here's several helpful packages to load\n",
    "\n",
    "import numpy as np # linear algebra\n",
    "import pandas as pd # data processing, CSV file I/O (e.g. pd.read_csv)\n",
    "\n",
    "# Input data files are available in the read-only \"../input/\" directory\n",
    "# For example, running this (by clicking run or pressing Shift+Enter) will list all files under the input directory\n",
    "\n",
    "import os\n",
    "for dirname, _, filenames in os.walk('/kaggle/input'):\n",
    "    for filename in filenames:\n",
    "        print(os.path.join(dirname, filename))\n",
    "\n",
    "# You can write up to 20GB to the current directory (/kaggle/working/) that gets preserved as output when you create a version using \"Save & Run All\" \n",
    "# You can also write temporary files to /kaggle/temp/, but they won't be saved outside of the current session"
   ]
  },
  {
   "cell_type": "code",
   "execution_count": 2,
   "id": "3d261912",
   "metadata": {
    "execution": {
     "iopub.execute_input": "2024-10-10T22:51:16.326697Z",
     "iopub.status.busy": "2024-10-10T22:51:16.326082Z",
     "iopub.status.idle": "2024-10-10T22:51:18.085819Z",
     "shell.execute_reply": "2024-10-10T22:51:18.084583Z"
    },
    "papermill": {
     "duration": 1.775319,
     "end_time": "2024-10-10T22:51:18.088612",
     "exception": false,
     "start_time": "2024-10-10T22:51:16.313293",
     "status": "completed"
    },
    "tags": []
   },
   "outputs": [],
   "source": [
    "import pandas as pd\n",
    "import numpy as np \n",
    "import seaborn as sns \n",
    "import matplotlib.pyplot as plt "
   ]
  },
  {
   "cell_type": "markdown",
   "id": "f5d453a9",
   "metadata": {
    "execution": {
     "iopub.execute_input": "2024-10-10T18:52:51.261884Z",
     "iopub.status.busy": "2024-10-10T18:52:51.261384Z",
     "iopub.status.idle": "2024-10-10T18:52:51.840814Z",
     "shell.execute_reply": "2024-10-10T18:52:51.839083Z",
     "shell.execute_reply.started": "2024-10-10T18:52:51.261839Z"
    },
    "papermill": {
     "duration": 0.010798,
     "end_time": "2024-10-10T22:51:18.110561",
     "exception": false,
     "start_time": "2024-10-10T22:51:18.099763",
     "status": "completed"
    },
    "tags": []
   },
   "source": [
    "# Data Loading"
   ]
  },
  {
   "cell_type": "code",
   "execution_count": 3,
   "id": "6201722f",
   "metadata": {
    "execution": {
     "iopub.execute_input": "2024-10-10T22:51:18.135774Z",
     "iopub.status.busy": "2024-10-10T22:51:18.135160Z",
     "iopub.status.idle": "2024-10-10T22:51:18.408749Z",
     "shell.execute_reply": "2024-10-10T22:51:18.407691Z"
    },
    "papermill": {
     "duration": 0.289954,
     "end_time": "2024-10-10T22:51:18.411617",
     "exception": false,
     "start_time": "2024-10-10T22:51:18.121663",
     "status": "completed"
    },
    "tags": []
   },
   "outputs": [],
   "source": [
    "df_train = pd.read_csv(\"/kaggle/input/playground-series-s4e10/train.csv\")\n",
    "df_test = pd.read_csv(\"/kaggle/input/playground-series-s4e10/test.csv\")\n"
   ]
  },
  {
   "cell_type": "code",
   "execution_count": 4,
   "id": "739a04f7",
   "metadata": {
    "execution": {
     "iopub.execute_input": "2024-10-10T22:51:18.435938Z",
     "iopub.status.busy": "2024-10-10T22:51:18.435497Z",
     "iopub.status.idle": "2024-10-10T22:51:18.465063Z",
     "shell.execute_reply": "2024-10-10T22:51:18.463938Z"
    },
    "papermill": {
     "duration": 0.044757,
     "end_time": "2024-10-10T22:51:18.467636",
     "exception": false,
     "start_time": "2024-10-10T22:51:18.422879",
     "status": "completed"
    },
    "tags": []
   },
   "outputs": [
    {
     "data": {
      "text/html": [
       "<div>\n",
       "<style scoped>\n",
       "    .dataframe tbody tr th:only-of-type {\n",
       "        vertical-align: middle;\n",
       "    }\n",
       "\n",
       "    .dataframe tbody tr th {\n",
       "        vertical-align: top;\n",
       "    }\n",
       "\n",
       "    .dataframe thead th {\n",
       "        text-align: right;\n",
       "    }\n",
       "</style>\n",
       "<table border=\"1\" class=\"dataframe\">\n",
       "  <thead>\n",
       "    <tr style=\"text-align: right;\">\n",
       "      <th></th>\n",
       "      <th>id</th>\n",
       "      <th>person_age</th>\n",
       "      <th>person_income</th>\n",
       "      <th>person_home_ownership</th>\n",
       "      <th>person_emp_length</th>\n",
       "      <th>loan_intent</th>\n",
       "      <th>loan_grade</th>\n",
       "      <th>loan_amnt</th>\n",
       "      <th>loan_int_rate</th>\n",
       "      <th>loan_percent_income</th>\n",
       "      <th>cb_person_default_on_file</th>\n",
       "      <th>cb_person_cred_hist_length</th>\n",
       "      <th>loan_status</th>\n",
       "    </tr>\n",
       "  </thead>\n",
       "  <tbody>\n",
       "    <tr>\n",
       "      <th>0</th>\n",
       "      <td>0</td>\n",
       "      <td>37</td>\n",
       "      <td>35000</td>\n",
       "      <td>RENT</td>\n",
       "      <td>0.0</td>\n",
       "      <td>EDUCATION</td>\n",
       "      <td>B</td>\n",
       "      <td>6000</td>\n",
       "      <td>11.49</td>\n",
       "      <td>0.17</td>\n",
       "      <td>N</td>\n",
       "      <td>14</td>\n",
       "      <td>0</td>\n",
       "    </tr>\n",
       "    <tr>\n",
       "      <th>1</th>\n",
       "      <td>1</td>\n",
       "      <td>22</td>\n",
       "      <td>56000</td>\n",
       "      <td>OWN</td>\n",
       "      <td>6.0</td>\n",
       "      <td>MEDICAL</td>\n",
       "      <td>C</td>\n",
       "      <td>4000</td>\n",
       "      <td>13.35</td>\n",
       "      <td>0.07</td>\n",
       "      <td>N</td>\n",
       "      <td>2</td>\n",
       "      <td>0</td>\n",
       "    </tr>\n",
       "    <tr>\n",
       "      <th>2</th>\n",
       "      <td>2</td>\n",
       "      <td>29</td>\n",
       "      <td>28800</td>\n",
       "      <td>OWN</td>\n",
       "      <td>8.0</td>\n",
       "      <td>PERSONAL</td>\n",
       "      <td>A</td>\n",
       "      <td>6000</td>\n",
       "      <td>8.90</td>\n",
       "      <td>0.21</td>\n",
       "      <td>N</td>\n",
       "      <td>10</td>\n",
       "      <td>0</td>\n",
       "    </tr>\n",
       "    <tr>\n",
       "      <th>3</th>\n",
       "      <td>3</td>\n",
       "      <td>30</td>\n",
       "      <td>70000</td>\n",
       "      <td>RENT</td>\n",
       "      <td>14.0</td>\n",
       "      <td>VENTURE</td>\n",
       "      <td>B</td>\n",
       "      <td>12000</td>\n",
       "      <td>11.11</td>\n",
       "      <td>0.17</td>\n",
       "      <td>N</td>\n",
       "      <td>5</td>\n",
       "      <td>0</td>\n",
       "    </tr>\n",
       "    <tr>\n",
       "      <th>4</th>\n",
       "      <td>4</td>\n",
       "      <td>22</td>\n",
       "      <td>60000</td>\n",
       "      <td>RENT</td>\n",
       "      <td>2.0</td>\n",
       "      <td>MEDICAL</td>\n",
       "      <td>A</td>\n",
       "      <td>6000</td>\n",
       "      <td>6.92</td>\n",
       "      <td>0.10</td>\n",
       "      <td>N</td>\n",
       "      <td>3</td>\n",
       "      <td>0</td>\n",
       "    </tr>\n",
       "  </tbody>\n",
       "</table>\n",
       "</div>"
      ],
      "text/plain": [
       "   id  person_age  person_income person_home_ownership  person_emp_length  \\\n",
       "0   0          37          35000                  RENT                0.0   \n",
       "1   1          22          56000                   OWN                6.0   \n",
       "2   2          29          28800                   OWN                8.0   \n",
       "3   3          30          70000                  RENT               14.0   \n",
       "4   4          22          60000                  RENT                2.0   \n",
       "\n",
       "  loan_intent loan_grade  loan_amnt  loan_int_rate  loan_percent_income  \\\n",
       "0   EDUCATION          B       6000          11.49                 0.17   \n",
       "1     MEDICAL          C       4000          13.35                 0.07   \n",
       "2    PERSONAL          A       6000           8.90                 0.21   \n",
       "3     VENTURE          B      12000          11.11                 0.17   \n",
       "4     MEDICAL          A       6000           6.92                 0.10   \n",
       "\n",
       "  cb_person_default_on_file  cb_person_cred_hist_length  loan_status  \n",
       "0                         N                          14            0  \n",
       "1                         N                           2            0  \n",
       "2                         N                          10            0  \n",
       "3                         N                           5            0  \n",
       "4                         N                           3            0  "
      ]
     },
     "execution_count": 4,
     "metadata": {},
     "output_type": "execute_result"
    }
   ],
   "source": [
    "df_train.head()"
   ]
  },
  {
   "cell_type": "code",
   "execution_count": 5,
   "id": "503a9848",
   "metadata": {
    "execution": {
     "iopub.execute_input": "2024-10-10T22:51:18.492675Z",
     "iopub.status.busy": "2024-10-10T22:51:18.492191Z",
     "iopub.status.idle": "2024-10-10T22:51:18.499917Z",
     "shell.execute_reply": "2024-10-10T22:51:18.498758Z"
    },
    "papermill": {
     "duration": 0.023132,
     "end_time": "2024-10-10T22:51:18.502381",
     "exception": false,
     "start_time": "2024-10-10T22:51:18.479249",
     "status": "completed"
    },
    "tags": []
   },
   "outputs": [
    {
     "data": {
      "text/plain": [
       "(58645, 13)"
      ]
     },
     "execution_count": 5,
     "metadata": {},
     "output_type": "execute_result"
    }
   ],
   "source": [
    "df_train.shape"
   ]
  },
  {
   "cell_type": "code",
   "execution_count": 6,
   "id": "786534f4",
   "metadata": {
    "execution": {
     "iopub.execute_input": "2024-10-10T22:51:18.527929Z",
     "iopub.status.busy": "2024-10-10T22:51:18.527209Z",
     "iopub.status.idle": "2024-10-10T22:51:18.535024Z",
     "shell.execute_reply": "2024-10-10T22:51:18.534007Z"
    },
    "papermill": {
     "duration": 0.02331,
     "end_time": "2024-10-10T22:51:18.537318",
     "exception": false,
     "start_time": "2024-10-10T22:51:18.514008",
     "status": "completed"
    },
    "tags": []
   },
   "outputs": [
    {
     "data": {
      "text/plain": [
       "(39098, 12)"
      ]
     },
     "execution_count": 6,
     "metadata": {},
     "output_type": "execute_result"
    }
   ],
   "source": [
    "df_test.shape"
   ]
  },
  {
   "cell_type": "code",
   "execution_count": 7,
   "id": "cc65dd48",
   "metadata": {
    "execution": {
     "iopub.execute_input": "2024-10-10T22:51:18.562857Z",
     "iopub.status.busy": "2024-10-10T22:51:18.562368Z",
     "iopub.status.idle": "2024-10-10T22:51:18.571894Z",
     "shell.execute_reply": "2024-10-10T22:51:18.570391Z"
    },
    "papermill": {
     "duration": 0.025327,
     "end_time": "2024-10-10T22:51:18.574413",
     "exception": false,
     "start_time": "2024-10-10T22:51:18.549086",
     "status": "completed"
    },
    "tags": []
   },
   "outputs": [
    {
     "data": {
      "text/plain": [
       "id                              int64\n",
       "person_age                      int64\n",
       "person_income                   int64\n",
       "person_home_ownership          object\n",
       "person_emp_length             float64\n",
       "loan_intent                    object\n",
       "loan_grade                     object\n",
       "loan_amnt                       int64\n",
       "loan_int_rate                 float64\n",
       "loan_percent_income           float64\n",
       "cb_person_default_on_file      object\n",
       "cb_person_cred_hist_length      int64\n",
       "loan_status                     int64\n",
       "dtype: object"
      ]
     },
     "execution_count": 7,
     "metadata": {},
     "output_type": "execute_result"
    }
   ],
   "source": [
    "df_train.dtypes"
   ]
  },
  {
   "cell_type": "code",
   "execution_count": 8,
   "id": "50465ca2",
   "metadata": {
    "execution": {
     "iopub.execute_input": "2024-10-10T22:51:18.600335Z",
     "iopub.status.busy": "2024-10-10T22:51:18.599922Z",
     "iopub.status.idle": "2024-10-10T22:51:18.609250Z",
     "shell.execute_reply": "2024-10-10T22:51:18.608065Z"
    },
    "papermill": {
     "duration": 0.025415,
     "end_time": "2024-10-10T22:51:18.611785",
     "exception": false,
     "start_time": "2024-10-10T22:51:18.586370",
     "status": "completed"
    },
    "tags": []
   },
   "outputs": [
    {
     "data": {
      "text/plain": [
       "id                              int64\n",
       "person_age                      int64\n",
       "person_income                   int64\n",
       "person_home_ownership          object\n",
       "person_emp_length             float64\n",
       "loan_intent                    object\n",
       "loan_grade                     object\n",
       "loan_amnt                       int64\n",
       "loan_int_rate                 float64\n",
       "loan_percent_income           float64\n",
       "cb_person_default_on_file      object\n",
       "cb_person_cred_hist_length      int64\n",
       "loan_status                     int64\n",
       "dtype: object"
      ]
     },
     "execution_count": 8,
     "metadata": {},
     "output_type": "execute_result"
    }
   ],
   "source": [
    "df_train.dtypes"
   ]
  },
  {
   "cell_type": "code",
   "execution_count": 9,
   "id": "eee5f07b",
   "metadata": {
    "execution": {
     "iopub.execute_input": "2024-10-10T22:51:18.638059Z",
     "iopub.status.busy": "2024-10-10T22:51:18.637337Z",
     "iopub.status.idle": "2024-10-10T22:51:18.698157Z",
     "shell.execute_reply": "2024-10-10T22:51:18.696972Z"
    },
    "papermill": {
     "duration": 0.076679,
     "end_time": "2024-10-10T22:51:18.700574",
     "exception": false,
     "start_time": "2024-10-10T22:51:18.623895",
     "status": "completed"
    },
    "tags": []
   },
   "outputs": [
    {
     "data": {
      "text/html": [
       "<div>\n",
       "<style scoped>\n",
       "    .dataframe tbody tr th:only-of-type {\n",
       "        vertical-align: middle;\n",
       "    }\n",
       "\n",
       "    .dataframe tbody tr th {\n",
       "        vertical-align: top;\n",
       "    }\n",
       "\n",
       "    .dataframe thead th {\n",
       "        text-align: right;\n",
       "    }\n",
       "</style>\n",
       "<table border=\"1\" class=\"dataframe\">\n",
       "  <thead>\n",
       "    <tr style=\"text-align: right;\">\n",
       "      <th></th>\n",
       "      <th>id</th>\n",
       "      <th>person_age</th>\n",
       "      <th>person_income</th>\n",
       "      <th>person_emp_length</th>\n",
       "      <th>loan_amnt</th>\n",
       "      <th>loan_int_rate</th>\n",
       "      <th>loan_percent_income</th>\n",
       "      <th>cb_person_cred_hist_length</th>\n",
       "      <th>loan_status</th>\n",
       "    </tr>\n",
       "  </thead>\n",
       "  <tbody>\n",
       "    <tr>\n",
       "      <th>count</th>\n",
       "      <td>58645.000000</td>\n",
       "      <td>58645.000000</td>\n",
       "      <td>5.864500e+04</td>\n",
       "      <td>58645.000000</td>\n",
       "      <td>58645.000000</td>\n",
       "      <td>58645.000000</td>\n",
       "      <td>58645.000000</td>\n",
       "      <td>58645.000000</td>\n",
       "      <td>58645.000000</td>\n",
       "    </tr>\n",
       "    <tr>\n",
       "      <th>mean</th>\n",
       "      <td>29322.000000</td>\n",
       "      <td>27.550857</td>\n",
       "      <td>6.404617e+04</td>\n",
       "      <td>4.701015</td>\n",
       "      <td>9217.556518</td>\n",
       "      <td>10.677874</td>\n",
       "      <td>0.159238</td>\n",
       "      <td>5.813556</td>\n",
       "      <td>0.142382</td>\n",
       "    </tr>\n",
       "    <tr>\n",
       "      <th>std</th>\n",
       "      <td>16929.497605</td>\n",
       "      <td>6.033216</td>\n",
       "      <td>3.793111e+04</td>\n",
       "      <td>3.959784</td>\n",
       "      <td>5563.807384</td>\n",
       "      <td>3.034697</td>\n",
       "      <td>0.091692</td>\n",
       "      <td>4.029196</td>\n",
       "      <td>0.349445</td>\n",
       "    </tr>\n",
       "    <tr>\n",
       "      <th>min</th>\n",
       "      <td>0.000000</td>\n",
       "      <td>20.000000</td>\n",
       "      <td>4.200000e+03</td>\n",
       "      <td>0.000000</td>\n",
       "      <td>500.000000</td>\n",
       "      <td>5.420000</td>\n",
       "      <td>0.000000</td>\n",
       "      <td>2.000000</td>\n",
       "      <td>0.000000</td>\n",
       "    </tr>\n",
       "    <tr>\n",
       "      <th>25%</th>\n",
       "      <td>14661.000000</td>\n",
       "      <td>23.000000</td>\n",
       "      <td>4.200000e+04</td>\n",
       "      <td>2.000000</td>\n",
       "      <td>5000.000000</td>\n",
       "      <td>7.880000</td>\n",
       "      <td>0.090000</td>\n",
       "      <td>3.000000</td>\n",
       "      <td>0.000000</td>\n",
       "    </tr>\n",
       "    <tr>\n",
       "      <th>50%</th>\n",
       "      <td>29322.000000</td>\n",
       "      <td>26.000000</td>\n",
       "      <td>5.800000e+04</td>\n",
       "      <td>4.000000</td>\n",
       "      <td>8000.000000</td>\n",
       "      <td>10.750000</td>\n",
       "      <td>0.140000</td>\n",
       "      <td>4.000000</td>\n",
       "      <td>0.000000</td>\n",
       "    </tr>\n",
       "    <tr>\n",
       "      <th>75%</th>\n",
       "      <td>43983.000000</td>\n",
       "      <td>30.000000</td>\n",
       "      <td>7.560000e+04</td>\n",
       "      <td>7.000000</td>\n",
       "      <td>12000.000000</td>\n",
       "      <td>12.990000</td>\n",
       "      <td>0.210000</td>\n",
       "      <td>8.000000</td>\n",
       "      <td>0.000000</td>\n",
       "    </tr>\n",
       "    <tr>\n",
       "      <th>max</th>\n",
       "      <td>58644.000000</td>\n",
       "      <td>123.000000</td>\n",
       "      <td>1.900000e+06</td>\n",
       "      <td>123.000000</td>\n",
       "      <td>35000.000000</td>\n",
       "      <td>23.220000</td>\n",
       "      <td>0.830000</td>\n",
       "      <td>30.000000</td>\n",
       "      <td>1.000000</td>\n",
       "    </tr>\n",
       "  </tbody>\n",
       "</table>\n",
       "</div>"
      ],
      "text/plain": [
       "                 id    person_age  person_income  person_emp_length  \\\n",
       "count  58645.000000  58645.000000   5.864500e+04       58645.000000   \n",
       "mean   29322.000000     27.550857   6.404617e+04           4.701015   \n",
       "std    16929.497605      6.033216   3.793111e+04           3.959784   \n",
       "min        0.000000     20.000000   4.200000e+03           0.000000   \n",
       "25%    14661.000000     23.000000   4.200000e+04           2.000000   \n",
       "50%    29322.000000     26.000000   5.800000e+04           4.000000   \n",
       "75%    43983.000000     30.000000   7.560000e+04           7.000000   \n",
       "max    58644.000000    123.000000   1.900000e+06         123.000000   \n",
       "\n",
       "          loan_amnt  loan_int_rate  loan_percent_income  \\\n",
       "count  58645.000000   58645.000000         58645.000000   \n",
       "mean    9217.556518      10.677874             0.159238   \n",
       "std     5563.807384       3.034697             0.091692   \n",
       "min      500.000000       5.420000             0.000000   \n",
       "25%     5000.000000       7.880000             0.090000   \n",
       "50%     8000.000000      10.750000             0.140000   \n",
       "75%    12000.000000      12.990000             0.210000   \n",
       "max    35000.000000      23.220000             0.830000   \n",
       "\n",
       "       cb_person_cred_hist_length   loan_status  \n",
       "count                58645.000000  58645.000000  \n",
       "mean                     5.813556      0.142382  \n",
       "std                      4.029196      0.349445  \n",
       "min                      2.000000      0.000000  \n",
       "25%                      3.000000      0.000000  \n",
       "50%                      4.000000      0.000000  \n",
       "75%                      8.000000      0.000000  \n",
       "max                     30.000000      1.000000  "
      ]
     },
     "execution_count": 9,
     "metadata": {},
     "output_type": "execute_result"
    }
   ],
   "source": [
    "df_train.describe()"
   ]
  },
  {
   "cell_type": "code",
   "execution_count": 10,
   "id": "56fad2de",
   "metadata": {
    "execution": {
     "iopub.execute_input": "2024-10-10T22:51:18.727523Z",
     "iopub.status.busy": "2024-10-10T22:51:18.726996Z",
     "iopub.status.idle": "2024-10-10T22:51:18.741771Z",
     "shell.execute_reply": "2024-10-10T22:51:18.740368Z"
    },
    "papermill": {
     "duration": 0.031643,
     "end_time": "2024-10-10T22:51:18.744761",
     "exception": false,
     "start_time": "2024-10-10T22:51:18.713118",
     "status": "completed"
    },
    "tags": []
   },
   "outputs": [],
   "source": [
    "df_train.drop([\"id\"], axis=1, inplace=True)"
   ]
  },
  {
   "cell_type": "markdown",
   "id": "45aba3c7",
   "metadata": {
    "papermill": {
     "duration": 0.012213,
     "end_time": "2024-10-10T22:51:18.770051",
     "exception": false,
     "start_time": "2024-10-10T22:51:18.757838",
     "status": "completed"
    },
    "tags": []
   },
   "source": [
    " # Preprocessing and Encoding Categorical Features"
   ]
  },
  {
   "cell_type": "code",
   "execution_count": 11,
   "id": "268f1217",
   "metadata": {
    "execution": {
     "iopub.execute_input": "2024-10-10T22:51:18.797645Z",
     "iopub.status.busy": "2024-10-10T22:51:18.796642Z",
     "iopub.status.idle": "2024-10-10T22:51:19.059407Z",
     "shell.execute_reply": "2024-10-10T22:51:19.058383Z"
    },
    "papermill": {
     "duration": 0.279428,
     "end_time": "2024-10-10T22:51:19.062198",
     "exception": false,
     "start_time": "2024-10-10T22:51:18.782770",
     "status": "completed"
    },
    "tags": []
   },
   "outputs": [],
   "source": [
    "from sklearn.model_selection import train_test_split\n",
    "from sklearn.preprocessing import OneHotEncoder, StandardScaler"
   ]
  },
  {
   "cell_type": "markdown",
   "id": "b8dc0580",
   "metadata": {
    "papermill": {
     "duration": 0.012344,
     "end_time": "2024-10-10T22:51:19.087114",
     "exception": false,
     "start_time": "2024-10-10T22:51:19.074770",
     "status": "completed"
    },
    "tags": []
   },
   "source": [
    "## One-Hot Encoding"
   ]
  },
  {
   "cell_type": "code",
   "execution_count": 12,
   "id": "e7fa43aa",
   "metadata": {
    "execution": {
     "iopub.execute_input": "2024-10-10T22:51:19.114446Z",
     "iopub.status.busy": "2024-10-10T22:51:19.113370Z",
     "iopub.status.idle": "2024-10-10T22:51:19.254910Z",
     "shell.execute_reply": "2024-10-10T22:51:19.253729Z"
    },
    "papermill": {
     "duration": 0.158321,
     "end_time": "2024-10-10T22:51:19.257745",
     "exception": false,
     "start_time": "2024-10-10T22:51:19.099424",
     "status": "completed"
    },
    "tags": []
   },
   "outputs": [
    {
     "name": "stderr",
     "output_type": "stream",
     "text": [
      "/opt/conda/lib/python3.10/site-packages/sklearn/preprocessing/_encoders.py:868: FutureWarning: `sparse` was renamed to `sparse_output` in version 1.2 and will be removed in 1.4. `sparse_output` is ignored unless you leave `sparse` to its default value.\n",
      "  warnings.warn(\n",
      "/opt/conda/lib/python3.10/site-packages/sklearn/preprocessing/_encoders.py:868: FutureWarning: `sparse` was renamed to `sparse_output` in version 1.2 and will be removed in 1.4. `sparse_output` is ignored unless you leave `sparse` to its default value.\n",
      "  warnings.warn(\n"
     ]
    }
   ],
   "source": [
    "categorical_columns = ['loan_intent', 'loan_grade', 'person_home_ownership']\n",
    "encoder = OneHotEncoder(sparse=False, handle_unknown='ignore')\n",
    "X_train_encoded = encoder.fit_transform(df_train[categorical_columns])\n",
    "X_test_encoded = encoder.fit_transform(df_test[categorical_columns])"
   ]
  },
  {
   "cell_type": "markdown",
   "id": "c8cdb3fd",
   "metadata": {
    "papermill": {
     "duration": 0.012741,
     "end_time": "2024-10-10T22:51:19.282981",
     "exception": false,
     "start_time": "2024-10-10T22:51:19.270240",
     "status": "completed"
    },
    "tags": []
   },
   "source": [
    "### Encoded Columns to Dataframe"
   ]
  },
  {
   "cell_type": "code",
   "execution_count": 13,
   "id": "6ed14947",
   "metadata": {
    "execution": {
     "iopub.execute_input": "2024-10-10T22:51:19.310388Z",
     "iopub.status.busy": "2024-10-10T22:51:19.309297Z",
     "iopub.status.idle": "2024-10-10T22:51:19.315996Z",
     "shell.execute_reply": "2024-10-10T22:51:19.314810Z"
    },
    "papermill": {
     "duration": 0.02295,
     "end_time": "2024-10-10T22:51:19.318335",
     "exception": false,
     "start_time": "2024-10-10T22:51:19.295385",
     "status": "completed"
    },
    "tags": []
   },
   "outputs": [],
   "source": [
    "X_train_encoded_df = pd.DataFrame(X_train_encoded, columns=encoder.get_feature_names_out(categorical_columns))\n",
    "X_test_encoded_df = pd.DataFrame(X_test_encoded, columns=encoder.get_feature_names_out(categorical_columns))"
   ]
  },
  {
   "cell_type": "code",
   "execution_count": 14,
   "id": "b70d5a71",
   "metadata": {
    "execution": {
     "iopub.execute_input": "2024-10-10T22:51:19.345596Z",
     "iopub.status.busy": "2024-10-10T22:51:19.345107Z",
     "iopub.status.idle": "2024-10-10T22:51:19.377262Z",
     "shell.execute_reply": "2024-10-10T22:51:19.376094Z"
    },
    "papermill": {
     "duration": 0.049083,
     "end_time": "2024-10-10T22:51:19.379949",
     "exception": false,
     "start_time": "2024-10-10T22:51:19.330866",
     "status": "completed"
    },
    "tags": []
   },
   "outputs": [
    {
     "data": {
      "text/html": [
       "<div>\n",
       "<style scoped>\n",
       "    .dataframe tbody tr th:only-of-type {\n",
       "        vertical-align: middle;\n",
       "    }\n",
       "\n",
       "    .dataframe tbody tr th {\n",
       "        vertical-align: top;\n",
       "    }\n",
       "\n",
       "    .dataframe thead th {\n",
       "        text-align: right;\n",
       "    }\n",
       "</style>\n",
       "<table border=\"1\" class=\"dataframe\">\n",
       "  <thead>\n",
       "    <tr style=\"text-align: right;\">\n",
       "      <th></th>\n",
       "      <th>loan_intent_DEBTCONSOLIDATION</th>\n",
       "      <th>loan_intent_EDUCATION</th>\n",
       "      <th>loan_intent_HOMEIMPROVEMENT</th>\n",
       "      <th>loan_intent_MEDICAL</th>\n",
       "      <th>loan_intent_PERSONAL</th>\n",
       "      <th>loan_intent_VENTURE</th>\n",
       "      <th>loan_grade_A</th>\n",
       "      <th>loan_grade_B</th>\n",
       "      <th>loan_grade_C</th>\n",
       "      <th>loan_grade_D</th>\n",
       "      <th>loan_grade_E</th>\n",
       "      <th>loan_grade_F</th>\n",
       "      <th>loan_grade_G</th>\n",
       "      <th>person_home_ownership_MORTGAGE</th>\n",
       "      <th>person_home_ownership_OTHER</th>\n",
       "      <th>person_home_ownership_OWN</th>\n",
       "      <th>person_home_ownership_RENT</th>\n",
       "    </tr>\n",
       "  </thead>\n",
       "  <tbody>\n",
       "    <tr>\n",
       "      <th>0</th>\n",
       "      <td>0.0</td>\n",
       "      <td>1.0</td>\n",
       "      <td>0.0</td>\n",
       "      <td>0.0</td>\n",
       "      <td>0.0</td>\n",
       "      <td>0.0</td>\n",
       "      <td>0.0</td>\n",
       "      <td>1.0</td>\n",
       "      <td>0.0</td>\n",
       "      <td>0.0</td>\n",
       "      <td>0.0</td>\n",
       "      <td>0.0</td>\n",
       "      <td>0.0</td>\n",
       "      <td>0.0</td>\n",
       "      <td>0.0</td>\n",
       "      <td>0.0</td>\n",
       "      <td>1.0</td>\n",
       "    </tr>\n",
       "    <tr>\n",
       "      <th>1</th>\n",
       "      <td>0.0</td>\n",
       "      <td>0.0</td>\n",
       "      <td>0.0</td>\n",
       "      <td>1.0</td>\n",
       "      <td>0.0</td>\n",
       "      <td>0.0</td>\n",
       "      <td>0.0</td>\n",
       "      <td>0.0</td>\n",
       "      <td>1.0</td>\n",
       "      <td>0.0</td>\n",
       "      <td>0.0</td>\n",
       "      <td>0.0</td>\n",
       "      <td>0.0</td>\n",
       "      <td>0.0</td>\n",
       "      <td>0.0</td>\n",
       "      <td>1.0</td>\n",
       "      <td>0.0</td>\n",
       "    </tr>\n",
       "    <tr>\n",
       "      <th>2</th>\n",
       "      <td>0.0</td>\n",
       "      <td>0.0</td>\n",
       "      <td>0.0</td>\n",
       "      <td>0.0</td>\n",
       "      <td>1.0</td>\n",
       "      <td>0.0</td>\n",
       "      <td>1.0</td>\n",
       "      <td>0.0</td>\n",
       "      <td>0.0</td>\n",
       "      <td>0.0</td>\n",
       "      <td>0.0</td>\n",
       "      <td>0.0</td>\n",
       "      <td>0.0</td>\n",
       "      <td>0.0</td>\n",
       "      <td>0.0</td>\n",
       "      <td>1.0</td>\n",
       "      <td>0.0</td>\n",
       "    </tr>\n",
       "    <tr>\n",
       "      <th>3</th>\n",
       "      <td>0.0</td>\n",
       "      <td>0.0</td>\n",
       "      <td>0.0</td>\n",
       "      <td>0.0</td>\n",
       "      <td>0.0</td>\n",
       "      <td>1.0</td>\n",
       "      <td>0.0</td>\n",
       "      <td>1.0</td>\n",
       "      <td>0.0</td>\n",
       "      <td>0.0</td>\n",
       "      <td>0.0</td>\n",
       "      <td>0.0</td>\n",
       "      <td>0.0</td>\n",
       "      <td>0.0</td>\n",
       "      <td>0.0</td>\n",
       "      <td>0.0</td>\n",
       "      <td>1.0</td>\n",
       "    </tr>\n",
       "    <tr>\n",
       "      <th>4</th>\n",
       "      <td>0.0</td>\n",
       "      <td>0.0</td>\n",
       "      <td>0.0</td>\n",
       "      <td>1.0</td>\n",
       "      <td>0.0</td>\n",
       "      <td>0.0</td>\n",
       "      <td>1.0</td>\n",
       "      <td>0.0</td>\n",
       "      <td>0.0</td>\n",
       "      <td>0.0</td>\n",
       "      <td>0.0</td>\n",
       "      <td>0.0</td>\n",
       "      <td>0.0</td>\n",
       "      <td>0.0</td>\n",
       "      <td>0.0</td>\n",
       "      <td>0.0</td>\n",
       "      <td>1.0</td>\n",
       "    </tr>\n",
       "  </tbody>\n",
       "</table>\n",
       "</div>"
      ],
      "text/plain": [
       "   loan_intent_DEBTCONSOLIDATION  loan_intent_EDUCATION  \\\n",
       "0                            0.0                    1.0   \n",
       "1                            0.0                    0.0   \n",
       "2                            0.0                    0.0   \n",
       "3                            0.0                    0.0   \n",
       "4                            0.0                    0.0   \n",
       "\n",
       "   loan_intent_HOMEIMPROVEMENT  loan_intent_MEDICAL  loan_intent_PERSONAL  \\\n",
       "0                          0.0                  0.0                   0.0   \n",
       "1                          0.0                  1.0                   0.0   \n",
       "2                          0.0                  0.0                   1.0   \n",
       "3                          0.0                  0.0                   0.0   \n",
       "4                          0.0                  1.0                   0.0   \n",
       "\n",
       "   loan_intent_VENTURE  loan_grade_A  loan_grade_B  loan_grade_C  \\\n",
       "0                  0.0           0.0           1.0           0.0   \n",
       "1                  0.0           0.0           0.0           1.0   \n",
       "2                  0.0           1.0           0.0           0.0   \n",
       "3                  1.0           0.0           1.0           0.0   \n",
       "4                  0.0           1.0           0.0           0.0   \n",
       "\n",
       "   loan_grade_D  loan_grade_E  loan_grade_F  loan_grade_G  \\\n",
       "0           0.0           0.0           0.0           0.0   \n",
       "1           0.0           0.0           0.0           0.0   \n",
       "2           0.0           0.0           0.0           0.0   \n",
       "3           0.0           0.0           0.0           0.0   \n",
       "4           0.0           0.0           0.0           0.0   \n",
       "\n",
       "   person_home_ownership_MORTGAGE  person_home_ownership_OTHER  \\\n",
       "0                             0.0                          0.0   \n",
       "1                             0.0                          0.0   \n",
       "2                             0.0                          0.0   \n",
       "3                             0.0                          0.0   \n",
       "4                             0.0                          0.0   \n",
       "\n",
       "   person_home_ownership_OWN  person_home_ownership_RENT  \n",
       "0                        0.0                         1.0  \n",
       "1                        1.0                         0.0  \n",
       "2                        1.0                         0.0  \n",
       "3                        0.0                         1.0  \n",
       "4                        0.0                         1.0  "
      ]
     },
     "execution_count": 14,
     "metadata": {},
     "output_type": "execute_result"
    }
   ],
   "source": [
    "X_train_encoded_df.head()"
   ]
  },
  {
   "cell_type": "markdown",
   "id": "82f11aa1",
   "metadata": {
    "papermill": {
     "duration": 0.012847,
     "end_time": "2024-10-10T22:51:19.405895",
     "exception": false,
     "start_time": "2024-10-10T22:51:19.393048",
     "status": "completed"
    },
    "tags": []
   },
   "source": [
    "## Concatenate Numerical Data"
   ]
  },
  {
   "cell_type": "code",
   "execution_count": 15,
   "id": "5e8d0607",
   "metadata": {
    "execution": {
     "iopub.execute_input": "2024-10-10T22:51:19.433804Z",
     "iopub.status.busy": "2024-10-10T22:51:19.433319Z",
     "iopub.status.idle": "2024-10-10T22:51:19.445962Z",
     "shell.execute_reply": "2024-10-10T22:51:19.444454Z"
    },
    "papermill": {
     "duration": 0.02974,
     "end_time": "2024-10-10T22:51:19.448665",
     "exception": false,
     "start_time": "2024-10-10T22:51:19.418925",
     "status": "completed"
    },
    "tags": []
   },
   "outputs": [],
   "source": [
    "X_train_num = df_train.drop(categorical_columns + [\"cb_person_default_on_file\"], axis=1).reset_index(drop=True)\n",
    "X_test_num = df_test.drop(categorical_columns+ [\"cb_person_default_on_file\"], axis=1).reset_index(drop=True)"
   ]
  },
  {
   "cell_type": "code",
   "execution_count": 16,
   "id": "89a2f963",
   "metadata": {
    "execution": {
     "iopub.execute_input": "2024-10-10T22:51:19.476419Z",
     "iopub.status.busy": "2024-10-10T22:51:19.475941Z",
     "iopub.status.idle": "2024-10-10T22:51:19.492235Z",
     "shell.execute_reply": "2024-10-10T22:51:19.491072Z"
    },
    "papermill": {
     "duration": 0.033384,
     "end_time": "2024-10-10T22:51:19.494906",
     "exception": false,
     "start_time": "2024-10-10T22:51:19.461522",
     "status": "completed"
    },
    "tags": []
   },
   "outputs": [
    {
     "data": {
      "text/html": [
       "<div>\n",
       "<style scoped>\n",
       "    .dataframe tbody tr th:only-of-type {\n",
       "        vertical-align: middle;\n",
       "    }\n",
       "\n",
       "    .dataframe tbody tr th {\n",
       "        vertical-align: top;\n",
       "    }\n",
       "\n",
       "    .dataframe thead th {\n",
       "        text-align: right;\n",
       "    }\n",
       "</style>\n",
       "<table border=\"1\" class=\"dataframe\">\n",
       "  <thead>\n",
       "    <tr style=\"text-align: right;\">\n",
       "      <th></th>\n",
       "      <th>person_age</th>\n",
       "      <th>person_income</th>\n",
       "      <th>person_emp_length</th>\n",
       "      <th>loan_amnt</th>\n",
       "      <th>loan_int_rate</th>\n",
       "      <th>loan_percent_income</th>\n",
       "      <th>cb_person_cred_hist_length</th>\n",
       "      <th>loan_status</th>\n",
       "    </tr>\n",
       "  </thead>\n",
       "  <tbody>\n",
       "    <tr>\n",
       "      <th>0</th>\n",
       "      <td>37</td>\n",
       "      <td>35000</td>\n",
       "      <td>0.0</td>\n",
       "      <td>6000</td>\n",
       "      <td>11.49</td>\n",
       "      <td>0.17</td>\n",
       "      <td>14</td>\n",
       "      <td>0</td>\n",
       "    </tr>\n",
       "    <tr>\n",
       "      <th>1</th>\n",
       "      <td>22</td>\n",
       "      <td>56000</td>\n",
       "      <td>6.0</td>\n",
       "      <td>4000</td>\n",
       "      <td>13.35</td>\n",
       "      <td>0.07</td>\n",
       "      <td>2</td>\n",
       "      <td>0</td>\n",
       "    </tr>\n",
       "    <tr>\n",
       "      <th>2</th>\n",
       "      <td>29</td>\n",
       "      <td>28800</td>\n",
       "      <td>8.0</td>\n",
       "      <td>6000</td>\n",
       "      <td>8.90</td>\n",
       "      <td>0.21</td>\n",
       "      <td>10</td>\n",
       "      <td>0</td>\n",
       "    </tr>\n",
       "    <tr>\n",
       "      <th>3</th>\n",
       "      <td>30</td>\n",
       "      <td>70000</td>\n",
       "      <td>14.0</td>\n",
       "      <td>12000</td>\n",
       "      <td>11.11</td>\n",
       "      <td>0.17</td>\n",
       "      <td>5</td>\n",
       "      <td>0</td>\n",
       "    </tr>\n",
       "    <tr>\n",
       "      <th>4</th>\n",
       "      <td>22</td>\n",
       "      <td>60000</td>\n",
       "      <td>2.0</td>\n",
       "      <td>6000</td>\n",
       "      <td>6.92</td>\n",
       "      <td>0.10</td>\n",
       "      <td>3</td>\n",
       "      <td>0</td>\n",
       "    </tr>\n",
       "  </tbody>\n",
       "</table>\n",
       "</div>"
      ],
      "text/plain": [
       "   person_age  person_income  person_emp_length  loan_amnt  loan_int_rate  \\\n",
       "0          37          35000                0.0       6000          11.49   \n",
       "1          22          56000                6.0       4000          13.35   \n",
       "2          29          28800                8.0       6000           8.90   \n",
       "3          30          70000               14.0      12000          11.11   \n",
       "4          22          60000                2.0       6000           6.92   \n",
       "\n",
       "   loan_percent_income  cb_person_cred_hist_length  loan_status  \n",
       "0                 0.17                          14            0  \n",
       "1                 0.07                           2            0  \n",
       "2                 0.21                          10            0  \n",
       "3                 0.17                           5            0  \n",
       "4                 0.10                           3            0  "
      ]
     },
     "execution_count": 16,
     "metadata": {},
     "output_type": "execute_result"
    }
   ],
   "source": [
    "X_train_num.head()"
   ]
  },
  {
   "cell_type": "markdown",
   "id": "51c28222",
   "metadata": {
    "papermill": {
     "duration": 0.012976,
     "end_time": "2024-10-10T22:51:19.521078",
     "exception": false,
     "start_time": "2024-10-10T22:51:19.508102",
     "status": "completed"
    },
    "tags": []
   },
   "source": [
    "## Standardize Numerical Data"
   ]
  },
  {
   "cell_type": "code",
   "execution_count": 17,
   "id": "8ca159c2",
   "metadata": {
    "execution": {
     "iopub.execute_input": "2024-10-10T22:51:19.551576Z",
     "iopub.status.busy": "2024-10-10T22:51:19.550709Z",
     "iopub.status.idle": "2024-10-10T22:51:19.583752Z",
     "shell.execute_reply": "2024-10-10T22:51:19.582489Z"
    },
    "papermill": {
     "duration": 0.050964,
     "end_time": "2024-10-10T22:51:19.586789",
     "exception": false,
     "start_time": "2024-10-10T22:51:19.535825",
     "status": "completed"
    },
    "tags": []
   },
   "outputs": [],
   "source": [
    "scaler = StandardScaler()\n",
    "X_train_num_scaled = scaler.fit_transform(X_train_num) \n",
    "X_test_num_scaled = scaler.fit_transform(X_test_num)"
   ]
  },
  {
   "cell_type": "markdown",
   "id": "9e1632e7",
   "metadata": {
    "papermill": {
     "duration": 0.013094,
     "end_time": "2024-10-10T22:51:19.613446",
     "exception": false,
     "start_time": "2024-10-10T22:51:19.600352",
     "status": "completed"
    },
    "tags": []
   },
   "source": [
    "### To DataFrame "
   ]
  },
  {
   "cell_type": "code",
   "execution_count": 18,
   "id": "27bebce9",
   "metadata": {
    "execution": {
     "iopub.execute_input": "2024-10-10T22:51:19.641660Z",
     "iopub.status.busy": "2024-10-10T22:51:19.641176Z",
     "iopub.status.idle": "2024-10-10T22:51:19.647286Z",
     "shell.execute_reply": "2024-10-10T22:51:19.646131Z"
    },
    "papermill": {
     "duration": 0.023266,
     "end_time": "2024-10-10T22:51:19.649857",
     "exception": false,
     "start_time": "2024-10-10T22:51:19.626591",
     "status": "completed"
    },
    "tags": []
   },
   "outputs": [],
   "source": [
    "X_train_num_df = pd.DataFrame(X_train_num_scaled, columns=X_train_num.columns)\n",
    "X_test_num_df = pd.DataFrame(X_test_num_scaled, columns=X_test_num.columns)\n"
   ]
  },
  {
   "cell_type": "code",
   "execution_count": 19,
   "id": "969782fd",
   "metadata": {
    "execution": {
     "iopub.execute_input": "2024-10-10T22:51:19.678452Z",
     "iopub.status.busy": "2024-10-10T22:51:19.678019Z",
     "iopub.status.idle": "2024-10-10T22:51:19.694868Z",
     "shell.execute_reply": "2024-10-10T22:51:19.693634Z"
    },
    "papermill": {
     "duration": 0.033974,
     "end_time": "2024-10-10T22:51:19.697328",
     "exception": false,
     "start_time": "2024-10-10T22:51:19.663354",
     "status": "completed"
    },
    "tags": []
   },
   "outputs": [
    {
     "data": {
      "text/html": [
       "<div>\n",
       "<style scoped>\n",
       "    .dataframe tbody tr th:only-of-type {\n",
       "        vertical-align: middle;\n",
       "    }\n",
       "\n",
       "    .dataframe tbody tr th {\n",
       "        vertical-align: top;\n",
       "    }\n",
       "\n",
       "    .dataframe thead th {\n",
       "        text-align: right;\n",
       "    }\n",
       "</style>\n",
       "<table border=\"1\" class=\"dataframe\">\n",
       "  <thead>\n",
       "    <tr style=\"text-align: right;\">\n",
       "      <th></th>\n",
       "      <th>person_age</th>\n",
       "      <th>person_income</th>\n",
       "      <th>person_emp_length</th>\n",
       "      <th>loan_amnt</th>\n",
       "      <th>loan_int_rate</th>\n",
       "      <th>loan_percent_income</th>\n",
       "      <th>cb_person_cred_hist_length</th>\n",
       "      <th>loan_status</th>\n",
       "    </tr>\n",
       "  </thead>\n",
       "  <tbody>\n",
       "    <tr>\n",
       "      <th>0</th>\n",
       "      <td>1.566200</td>\n",
       "      <td>-0.765768</td>\n",
       "      <td>-1.187200</td>\n",
       "      <td>-0.578306</td>\n",
       "      <td>0.267616</td>\n",
       "      <td>0.117378</td>\n",
       "      <td>2.031798</td>\n",
       "      <td>-0.407456</td>\n",
       "    </tr>\n",
       "    <tr>\n",
       "      <th>1</th>\n",
       "      <td>-0.920057</td>\n",
       "      <td>-0.212128</td>\n",
       "      <td>0.328047</td>\n",
       "      <td>-0.937775</td>\n",
       "      <td>0.880532</td>\n",
       "      <td>-0.973242</td>\n",
       "      <td>-0.946489</td>\n",
       "      <td>-0.407456</td>\n",
       "    </tr>\n",
       "    <tr>\n",
       "      <th>2</th>\n",
       "      <td>0.240196</td>\n",
       "      <td>-0.929223</td>\n",
       "      <td>0.833130</td>\n",
       "      <td>-0.578306</td>\n",
       "      <td>-0.585854</td>\n",
       "      <td>0.553626</td>\n",
       "      <td>1.039036</td>\n",
       "      <td>-0.407456</td>\n",
       "    </tr>\n",
       "    <tr>\n",
       "      <th>3</th>\n",
       "      <td>0.405947</td>\n",
       "      <td>0.156966</td>\n",
       "      <td>2.348377</td>\n",
       "      <td>0.500101</td>\n",
       "      <td>0.142396</td>\n",
       "      <td>0.117378</td>\n",
       "      <td>-0.201917</td>\n",
       "      <td>-0.407456</td>\n",
       "    </tr>\n",
       "    <tr>\n",
       "      <th>4</th>\n",
       "      <td>-0.920057</td>\n",
       "      <td>-0.106673</td>\n",
       "      <td>-0.682117</td>\n",
       "      <td>-0.578306</td>\n",
       "      <td>-1.238314</td>\n",
       "      <td>-0.646056</td>\n",
       "      <td>-0.698298</td>\n",
       "      <td>-0.407456</td>\n",
       "    </tr>\n",
       "  </tbody>\n",
       "</table>\n",
       "</div>"
      ],
      "text/plain": [
       "   person_age  person_income  person_emp_length  loan_amnt  loan_int_rate  \\\n",
       "0    1.566200      -0.765768          -1.187200  -0.578306       0.267616   \n",
       "1   -0.920057      -0.212128           0.328047  -0.937775       0.880532   \n",
       "2    0.240196      -0.929223           0.833130  -0.578306      -0.585854   \n",
       "3    0.405947       0.156966           2.348377   0.500101       0.142396   \n",
       "4   -0.920057      -0.106673          -0.682117  -0.578306      -1.238314   \n",
       "\n",
       "   loan_percent_income  cb_person_cred_hist_length  loan_status  \n",
       "0             0.117378                    2.031798    -0.407456  \n",
       "1            -0.973242                   -0.946489    -0.407456  \n",
       "2             0.553626                    1.039036    -0.407456  \n",
       "3             0.117378                   -0.201917    -0.407456  \n",
       "4            -0.646056                   -0.698298    -0.407456  "
      ]
     },
     "execution_count": 19,
     "metadata": {},
     "output_type": "execute_result"
    }
   ],
   "source": [
    "X_train_num_df.head()"
   ]
  },
  {
   "cell_type": "code",
   "execution_count": 20,
   "id": "263e0160",
   "metadata": {
    "execution": {
     "iopub.execute_input": "2024-10-10T22:51:19.726451Z",
     "iopub.status.busy": "2024-10-10T22:51:19.725556Z",
     "iopub.status.idle": "2024-10-10T22:51:19.749119Z",
     "shell.execute_reply": "2024-10-10T22:51:19.747852Z"
    },
    "papermill": {
     "duration": 0.04116,
     "end_time": "2024-10-10T22:51:19.751931",
     "exception": false,
     "start_time": "2024-10-10T22:51:19.710771",
     "status": "completed"
    },
    "tags": []
   },
   "outputs": [],
   "source": [
    "X_train_final = pd.concat([X_train_num_df, X_train_encoded_df], axis=1)\n",
    "X_test_final = pd.concat([X_test_num_df, X_test_encoded_df], axis=1)"
   ]
  },
  {
   "cell_type": "code",
   "execution_count": 21,
   "id": "c9bf0cbe",
   "metadata": {
    "execution": {
     "iopub.execute_input": "2024-10-10T22:51:19.781290Z",
     "iopub.status.busy": "2024-10-10T22:51:19.780822Z",
     "iopub.status.idle": "2024-10-10T22:51:19.786912Z",
     "shell.execute_reply": "2024-10-10T22:51:19.785420Z"
    },
    "papermill": {
     "duration": 0.024118,
     "end_time": "2024-10-10T22:51:19.789703",
     "exception": false,
     "start_time": "2024-10-10T22:51:19.765585",
     "status": "completed"
    },
    "tags": []
   },
   "outputs": [],
   "source": [
    "y_train = df_train['loan_status']"
   ]
  },
  {
   "cell_type": "code",
   "execution_count": 22,
   "id": "59743d69",
   "metadata": {
    "execution": {
     "iopub.execute_input": "2024-10-10T22:51:19.818774Z",
     "iopub.status.busy": "2024-10-10T22:51:19.818301Z",
     "iopub.status.idle": "2024-10-10T22:51:19.847133Z",
     "shell.execute_reply": "2024-10-10T22:51:19.845929Z"
    },
    "papermill": {
     "duration": 0.046857,
     "end_time": "2024-10-10T22:51:19.850054",
     "exception": false,
     "start_time": "2024-10-10T22:51:19.803197",
     "status": "completed"
    },
    "tags": []
   },
   "outputs": [],
   "source": [
    "X_train_split, X_val_split, y_train_split, y_val_split = train_test_split(X_train_final, y_train, test_size=0.3, random_state=42)"
   ]
  },
  {
   "cell_type": "code",
   "execution_count": 23,
   "id": "bdc6eb8c",
   "metadata": {
    "execution": {
     "iopub.execute_input": "2024-10-10T22:51:19.879703Z",
     "iopub.status.busy": "2024-10-10T22:51:19.879222Z",
     "iopub.status.idle": "2024-10-10T22:51:19.899734Z",
     "shell.execute_reply": "2024-10-10T22:51:19.898387Z"
    },
    "papermill": {
     "duration": 0.038708,
     "end_time": "2024-10-10T22:51:19.902624",
     "exception": false,
     "start_time": "2024-10-10T22:51:19.863916",
     "status": "completed"
    },
    "tags": []
   },
   "outputs": [
    {
     "name": "stdout",
     "output_type": "stream",
     "text": [
      "   person_age  person_income  person_emp_length  loan_amnt  loan_int_rate  \\\n",
      "0    1.566200      -0.765768          -1.187200  -0.578306       0.267616   \n",
      "1   -0.920057      -0.212128           0.328047  -0.937775       0.880532   \n",
      "2    0.240196      -0.929223           0.833130  -0.578306      -0.585854   \n",
      "3    0.405947       0.156966           2.348377   0.500101       0.142396   \n",
      "4   -0.920057      -0.106673          -0.682117  -0.578306      -1.238314   \n",
      "\n",
      "   loan_percent_income  cb_person_cred_hist_length  loan_status  \\\n",
      "0             0.117378                    2.031798    -0.407456   \n",
      "1            -0.973242                   -0.946489    -0.407456   \n",
      "2             0.553626                    1.039036    -0.407456   \n",
      "3             0.117378                   -0.201917    -0.407456   \n",
      "4            -0.646056                   -0.698298    -0.407456   \n",
      "\n",
      "   loan_intent_DEBTCONSOLIDATION  loan_intent_EDUCATION  ...  loan_grade_B  \\\n",
      "0                            0.0                    1.0  ...           1.0   \n",
      "1                            0.0                    0.0  ...           0.0   \n",
      "2                            0.0                    0.0  ...           0.0   \n",
      "3                            0.0                    0.0  ...           1.0   \n",
      "4                            0.0                    0.0  ...           0.0   \n",
      "\n",
      "   loan_grade_C  loan_grade_D  loan_grade_E  loan_grade_F  loan_grade_G  \\\n",
      "0           0.0           0.0           0.0           0.0           0.0   \n",
      "1           1.0           0.0           0.0           0.0           0.0   \n",
      "2           0.0           0.0           0.0           0.0           0.0   \n",
      "3           0.0           0.0           0.0           0.0           0.0   \n",
      "4           0.0           0.0           0.0           0.0           0.0   \n",
      "\n",
      "   person_home_ownership_MORTGAGE  person_home_ownership_OTHER  \\\n",
      "0                             0.0                          0.0   \n",
      "1                             0.0                          0.0   \n",
      "2                             0.0                          0.0   \n",
      "3                             0.0                          0.0   \n",
      "4                             0.0                          0.0   \n",
      "\n",
      "   person_home_ownership_OWN  person_home_ownership_RENT  \n",
      "0                        0.0                         1.0  \n",
      "1                        1.0                         0.0  \n",
      "2                        1.0                         0.0  \n",
      "3                        0.0                         1.0  \n",
      "4                        0.0                         1.0  \n",
      "\n",
      "[5 rows x 25 columns]\n"
     ]
    }
   ],
   "source": [
    "print(X_train_final.head())\n"
   ]
  },
  {
   "cell_type": "markdown",
   "id": "42751577",
   "metadata": {
    "papermill": {
     "duration": 0.013434,
     "end_time": "2024-10-10T22:51:19.929714",
     "exception": false,
     "start_time": "2024-10-10T22:51:19.916280",
     "status": "completed"
    },
    "tags": []
   },
   "source": [
    "# Building ANN Model "
   ]
  },
  {
   "cell_type": "code",
   "execution_count": 24,
   "id": "55b5f2e1",
   "metadata": {
    "execution": {
     "iopub.execute_input": "2024-10-10T22:51:19.959036Z",
     "iopub.status.busy": "2024-10-10T22:51:19.958574Z",
     "iopub.status.idle": "2024-10-10T22:51:34.498734Z",
     "shell.execute_reply": "2024-10-10T22:51:34.497558Z"
    },
    "papermill": {
     "duration": 14.558127,
     "end_time": "2024-10-10T22:51:34.501574",
     "exception": false,
     "start_time": "2024-10-10T22:51:19.943447",
     "status": "completed"
    },
    "tags": []
   },
   "outputs": [],
   "source": [
    "import tensorflow as tf\n",
    "from tensorflow.keras.models import Sequential\n",
    "from tensorflow.keras.layers import Dense, Dropout\n",
    "\n",
    "model = Sequential()"
   ]
  },
  {
   "cell_type": "code",
   "execution_count": 25,
   "id": "5e1c294e",
   "metadata": {
    "execution": {
     "iopub.execute_input": "2024-10-10T22:51:34.531781Z",
     "iopub.status.busy": "2024-10-10T22:51:34.530998Z",
     "iopub.status.idle": "2024-10-10T22:51:34.665908Z",
     "shell.execute_reply": "2024-10-10T22:51:34.664793Z"
    },
    "papermill": {
     "duration": 0.152937,
     "end_time": "2024-10-10T22:51:34.668365",
     "exception": false,
     "start_time": "2024-10-10T22:51:34.515428",
     "status": "completed"
    },
    "tags": []
   },
   "outputs": [
    {
     "name": "stderr",
     "output_type": "stream",
     "text": [
      "/opt/conda/lib/python3.10/site-packages/keras/src/layers/core/dense.py:87: UserWarning: Do not pass an `input_shape`/`input_dim` argument to a layer. When using Sequential models, prefer using an `Input(shape)` object as the first layer in the model instead.\n",
      "  super().__init__(activity_regularizer=activity_regularizer, **kwargs)\n"
     ]
    },
    {
     "data": {
      "text/html": [
       "<pre style=\"white-space:pre;overflow-x:auto;line-height:normal;font-family:Menlo,'DejaVu Sans Mono',consolas,'Courier New',monospace\"><span style=\"font-weight: bold\">Model: \"sequential\"</span>\n",
       "</pre>\n"
      ],
      "text/plain": [
       "\u001b[1mModel: \"sequential\"\u001b[0m\n"
      ]
     },
     "metadata": {},
     "output_type": "display_data"
    },
    {
     "data": {
      "text/html": [
       "<pre style=\"white-space:pre;overflow-x:auto;line-height:normal;font-family:Menlo,'DejaVu Sans Mono',consolas,'Courier New',monospace\">┏━━━━━━━━━━━━━━━━━━━━━━━━━━━━━━━━━┳━━━━━━━━━━━━━━━━━━━━━━━━┳━━━━━━━━━━━━━━━┓\n",
       "┃<span style=\"font-weight: bold\"> Layer (type)                    </span>┃<span style=\"font-weight: bold\"> Output Shape           </span>┃<span style=\"font-weight: bold\">       Param # </span>┃\n",
       "┡━━━━━━━━━━━━━━━━━━━━━━━━━━━━━━━━━╇━━━━━━━━━━━━━━━━━━━━━━━━╇━━━━━━━━━━━━━━━┩\n",
       "│ dense (<span style=\"color: #0087ff; text-decoration-color: #0087ff\">Dense</span>)                   │ (<span style=\"color: #00d7ff; text-decoration-color: #00d7ff\">None</span>, <span style=\"color: #00af00; text-decoration-color: #00af00\">64</span>)             │         <span style=\"color: #00af00; text-decoration-color: #00af00\">1,664</span> │\n",
       "├─────────────────────────────────┼────────────────────────┼───────────────┤\n",
       "│ dense_1 (<span style=\"color: #0087ff; text-decoration-color: #0087ff\">Dense</span>)                 │ (<span style=\"color: #00d7ff; text-decoration-color: #00d7ff\">None</span>, <span style=\"color: #00af00; text-decoration-color: #00af00\">32</span>)             │         <span style=\"color: #00af00; text-decoration-color: #00af00\">2,080</span> │\n",
       "├─────────────────────────────────┼────────────────────────┼───────────────┤\n",
       "│ dropout (<span style=\"color: #0087ff; text-decoration-color: #0087ff\">Dropout</span>)               │ (<span style=\"color: #00d7ff; text-decoration-color: #00d7ff\">None</span>, <span style=\"color: #00af00; text-decoration-color: #00af00\">32</span>)             │             <span style=\"color: #00af00; text-decoration-color: #00af00\">0</span> │\n",
       "├─────────────────────────────────┼────────────────────────┼───────────────┤\n",
       "│ dense_2 (<span style=\"color: #0087ff; text-decoration-color: #0087ff\">Dense</span>)                 │ (<span style=\"color: #00d7ff; text-decoration-color: #00d7ff\">None</span>, <span style=\"color: #00af00; text-decoration-color: #00af00\">1</span>)              │            <span style=\"color: #00af00; text-decoration-color: #00af00\">33</span> │\n",
       "└─────────────────────────────────┴────────────────────────┴───────────────┘\n",
       "</pre>\n"
      ],
      "text/plain": [
       "┏━━━━━━━━━━━━━━━━━━━━━━━━━━━━━━━━━┳━━━━━━━━━━━━━━━━━━━━━━━━┳━━━━━━━━━━━━━━━┓\n",
       "┃\u001b[1m \u001b[0m\u001b[1mLayer (type)                   \u001b[0m\u001b[1m \u001b[0m┃\u001b[1m \u001b[0m\u001b[1mOutput Shape          \u001b[0m\u001b[1m \u001b[0m┃\u001b[1m \u001b[0m\u001b[1m      Param #\u001b[0m\u001b[1m \u001b[0m┃\n",
       "┡━━━━━━━━━━━━━━━━━━━━━━━━━━━━━━━━━╇━━━━━━━━━━━━━━━━━━━━━━━━╇━━━━━━━━━━━━━━━┩\n",
       "│ dense (\u001b[38;5;33mDense\u001b[0m)                   │ (\u001b[38;5;45mNone\u001b[0m, \u001b[38;5;34m64\u001b[0m)             │         \u001b[38;5;34m1,664\u001b[0m │\n",
       "├─────────────────────────────────┼────────────────────────┼───────────────┤\n",
       "│ dense_1 (\u001b[38;5;33mDense\u001b[0m)                 │ (\u001b[38;5;45mNone\u001b[0m, \u001b[38;5;34m32\u001b[0m)             │         \u001b[38;5;34m2,080\u001b[0m │\n",
       "├─────────────────────────────────┼────────────────────────┼───────────────┤\n",
       "│ dropout (\u001b[38;5;33mDropout\u001b[0m)               │ (\u001b[38;5;45mNone\u001b[0m, \u001b[38;5;34m32\u001b[0m)             │             \u001b[38;5;34m0\u001b[0m │\n",
       "├─────────────────────────────────┼────────────────────────┼───────────────┤\n",
       "│ dense_2 (\u001b[38;5;33mDense\u001b[0m)                 │ (\u001b[38;5;45mNone\u001b[0m, \u001b[38;5;34m1\u001b[0m)              │            \u001b[38;5;34m33\u001b[0m │\n",
       "└─────────────────────────────────┴────────────────────────┴───────────────┘\n"
      ]
     },
     "metadata": {},
     "output_type": "display_data"
    },
    {
     "data": {
      "text/html": [
       "<pre style=\"white-space:pre;overflow-x:auto;line-height:normal;font-family:Menlo,'DejaVu Sans Mono',consolas,'Courier New',monospace\"><span style=\"font-weight: bold\"> Total params: </span><span style=\"color: #00af00; text-decoration-color: #00af00\">3,777</span> (14.75 KB)\n",
       "</pre>\n"
      ],
      "text/plain": [
       "\u001b[1m Total params: \u001b[0m\u001b[38;5;34m3,777\u001b[0m (14.75 KB)\n"
      ]
     },
     "metadata": {},
     "output_type": "display_data"
    },
    {
     "data": {
      "text/html": [
       "<pre style=\"white-space:pre;overflow-x:auto;line-height:normal;font-family:Menlo,'DejaVu Sans Mono',consolas,'Courier New',monospace\"><span style=\"font-weight: bold\"> Trainable params: </span><span style=\"color: #00af00; text-decoration-color: #00af00\">3,777</span> (14.75 KB)\n",
       "</pre>\n"
      ],
      "text/plain": [
       "\u001b[1m Trainable params: \u001b[0m\u001b[38;5;34m3,777\u001b[0m (14.75 KB)\n"
      ]
     },
     "metadata": {},
     "output_type": "display_data"
    },
    {
     "data": {
      "text/html": [
       "<pre style=\"white-space:pre;overflow-x:auto;line-height:normal;font-family:Menlo,'DejaVu Sans Mono',consolas,'Courier New',monospace\"><span style=\"font-weight: bold\"> Non-trainable params: </span><span style=\"color: #00af00; text-decoration-color: #00af00\">0</span> (0.00 B)\n",
       "</pre>\n"
      ],
      "text/plain": [
       "\u001b[1m Non-trainable params: \u001b[0m\u001b[38;5;34m0\u001b[0m (0.00 B)\n"
      ]
     },
     "metadata": {},
     "output_type": "display_data"
    }
   ],
   "source": [
    "#input layer\n",
    "model.add(Dense(units=64, activation =\"relu\", input_shape=(X_train_split.shape[1],)))\n",
    "\n",
    "#hidden layers\n",
    "model.add(Dense(units=32, activation = \"relu\"))\n",
    "model.add(Dropout(0.6)) \n",
    "\n",
    "#output layer\n",
    "model.add(Dense(units=1, activation = \"sigmoid\"))\n",
    "\n",
    "model.compile(optimizer=\"adam\", loss=\"binary_crossentropy\", metrics=[\"accuracy\"])\n",
    "\n",
    "model.summary()"
   ]
  },
  {
   "cell_type": "markdown",
   "id": "cef2c109",
   "metadata": {
    "papermill": {
     "duration": 0.014467,
     "end_time": "2024-10-10T22:51:34.697876",
     "exception": false,
     "start_time": "2024-10-10T22:51:34.683409",
     "status": "completed"
    },
    "tags": []
   },
   "source": [
    "# Training Model"
   ]
  },
  {
   "cell_type": "code",
   "execution_count": 26,
   "id": "743dbbb1",
   "metadata": {
    "execution": {
     "iopub.execute_input": "2024-10-10T22:51:34.729736Z",
     "iopub.status.busy": "2024-10-10T22:51:34.729261Z",
     "iopub.status.idle": "2024-10-10T22:51:34.742994Z",
     "shell.execute_reply": "2024-10-10T22:51:34.741362Z"
    },
    "papermill": {
     "duration": 0.033149,
     "end_time": "2024-10-10T22:51:34.745718",
     "exception": false,
     "start_time": "2024-10-10T22:51:34.712569",
     "status": "completed"
    },
    "tags": []
   },
   "outputs": [
    {
     "name": "stdout",
     "output_type": "stream",
     "text": [
      "loan_status\n",
      "0    50295\n",
      "1     8350\n",
      "Name: count, dtype: int64\n"
     ]
    }
   ],
   "source": [
    "print(df_train['loan_status'].value_counts())"
   ]
  },
  {
   "cell_type": "code",
   "execution_count": 27,
   "id": "0b4630ba",
   "metadata": {
    "execution": {
     "iopub.execute_input": "2024-10-10T22:51:34.778934Z",
     "iopub.status.busy": "2024-10-10T22:51:34.778512Z",
     "iopub.status.idle": "2024-10-10T22:51:45.594809Z",
     "shell.execute_reply": "2024-10-10T22:51:45.593410Z"
    },
    "papermill": {
     "duration": 10.836295,
     "end_time": "2024-10-10T22:51:45.597589",
     "exception": false,
     "start_time": "2024-10-10T22:51:34.761294",
     "status": "completed"
    },
    "tags": []
   },
   "outputs": [
    {
     "name": "stdout",
     "output_type": "stream",
     "text": [
      "Epoch 1/10\n",
      "\u001b[1m352/352\u001b[0m \u001b[32m━━━━━━━━━━━━━━━━━━━━\u001b[0m\u001b[37m\u001b[0m \u001b[1m2s\u001b[0m 3ms/step - accuracy: 0.9041 - loss: 0.2290 - val_accuracy: 0.9999 - val_loss: 3.0478e-04\n",
      "Epoch 2/10\n",
      "\u001b[1m352/352\u001b[0m \u001b[32m━━━━━━━━━━━━━━━━━━━━\u001b[0m\u001b[37m\u001b[0m \u001b[1m1s\u001b[0m 2ms/step - accuracy: 0.9990 - loss: 0.0032 - val_accuracy: 1.0000 - val_loss: 2.1057e-05\n",
      "Epoch 3/10\n",
      "\u001b[1m352/352\u001b[0m \u001b[32m━━━━━━━━━━━━━━━━━━━━\u001b[0m\u001b[37m\u001b[0m \u001b[1m1s\u001b[0m 2ms/step - accuracy: 0.9995 - loss: 0.0015 - val_accuracy: 1.0000 - val_loss: 1.7605e-05\n",
      "Epoch 4/10\n",
      "\u001b[1m352/352\u001b[0m \u001b[32m━━━━━━━━━━━━━━━━━━━━\u001b[0m\u001b[37m\u001b[0m \u001b[1m1s\u001b[0m 2ms/step - accuracy: 0.9991 - loss: 0.0011 - val_accuracy: 1.0000 - val_loss: 1.0873e-05\n",
      "Epoch 5/10\n",
      "\u001b[1m352/352\u001b[0m \u001b[32m━━━━━━━━━━━━━━━━━━━━\u001b[0m\u001b[37m\u001b[0m \u001b[1m1s\u001b[0m 2ms/step - accuracy: 0.9992 - loss: 9.5617e-04 - val_accuracy: 1.0000 - val_loss: 2.7710e-06\n",
      "Epoch 6/10\n",
      "\u001b[1m352/352\u001b[0m \u001b[32m━━━━━━━━━━━━━━━━━━━━\u001b[0m\u001b[37m\u001b[0m \u001b[1m1s\u001b[0m 2ms/step - accuracy: 0.9995 - loss: 6.3256e-04 - val_accuracy: 1.0000 - val_loss: 8.5221e-07\n",
      "Epoch 7/10\n",
      "\u001b[1m352/352\u001b[0m \u001b[32m━━━━━━━━━━━━━━━━━━━━\u001b[0m\u001b[37m\u001b[0m \u001b[1m1s\u001b[0m 2ms/step - accuracy: 0.9993 - loss: 8.2821e-04 - val_accuracy: 1.0000 - val_loss: 1.6607e-06\n",
      "Epoch 8/10\n",
      "\u001b[1m352/352\u001b[0m \u001b[32m━━━━━━━━━━━━━━━━━━━━\u001b[0m\u001b[37m\u001b[0m \u001b[1m1s\u001b[0m 2ms/step - accuracy: 0.9998 - loss: 5.6417e-04 - val_accuracy: 1.0000 - val_loss: 4.9457e-07\n",
      "Epoch 9/10\n",
      "\u001b[1m352/352\u001b[0m \u001b[32m━━━━━━━━━━━━━━━━━━━━\u001b[0m\u001b[37m\u001b[0m \u001b[1m1s\u001b[0m 2ms/step - accuracy: 0.9999 - loss: 5.6475e-04 - val_accuracy: 1.0000 - val_loss: 1.6345e-09\n",
      "Epoch 10/10\n",
      "\u001b[1m352/352\u001b[0m \u001b[32m━━━━━━━━━━━━━━━━━━━━\u001b[0m\u001b[37m\u001b[0m \u001b[1m1s\u001b[0m 2ms/step - accuracy: 1.0000 - loss: 6.1016e-04 - val_accuracy: 1.0000 - val_loss: 8.4471e-10\n",
      "\u001b[1m550/550\u001b[0m \u001b[32m━━━━━━━━━━━━━━━━━━━━\u001b[0m\u001b[37m\u001b[0m \u001b[1m1s\u001b[0m 1ms/step - accuracy: 1.0000 - loss: 6.3674e-10\n",
      "Validation Loss: 8.447079702378346e-10, Validation Accuracy: 1.0\n"
     ]
    }
   ],
   "source": [
    "from imblearn.over_sampling import SMOTE\n",
    "#early stopping to stop training when validation loss stops improving\n",
    "early_stopping = tf.keras.callbacks.EarlyStopping(monitor=\"val_loss\",\n",
    "    min_delta=0.01,\n",
    "    patience=10,\n",
    "    verbose=0,\n",
    "    mode=\"auto\",\n",
    "    baseline=None,\n",
    "    restore_best_weights=False,\n",
    "    start_from_epoch=0)\n",
    "\n",
    "\n",
    "#apply SMOTE to create synthetic samples for the minority class\n",
    "smote = SMOTE(random_state=42)\n",
    "X_train_resampled, y_train_resampled = smote.fit_resample(X_train_split, y_train_split)\n",
    "\n",
    "#train the model with the resampled dataset\n",
    "history = model.fit(X_train_resampled, y_train_resampled, \n",
    "                    validation_data=(X_val_split, y_val_split),\n",
    "                    epochs=10, batch_size=200, callbacks=[early_stopping])\n",
    "#evaluating the model on the validation set\n",
    "val_loss, val_accuracy = model.evaluate(X_val_split, y_val_split)\n",
    "print(f\"Validation Loss: {val_loss}, Validation Accuracy: {val_accuracy}\")"
   ]
  },
  {
   "cell_type": "code",
   "execution_count": null,
   "id": "2c2af7b5",
   "metadata": {
    "papermill": {
     "duration": 0.03157,
     "end_time": "2024-10-10T22:51:45.660286",
     "exception": false,
     "start_time": "2024-10-10T22:51:45.628716",
     "status": "completed"
    },
    "tags": []
   },
   "outputs": [],
   "source": []
  }
 ],
 "metadata": {
  "kaggle": {
   "accelerator": "none",
   "dataSources": [
    {
     "databundleVersionId": 9709193,
     "sourceId": 84894,
     "sourceType": "competition"
    }
   ],
   "dockerImageVersionId": 30786,
   "isGpuEnabled": false,
   "isInternetEnabled": true,
   "language": "python",
   "sourceType": "notebook"
  },
  "kernelspec": {
   "display_name": "Python 3",
   "language": "python",
   "name": "python3"
  },
  "language_info": {
   "codemirror_mode": {
    "name": "ipython",
    "version": 3
   },
   "file_extension": ".py",
   "mimetype": "text/x-python",
   "name": "python",
   "nbconvert_exporter": "python",
   "pygments_lexer": "ipython3",
   "version": "3.10.14"
  },
  "papermill": {
   "default_parameters": {},
   "duration": 35.058262,
   "end_time": "2024-10-10T22:51:47.417420",
   "environment_variables": {},
   "exception": null,
   "input_path": "__notebook__.ipynb",
   "output_path": "__notebook__.ipynb",
   "parameters": {},
   "start_time": "2024-10-10T22:51:12.359158",
   "version": "2.6.0"
  }
 },
 "nbformat": 4,
 "nbformat_minor": 5
}
