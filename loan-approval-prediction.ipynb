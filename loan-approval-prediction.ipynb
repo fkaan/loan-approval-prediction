{
 "cells": [
  {
   "cell_type": "code",
   "execution_count": 1,
   "id": "08d3b5a1",
   "metadata": {
    "_cell_guid": "b1076dfc-b9ad-4769-8c92-a6c4dae69d19",
    "_uuid": "8f2839f25d086af736a60e9eeb907d3b93b6e0e5",
    "execution": {
     "iopub.execute_input": "2024-10-10T22:01:56.963316Z",
     "iopub.status.busy": "2024-10-10T22:01:56.962466Z",
     "iopub.status.idle": "2024-10-10T22:01:57.781150Z",
     "shell.execute_reply": "2024-10-10T22:01:57.780187Z"
    },
    "papermill": {
     "duration": 0.829352,
     "end_time": "2024-10-10T22:01:57.783379",
     "exception": false,
     "start_time": "2024-10-10T22:01:56.954027",
     "status": "completed"
    },
    "tags": []
   },
   "outputs": [
    {
     "name": "stdout",
     "output_type": "stream",
     "text": [
      "/kaggle/input/playground-series-s4e10/sample_submission.csv\n",
      "/kaggle/input/playground-series-s4e10/train.csv\n",
      "/kaggle/input/playground-series-s4e10/test.csv\n"
     ]
    }
   ],
   "source": [
    "# This Python 3 environment comes with many helpful analytics libraries installed\n",
    "# It is defined by the kaggle/python Docker image: https://github.com/kaggle/docker-python\n",
    "# For example, here's several helpful packages to load\n",
    "\n",
    "import numpy as np # linear algebra\n",
    "import pandas as pd # data processing, CSV file I/O (e.g. pd.read_csv)\n",
    "\n",
    "# Input data files are available in the read-only \"../input/\" directory\n",
    "# For example, running this (by clicking run or pressing Shift+Enter) will list all files under the input directory\n",
    "\n",
    "import os\n",
    "for dirname, _, filenames in os.walk('/kaggle/input'):\n",
    "    for filename in filenames:\n",
    "        print(os.path.join(dirname, filename))\n",
    "\n",
    "# You can write up to 20GB to the current directory (/kaggle/working/) that gets preserved as output when you create a version using \"Save & Run All\" \n",
    "# You can also write temporary files to /kaggle/temp/, but they won't be saved outside of the current session"
   ]
  },
  {
   "cell_type": "code",
   "execution_count": 2,
   "id": "e4818aba",
   "metadata": {
    "execution": {
     "iopub.execute_input": "2024-10-10T22:01:57.796407Z",
     "iopub.status.busy": "2024-10-10T22:01:57.795918Z",
     "iopub.status.idle": "2024-10-10T22:01:59.350928Z",
     "shell.execute_reply": "2024-10-10T22:01:59.349906Z"
    },
    "papermill": {
     "duration": 1.564056,
     "end_time": "2024-10-10T22:01:59.353342",
     "exception": false,
     "start_time": "2024-10-10T22:01:57.789286",
     "status": "completed"
    },
    "tags": []
   },
   "outputs": [],
   "source": [
    "import pandas as pd\n",
    "import numpy as np \n",
    "import seaborn as sns \n",
    "import matplotlib.pyplot as plt "
   ]
  },
  {
   "cell_type": "markdown",
   "id": "7d7f4c58",
   "metadata": {
    "execution": {
     "iopub.execute_input": "2024-10-10T18:52:51.261884Z",
     "iopub.status.busy": "2024-10-10T18:52:51.261384Z",
     "iopub.status.idle": "2024-10-10T18:52:51.840814Z",
     "shell.execute_reply": "2024-10-10T18:52:51.839083Z",
     "shell.execute_reply.started": "2024-10-10T18:52:51.261839Z"
    },
    "papermill": {
     "duration": 0.005479,
     "end_time": "2024-10-10T22:01:59.364706",
     "exception": false,
     "start_time": "2024-10-10T22:01:59.359227",
     "status": "completed"
    },
    "tags": []
   },
   "source": [
    "# Data Loading"
   ]
  },
  {
   "cell_type": "code",
   "execution_count": 3,
   "id": "7204f3dd",
   "metadata": {
    "execution": {
     "iopub.execute_input": "2024-10-10T22:01:59.377657Z",
     "iopub.status.busy": "2024-10-10T22:01:59.377140Z",
     "iopub.status.idle": "2024-10-10T22:01:59.600977Z",
     "shell.execute_reply": "2024-10-10T22:01:59.600127Z"
    },
    "papermill": {
     "duration": 0.23302,
     "end_time": "2024-10-10T22:01:59.603366",
     "exception": false,
     "start_time": "2024-10-10T22:01:59.370346",
     "status": "completed"
    },
    "tags": []
   },
   "outputs": [],
   "source": [
    "df_train = pd.read_csv(\"/kaggle/input/playground-series-s4e10/train.csv\")\n",
    "df_test = pd.read_csv(\"/kaggle/input/playground-series-s4e10/test.csv\")\n"
   ]
  },
  {
   "cell_type": "code",
   "execution_count": 4,
   "id": "c059b5d2",
   "metadata": {
    "execution": {
     "iopub.execute_input": "2024-10-10T22:01:59.616435Z",
     "iopub.status.busy": "2024-10-10T22:01:59.616048Z",
     "iopub.status.idle": "2024-10-10T22:01:59.641310Z",
     "shell.execute_reply": "2024-10-10T22:01:59.640350Z"
    },
    "papermill": {
     "duration": 0.034262,
     "end_time": "2024-10-10T22:01:59.643487",
     "exception": false,
     "start_time": "2024-10-10T22:01:59.609225",
     "status": "completed"
    },
    "tags": []
   },
   "outputs": [
    {
     "data": {
      "text/html": [
       "<div>\n",
       "<style scoped>\n",
       "    .dataframe tbody tr th:only-of-type {\n",
       "        vertical-align: middle;\n",
       "    }\n",
       "\n",
       "    .dataframe tbody tr th {\n",
       "        vertical-align: top;\n",
       "    }\n",
       "\n",
       "    .dataframe thead th {\n",
       "        text-align: right;\n",
       "    }\n",
       "</style>\n",
       "<table border=\"1\" class=\"dataframe\">\n",
       "  <thead>\n",
       "    <tr style=\"text-align: right;\">\n",
       "      <th></th>\n",
       "      <th>id</th>\n",
       "      <th>person_age</th>\n",
       "      <th>person_income</th>\n",
       "      <th>person_home_ownership</th>\n",
       "      <th>person_emp_length</th>\n",
       "      <th>loan_intent</th>\n",
       "      <th>loan_grade</th>\n",
       "      <th>loan_amnt</th>\n",
       "      <th>loan_int_rate</th>\n",
       "      <th>loan_percent_income</th>\n",
       "      <th>cb_person_default_on_file</th>\n",
       "      <th>cb_person_cred_hist_length</th>\n",
       "      <th>loan_status</th>\n",
       "    </tr>\n",
       "  </thead>\n",
       "  <tbody>\n",
       "    <tr>\n",
       "      <th>0</th>\n",
       "      <td>0</td>\n",
       "      <td>37</td>\n",
       "      <td>35000</td>\n",
       "      <td>RENT</td>\n",
       "      <td>0.0</td>\n",
       "      <td>EDUCATION</td>\n",
       "      <td>B</td>\n",
       "      <td>6000</td>\n",
       "      <td>11.49</td>\n",
       "      <td>0.17</td>\n",
       "      <td>N</td>\n",
       "      <td>14</td>\n",
       "      <td>0</td>\n",
       "    </tr>\n",
       "    <tr>\n",
       "      <th>1</th>\n",
       "      <td>1</td>\n",
       "      <td>22</td>\n",
       "      <td>56000</td>\n",
       "      <td>OWN</td>\n",
       "      <td>6.0</td>\n",
       "      <td>MEDICAL</td>\n",
       "      <td>C</td>\n",
       "      <td>4000</td>\n",
       "      <td>13.35</td>\n",
       "      <td>0.07</td>\n",
       "      <td>N</td>\n",
       "      <td>2</td>\n",
       "      <td>0</td>\n",
       "    </tr>\n",
       "    <tr>\n",
       "      <th>2</th>\n",
       "      <td>2</td>\n",
       "      <td>29</td>\n",
       "      <td>28800</td>\n",
       "      <td>OWN</td>\n",
       "      <td>8.0</td>\n",
       "      <td>PERSONAL</td>\n",
       "      <td>A</td>\n",
       "      <td>6000</td>\n",
       "      <td>8.90</td>\n",
       "      <td>0.21</td>\n",
       "      <td>N</td>\n",
       "      <td>10</td>\n",
       "      <td>0</td>\n",
       "    </tr>\n",
       "    <tr>\n",
       "      <th>3</th>\n",
       "      <td>3</td>\n",
       "      <td>30</td>\n",
       "      <td>70000</td>\n",
       "      <td>RENT</td>\n",
       "      <td>14.0</td>\n",
       "      <td>VENTURE</td>\n",
       "      <td>B</td>\n",
       "      <td>12000</td>\n",
       "      <td>11.11</td>\n",
       "      <td>0.17</td>\n",
       "      <td>N</td>\n",
       "      <td>5</td>\n",
       "      <td>0</td>\n",
       "    </tr>\n",
       "    <tr>\n",
       "      <th>4</th>\n",
       "      <td>4</td>\n",
       "      <td>22</td>\n",
       "      <td>60000</td>\n",
       "      <td>RENT</td>\n",
       "      <td>2.0</td>\n",
       "      <td>MEDICAL</td>\n",
       "      <td>A</td>\n",
       "      <td>6000</td>\n",
       "      <td>6.92</td>\n",
       "      <td>0.10</td>\n",
       "      <td>N</td>\n",
       "      <td>3</td>\n",
       "      <td>0</td>\n",
       "    </tr>\n",
       "  </tbody>\n",
       "</table>\n",
       "</div>"
      ],
      "text/plain": [
       "   id  person_age  person_income person_home_ownership  person_emp_length  \\\n",
       "0   0          37          35000                  RENT                0.0   \n",
       "1   1          22          56000                   OWN                6.0   \n",
       "2   2          29          28800                   OWN                8.0   \n",
       "3   3          30          70000                  RENT               14.0   \n",
       "4   4          22          60000                  RENT                2.0   \n",
       "\n",
       "  loan_intent loan_grade  loan_amnt  loan_int_rate  loan_percent_income  \\\n",
       "0   EDUCATION          B       6000          11.49                 0.17   \n",
       "1     MEDICAL          C       4000          13.35                 0.07   \n",
       "2    PERSONAL          A       6000           8.90                 0.21   \n",
       "3     VENTURE          B      12000          11.11                 0.17   \n",
       "4     MEDICAL          A       6000           6.92                 0.10   \n",
       "\n",
       "  cb_person_default_on_file  cb_person_cred_hist_length  loan_status  \n",
       "0                         N                          14            0  \n",
       "1                         N                           2            0  \n",
       "2                         N                          10            0  \n",
       "3                         N                           5            0  \n",
       "4                         N                           3            0  "
      ]
     },
     "execution_count": 4,
     "metadata": {},
     "output_type": "execute_result"
    }
   ],
   "source": [
    "df_train.head()"
   ]
  },
  {
   "cell_type": "code",
   "execution_count": 5,
   "id": "ce8a865d",
   "metadata": {
    "execution": {
     "iopub.execute_input": "2024-10-10T22:01:59.657983Z",
     "iopub.status.busy": "2024-10-10T22:01:59.657624Z",
     "iopub.status.idle": "2024-10-10T22:01:59.663805Z",
     "shell.execute_reply": "2024-10-10T22:01:59.662878Z"
    },
    "papermill": {
     "duration": 0.016296,
     "end_time": "2024-10-10T22:01:59.665879",
     "exception": false,
     "start_time": "2024-10-10T22:01:59.649583",
     "status": "completed"
    },
    "tags": []
   },
   "outputs": [
    {
     "data": {
      "text/plain": [
       "(58645, 13)"
      ]
     },
     "execution_count": 5,
     "metadata": {},
     "output_type": "execute_result"
    }
   ],
   "source": [
    "df_train.shape"
   ]
  },
  {
   "cell_type": "code",
   "execution_count": 6,
   "id": "d80a18fe",
   "metadata": {
    "execution": {
     "iopub.execute_input": "2024-10-10T22:01:59.679341Z",
     "iopub.status.busy": "2024-10-10T22:01:59.678864Z",
     "iopub.status.idle": "2024-10-10T22:01:59.685180Z",
     "shell.execute_reply": "2024-10-10T22:01:59.684229Z"
    },
    "papermill": {
     "duration": 0.01529,
     "end_time": "2024-10-10T22:01:59.687167",
     "exception": false,
     "start_time": "2024-10-10T22:01:59.671877",
     "status": "completed"
    },
    "tags": []
   },
   "outputs": [
    {
     "data": {
      "text/plain": [
       "(39098, 12)"
      ]
     },
     "execution_count": 6,
     "metadata": {},
     "output_type": "execute_result"
    }
   ],
   "source": [
    "df_test.shape"
   ]
  },
  {
   "cell_type": "code",
   "execution_count": 7,
   "id": "df471402",
   "metadata": {
    "execution": {
     "iopub.execute_input": "2024-10-10T22:01:59.700908Z",
     "iopub.status.busy": "2024-10-10T22:01:59.700556Z",
     "iopub.status.idle": "2024-10-10T22:01:59.708333Z",
     "shell.execute_reply": "2024-10-10T22:01:59.707429Z"
    },
    "papermill": {
     "duration": 0.017036,
     "end_time": "2024-10-10T22:01:59.710370",
     "exception": false,
     "start_time": "2024-10-10T22:01:59.693334",
     "status": "completed"
    },
    "tags": []
   },
   "outputs": [
    {
     "data": {
      "text/plain": [
       "id                              int64\n",
       "person_age                      int64\n",
       "person_income                   int64\n",
       "person_home_ownership          object\n",
       "person_emp_length             float64\n",
       "loan_intent                    object\n",
       "loan_grade                     object\n",
       "loan_amnt                       int64\n",
       "loan_int_rate                 float64\n",
       "loan_percent_income           float64\n",
       "cb_person_default_on_file      object\n",
       "cb_person_cred_hist_length      int64\n",
       "loan_status                     int64\n",
       "dtype: object"
      ]
     },
     "execution_count": 7,
     "metadata": {},
     "output_type": "execute_result"
    }
   ],
   "source": [
    "df_train.dtypes"
   ]
  },
  {
   "cell_type": "code",
   "execution_count": 8,
   "id": "9269f2b2",
   "metadata": {
    "execution": {
     "iopub.execute_input": "2024-10-10T22:01:59.724470Z",
     "iopub.status.busy": "2024-10-10T22:01:59.724079Z",
     "iopub.status.idle": "2024-10-10T22:01:59.731578Z",
     "shell.execute_reply": "2024-10-10T22:01:59.730620Z"
    },
    "papermill": {
     "duration": 0.016958,
     "end_time": "2024-10-10T22:01:59.733643",
     "exception": false,
     "start_time": "2024-10-10T22:01:59.716685",
     "status": "completed"
    },
    "tags": []
   },
   "outputs": [
    {
     "data": {
      "text/plain": [
       "id                              int64\n",
       "person_age                      int64\n",
       "person_income                   int64\n",
       "person_home_ownership          object\n",
       "person_emp_length             float64\n",
       "loan_intent                    object\n",
       "loan_grade                     object\n",
       "loan_amnt                       int64\n",
       "loan_int_rate                 float64\n",
       "loan_percent_income           float64\n",
       "cb_person_default_on_file      object\n",
       "cb_person_cred_hist_length      int64\n",
       "loan_status                     int64\n",
       "dtype: object"
      ]
     },
     "execution_count": 8,
     "metadata": {},
     "output_type": "execute_result"
    }
   ],
   "source": [
    "df_train.dtypes"
   ]
  },
  {
   "cell_type": "code",
   "execution_count": 9,
   "id": "56efb87e",
   "metadata": {
    "execution": {
     "iopub.execute_input": "2024-10-10T22:01:59.748246Z",
     "iopub.status.busy": "2024-10-10T22:01:59.747526Z",
     "iopub.status.idle": "2024-10-10T22:01:59.800156Z",
     "shell.execute_reply": "2024-10-10T22:01:59.799151Z"
    },
    "papermill": {
     "duration": 0.06224,
     "end_time": "2024-10-10T22:01:59.802290",
     "exception": false,
     "start_time": "2024-10-10T22:01:59.740050",
     "status": "completed"
    },
    "tags": []
   },
   "outputs": [
    {
     "data": {
      "text/html": [
       "<div>\n",
       "<style scoped>\n",
       "    .dataframe tbody tr th:only-of-type {\n",
       "        vertical-align: middle;\n",
       "    }\n",
       "\n",
       "    .dataframe tbody tr th {\n",
       "        vertical-align: top;\n",
       "    }\n",
       "\n",
       "    .dataframe thead th {\n",
       "        text-align: right;\n",
       "    }\n",
       "</style>\n",
       "<table border=\"1\" class=\"dataframe\">\n",
       "  <thead>\n",
       "    <tr style=\"text-align: right;\">\n",
       "      <th></th>\n",
       "      <th>id</th>\n",
       "      <th>person_age</th>\n",
       "      <th>person_income</th>\n",
       "      <th>person_emp_length</th>\n",
       "      <th>loan_amnt</th>\n",
       "      <th>loan_int_rate</th>\n",
       "      <th>loan_percent_income</th>\n",
       "      <th>cb_person_cred_hist_length</th>\n",
       "      <th>loan_status</th>\n",
       "    </tr>\n",
       "  </thead>\n",
       "  <tbody>\n",
       "    <tr>\n",
       "      <th>count</th>\n",
       "      <td>58645.000000</td>\n",
       "      <td>58645.000000</td>\n",
       "      <td>5.864500e+04</td>\n",
       "      <td>58645.000000</td>\n",
       "      <td>58645.000000</td>\n",
       "      <td>58645.000000</td>\n",
       "      <td>58645.000000</td>\n",
       "      <td>58645.000000</td>\n",
       "      <td>58645.000000</td>\n",
       "    </tr>\n",
       "    <tr>\n",
       "      <th>mean</th>\n",
       "      <td>29322.000000</td>\n",
       "      <td>27.550857</td>\n",
       "      <td>6.404617e+04</td>\n",
       "      <td>4.701015</td>\n",
       "      <td>9217.556518</td>\n",
       "      <td>10.677874</td>\n",
       "      <td>0.159238</td>\n",
       "      <td>5.813556</td>\n",
       "      <td>0.142382</td>\n",
       "    </tr>\n",
       "    <tr>\n",
       "      <th>std</th>\n",
       "      <td>16929.497605</td>\n",
       "      <td>6.033216</td>\n",
       "      <td>3.793111e+04</td>\n",
       "      <td>3.959784</td>\n",
       "      <td>5563.807384</td>\n",
       "      <td>3.034697</td>\n",
       "      <td>0.091692</td>\n",
       "      <td>4.029196</td>\n",
       "      <td>0.349445</td>\n",
       "    </tr>\n",
       "    <tr>\n",
       "      <th>min</th>\n",
       "      <td>0.000000</td>\n",
       "      <td>20.000000</td>\n",
       "      <td>4.200000e+03</td>\n",
       "      <td>0.000000</td>\n",
       "      <td>500.000000</td>\n",
       "      <td>5.420000</td>\n",
       "      <td>0.000000</td>\n",
       "      <td>2.000000</td>\n",
       "      <td>0.000000</td>\n",
       "    </tr>\n",
       "    <tr>\n",
       "      <th>25%</th>\n",
       "      <td>14661.000000</td>\n",
       "      <td>23.000000</td>\n",
       "      <td>4.200000e+04</td>\n",
       "      <td>2.000000</td>\n",
       "      <td>5000.000000</td>\n",
       "      <td>7.880000</td>\n",
       "      <td>0.090000</td>\n",
       "      <td>3.000000</td>\n",
       "      <td>0.000000</td>\n",
       "    </tr>\n",
       "    <tr>\n",
       "      <th>50%</th>\n",
       "      <td>29322.000000</td>\n",
       "      <td>26.000000</td>\n",
       "      <td>5.800000e+04</td>\n",
       "      <td>4.000000</td>\n",
       "      <td>8000.000000</td>\n",
       "      <td>10.750000</td>\n",
       "      <td>0.140000</td>\n",
       "      <td>4.000000</td>\n",
       "      <td>0.000000</td>\n",
       "    </tr>\n",
       "    <tr>\n",
       "      <th>75%</th>\n",
       "      <td>43983.000000</td>\n",
       "      <td>30.000000</td>\n",
       "      <td>7.560000e+04</td>\n",
       "      <td>7.000000</td>\n",
       "      <td>12000.000000</td>\n",
       "      <td>12.990000</td>\n",
       "      <td>0.210000</td>\n",
       "      <td>8.000000</td>\n",
       "      <td>0.000000</td>\n",
       "    </tr>\n",
       "    <tr>\n",
       "      <th>max</th>\n",
       "      <td>58644.000000</td>\n",
       "      <td>123.000000</td>\n",
       "      <td>1.900000e+06</td>\n",
       "      <td>123.000000</td>\n",
       "      <td>35000.000000</td>\n",
       "      <td>23.220000</td>\n",
       "      <td>0.830000</td>\n",
       "      <td>30.000000</td>\n",
       "      <td>1.000000</td>\n",
       "    </tr>\n",
       "  </tbody>\n",
       "</table>\n",
       "</div>"
      ],
      "text/plain": [
       "                 id    person_age  person_income  person_emp_length  \\\n",
       "count  58645.000000  58645.000000   5.864500e+04       58645.000000   \n",
       "mean   29322.000000     27.550857   6.404617e+04           4.701015   \n",
       "std    16929.497605      6.033216   3.793111e+04           3.959784   \n",
       "min        0.000000     20.000000   4.200000e+03           0.000000   \n",
       "25%    14661.000000     23.000000   4.200000e+04           2.000000   \n",
       "50%    29322.000000     26.000000   5.800000e+04           4.000000   \n",
       "75%    43983.000000     30.000000   7.560000e+04           7.000000   \n",
       "max    58644.000000    123.000000   1.900000e+06         123.000000   \n",
       "\n",
       "          loan_amnt  loan_int_rate  loan_percent_income  \\\n",
       "count  58645.000000   58645.000000         58645.000000   \n",
       "mean    9217.556518      10.677874             0.159238   \n",
       "std     5563.807384       3.034697             0.091692   \n",
       "min      500.000000       5.420000             0.000000   \n",
       "25%     5000.000000       7.880000             0.090000   \n",
       "50%     8000.000000      10.750000             0.140000   \n",
       "75%    12000.000000      12.990000             0.210000   \n",
       "max    35000.000000      23.220000             0.830000   \n",
       "\n",
       "       cb_person_cred_hist_length   loan_status  \n",
       "count                58645.000000  58645.000000  \n",
       "mean                     5.813556      0.142382  \n",
       "std                      4.029196      0.349445  \n",
       "min                      2.000000      0.000000  \n",
       "25%                      3.000000      0.000000  \n",
       "50%                      4.000000      0.000000  \n",
       "75%                      8.000000      0.000000  \n",
       "max                     30.000000      1.000000  "
      ]
     },
     "execution_count": 9,
     "metadata": {},
     "output_type": "execute_result"
    }
   ],
   "source": [
    "df_train.describe()"
   ]
  },
  {
   "cell_type": "code",
   "execution_count": 10,
   "id": "8be5fd77",
   "metadata": {
    "execution": {
     "iopub.execute_input": "2024-10-10T22:01:59.817553Z",
     "iopub.status.busy": "2024-10-10T22:01:59.816829Z",
     "iopub.status.idle": "2024-10-10T22:01:59.831148Z",
     "shell.execute_reply": "2024-10-10T22:01:59.830161Z"
    },
    "papermill": {
     "duration": 0.024304,
     "end_time": "2024-10-10T22:01:59.833308",
     "exception": false,
     "start_time": "2024-10-10T22:01:59.809004",
     "status": "completed"
    },
    "tags": []
   },
   "outputs": [],
   "source": [
    "df_train.drop([\"id\"], axis=1, inplace=True)"
   ]
  },
  {
   "cell_type": "markdown",
   "id": "e0972cdc",
   "metadata": {
    "papermill": {
     "duration": 0.00631,
     "end_time": "2024-10-10T22:01:59.846349",
     "exception": false,
     "start_time": "2024-10-10T22:01:59.840039",
     "status": "completed"
    },
    "tags": []
   },
   "source": [
    " # Preprocessing and Encoding Categorical Features"
   ]
  },
  {
   "cell_type": "code",
   "execution_count": 11,
   "id": "41240178",
   "metadata": {
    "execution": {
     "iopub.execute_input": "2024-10-10T22:01:59.861260Z",
     "iopub.status.busy": "2024-10-10T22:01:59.860361Z",
     "iopub.status.idle": "2024-10-10T22:02:00.101222Z",
     "shell.execute_reply": "2024-10-10T22:02:00.099994Z"
    },
    "papermill": {
     "duration": 0.250843,
     "end_time": "2024-10-10T22:02:00.103622",
     "exception": false,
     "start_time": "2024-10-10T22:01:59.852779",
     "status": "completed"
    },
    "tags": []
   },
   "outputs": [],
   "source": [
    "from sklearn.model_selection import train_test_split\n",
    "from sklearn.preprocessing import OneHotEncoder, StandardScaler"
   ]
  },
  {
   "cell_type": "markdown",
   "id": "09be9ead",
   "metadata": {
    "papermill": {
     "duration": 0.0064,
     "end_time": "2024-10-10T22:02:00.117030",
     "exception": false,
     "start_time": "2024-10-10T22:02:00.110630",
     "status": "completed"
    },
    "tags": []
   },
   "source": [
    "## One-Hot Encoding"
   ]
  },
  {
   "cell_type": "code",
   "execution_count": 12,
   "id": "ed20cbb5",
   "metadata": {
    "execution": {
     "iopub.execute_input": "2024-10-10T22:02:00.132352Z",
     "iopub.status.busy": "2024-10-10T22:02:00.131371Z",
     "iopub.status.idle": "2024-10-10T22:02:00.240265Z",
     "shell.execute_reply": "2024-10-10T22:02:00.239251Z"
    },
    "papermill": {
     "duration": 0.118847,
     "end_time": "2024-10-10T22:02:00.242409",
     "exception": false,
     "start_time": "2024-10-10T22:02:00.123562",
     "status": "completed"
    },
    "tags": []
   },
   "outputs": [
    {
     "name": "stderr",
     "output_type": "stream",
     "text": [
      "/opt/conda/lib/python3.10/site-packages/sklearn/preprocessing/_encoders.py:868: FutureWarning: `sparse` was renamed to `sparse_output` in version 1.2 and will be removed in 1.4. `sparse_output` is ignored unless you leave `sparse` to its default value.\n",
      "  warnings.warn(\n",
      "/opt/conda/lib/python3.10/site-packages/sklearn/preprocessing/_encoders.py:868: FutureWarning: `sparse` was renamed to `sparse_output` in version 1.2 and will be removed in 1.4. `sparse_output` is ignored unless you leave `sparse` to its default value.\n",
      "  warnings.warn(\n"
     ]
    }
   ],
   "source": [
    "categorical_columns = ['loan_intent', 'loan_grade', 'person_home_ownership']\n",
    "encoder = OneHotEncoder(sparse=False, handle_unknown='ignore')\n",
    "X_train_encoded = encoder.fit_transform(df_train[categorical_columns])\n",
    "X_test_encoded = encoder.fit_transform(df_test[categorical_columns])"
   ]
  },
  {
   "cell_type": "markdown",
   "id": "50d3857b",
   "metadata": {
    "papermill": {
     "duration": 0.00636,
     "end_time": "2024-10-10T22:02:00.255593",
     "exception": false,
     "start_time": "2024-10-10T22:02:00.249233",
     "status": "completed"
    },
    "tags": []
   },
   "source": [
    "### Encoded Columns to Dataframe"
   ]
  },
  {
   "cell_type": "code",
   "execution_count": 13,
   "id": "8a5d802e",
   "metadata": {
    "execution": {
     "iopub.execute_input": "2024-10-10T22:02:00.270988Z",
     "iopub.status.busy": "2024-10-10T22:02:00.270078Z",
     "iopub.status.idle": "2024-10-10T22:02:00.276146Z",
     "shell.execute_reply": "2024-10-10T22:02:00.275142Z"
    },
    "papermill": {
     "duration": 0.015973,
     "end_time": "2024-10-10T22:02:00.278208",
     "exception": false,
     "start_time": "2024-10-10T22:02:00.262235",
     "status": "completed"
    },
    "tags": []
   },
   "outputs": [],
   "source": [
    "X_train_encoded_df = pd.DataFrame(X_train_encoded, columns=encoder.get_feature_names_out(categorical_columns))\n",
    "X_test_encoded_df = pd.DataFrame(X_test_encoded, columns=encoder.get_feature_names_out(categorical_columns))"
   ]
  },
  {
   "cell_type": "code",
   "execution_count": 14,
   "id": "8a692009",
   "metadata": {
    "execution": {
     "iopub.execute_input": "2024-10-10T22:02:00.293354Z",
     "iopub.status.busy": "2024-10-10T22:02:00.292868Z",
     "iopub.status.idle": "2024-10-10T22:02:00.318181Z",
     "shell.execute_reply": "2024-10-10T22:02:00.317160Z"
    },
    "papermill": {
     "duration": 0.035167,
     "end_time": "2024-10-10T22:02:00.320199",
     "exception": false,
     "start_time": "2024-10-10T22:02:00.285032",
     "status": "completed"
    },
    "tags": []
   },
   "outputs": [
    {
     "data": {
      "text/html": [
       "<div>\n",
       "<style scoped>\n",
       "    .dataframe tbody tr th:only-of-type {\n",
       "        vertical-align: middle;\n",
       "    }\n",
       "\n",
       "    .dataframe tbody tr th {\n",
       "        vertical-align: top;\n",
       "    }\n",
       "\n",
       "    .dataframe thead th {\n",
       "        text-align: right;\n",
       "    }\n",
       "</style>\n",
       "<table border=\"1\" class=\"dataframe\">\n",
       "  <thead>\n",
       "    <tr style=\"text-align: right;\">\n",
       "      <th></th>\n",
       "      <th>loan_intent_DEBTCONSOLIDATION</th>\n",
       "      <th>loan_intent_EDUCATION</th>\n",
       "      <th>loan_intent_HOMEIMPROVEMENT</th>\n",
       "      <th>loan_intent_MEDICAL</th>\n",
       "      <th>loan_intent_PERSONAL</th>\n",
       "      <th>loan_intent_VENTURE</th>\n",
       "      <th>loan_grade_A</th>\n",
       "      <th>loan_grade_B</th>\n",
       "      <th>loan_grade_C</th>\n",
       "      <th>loan_grade_D</th>\n",
       "      <th>loan_grade_E</th>\n",
       "      <th>loan_grade_F</th>\n",
       "      <th>loan_grade_G</th>\n",
       "      <th>person_home_ownership_MORTGAGE</th>\n",
       "      <th>person_home_ownership_OTHER</th>\n",
       "      <th>person_home_ownership_OWN</th>\n",
       "      <th>person_home_ownership_RENT</th>\n",
       "    </tr>\n",
       "  </thead>\n",
       "  <tbody>\n",
       "    <tr>\n",
       "      <th>0</th>\n",
       "      <td>0.0</td>\n",
       "      <td>1.0</td>\n",
       "      <td>0.0</td>\n",
       "      <td>0.0</td>\n",
       "      <td>0.0</td>\n",
       "      <td>0.0</td>\n",
       "      <td>0.0</td>\n",
       "      <td>1.0</td>\n",
       "      <td>0.0</td>\n",
       "      <td>0.0</td>\n",
       "      <td>0.0</td>\n",
       "      <td>0.0</td>\n",
       "      <td>0.0</td>\n",
       "      <td>0.0</td>\n",
       "      <td>0.0</td>\n",
       "      <td>0.0</td>\n",
       "      <td>1.0</td>\n",
       "    </tr>\n",
       "    <tr>\n",
       "      <th>1</th>\n",
       "      <td>0.0</td>\n",
       "      <td>0.0</td>\n",
       "      <td>0.0</td>\n",
       "      <td>1.0</td>\n",
       "      <td>0.0</td>\n",
       "      <td>0.0</td>\n",
       "      <td>0.0</td>\n",
       "      <td>0.0</td>\n",
       "      <td>1.0</td>\n",
       "      <td>0.0</td>\n",
       "      <td>0.0</td>\n",
       "      <td>0.0</td>\n",
       "      <td>0.0</td>\n",
       "      <td>0.0</td>\n",
       "      <td>0.0</td>\n",
       "      <td>1.0</td>\n",
       "      <td>0.0</td>\n",
       "    </tr>\n",
       "    <tr>\n",
       "      <th>2</th>\n",
       "      <td>0.0</td>\n",
       "      <td>0.0</td>\n",
       "      <td>0.0</td>\n",
       "      <td>0.0</td>\n",
       "      <td>1.0</td>\n",
       "      <td>0.0</td>\n",
       "      <td>1.0</td>\n",
       "      <td>0.0</td>\n",
       "      <td>0.0</td>\n",
       "      <td>0.0</td>\n",
       "      <td>0.0</td>\n",
       "      <td>0.0</td>\n",
       "      <td>0.0</td>\n",
       "      <td>0.0</td>\n",
       "      <td>0.0</td>\n",
       "      <td>1.0</td>\n",
       "      <td>0.0</td>\n",
       "    </tr>\n",
       "    <tr>\n",
       "      <th>3</th>\n",
       "      <td>0.0</td>\n",
       "      <td>0.0</td>\n",
       "      <td>0.0</td>\n",
       "      <td>0.0</td>\n",
       "      <td>0.0</td>\n",
       "      <td>1.0</td>\n",
       "      <td>0.0</td>\n",
       "      <td>1.0</td>\n",
       "      <td>0.0</td>\n",
       "      <td>0.0</td>\n",
       "      <td>0.0</td>\n",
       "      <td>0.0</td>\n",
       "      <td>0.0</td>\n",
       "      <td>0.0</td>\n",
       "      <td>0.0</td>\n",
       "      <td>0.0</td>\n",
       "      <td>1.0</td>\n",
       "    </tr>\n",
       "    <tr>\n",
       "      <th>4</th>\n",
       "      <td>0.0</td>\n",
       "      <td>0.0</td>\n",
       "      <td>0.0</td>\n",
       "      <td>1.0</td>\n",
       "      <td>0.0</td>\n",
       "      <td>0.0</td>\n",
       "      <td>1.0</td>\n",
       "      <td>0.0</td>\n",
       "      <td>0.0</td>\n",
       "      <td>0.0</td>\n",
       "      <td>0.0</td>\n",
       "      <td>0.0</td>\n",
       "      <td>0.0</td>\n",
       "      <td>0.0</td>\n",
       "      <td>0.0</td>\n",
       "      <td>0.0</td>\n",
       "      <td>1.0</td>\n",
       "    </tr>\n",
       "  </tbody>\n",
       "</table>\n",
       "</div>"
      ],
      "text/plain": [
       "   loan_intent_DEBTCONSOLIDATION  loan_intent_EDUCATION  \\\n",
       "0                            0.0                    1.0   \n",
       "1                            0.0                    0.0   \n",
       "2                            0.0                    0.0   \n",
       "3                            0.0                    0.0   \n",
       "4                            0.0                    0.0   \n",
       "\n",
       "   loan_intent_HOMEIMPROVEMENT  loan_intent_MEDICAL  loan_intent_PERSONAL  \\\n",
       "0                          0.0                  0.0                   0.0   \n",
       "1                          0.0                  1.0                   0.0   \n",
       "2                          0.0                  0.0                   1.0   \n",
       "3                          0.0                  0.0                   0.0   \n",
       "4                          0.0                  1.0                   0.0   \n",
       "\n",
       "   loan_intent_VENTURE  loan_grade_A  loan_grade_B  loan_grade_C  \\\n",
       "0                  0.0           0.0           1.0           0.0   \n",
       "1                  0.0           0.0           0.0           1.0   \n",
       "2                  0.0           1.0           0.0           0.0   \n",
       "3                  1.0           0.0           1.0           0.0   \n",
       "4                  0.0           1.0           0.0           0.0   \n",
       "\n",
       "   loan_grade_D  loan_grade_E  loan_grade_F  loan_grade_G  \\\n",
       "0           0.0           0.0           0.0           0.0   \n",
       "1           0.0           0.0           0.0           0.0   \n",
       "2           0.0           0.0           0.0           0.0   \n",
       "3           0.0           0.0           0.0           0.0   \n",
       "4           0.0           0.0           0.0           0.0   \n",
       "\n",
       "   person_home_ownership_MORTGAGE  person_home_ownership_OTHER  \\\n",
       "0                             0.0                          0.0   \n",
       "1                             0.0                          0.0   \n",
       "2                             0.0                          0.0   \n",
       "3                             0.0                          0.0   \n",
       "4                             0.0                          0.0   \n",
       "\n",
       "   person_home_ownership_OWN  person_home_ownership_RENT  \n",
       "0                        0.0                         1.0  \n",
       "1                        1.0                         0.0  \n",
       "2                        1.0                         0.0  \n",
       "3                        0.0                         1.0  \n",
       "4                        0.0                         1.0  "
      ]
     },
     "execution_count": 14,
     "metadata": {},
     "output_type": "execute_result"
    }
   ],
   "source": [
    "X_train_encoded_df.head()"
   ]
  },
  {
   "cell_type": "markdown",
   "id": "82c459b8",
   "metadata": {
    "papermill": {
     "duration": 0.006895,
     "end_time": "2024-10-10T22:02:00.334508",
     "exception": false,
     "start_time": "2024-10-10T22:02:00.327613",
     "status": "completed"
    },
    "tags": []
   },
   "source": [
    "## Concatenate Numerical Data"
   ]
  },
  {
   "cell_type": "code",
   "execution_count": 15,
   "id": "4ec41c4f",
   "metadata": {
    "execution": {
     "iopub.execute_input": "2024-10-10T22:02:00.350265Z",
     "iopub.status.busy": "2024-10-10T22:02:00.349831Z",
     "iopub.status.idle": "2024-10-10T22:02:00.359762Z",
     "shell.execute_reply": "2024-10-10T22:02:00.358898Z"
    },
    "papermill": {
     "duration": 0.020211,
     "end_time": "2024-10-10T22:02:00.361854",
     "exception": false,
     "start_time": "2024-10-10T22:02:00.341643",
     "status": "completed"
    },
    "tags": []
   },
   "outputs": [],
   "source": [
    "X_train_num = df_train.drop(categorical_columns + [\"cb_person_default_on_file\"], axis=1).reset_index(drop=True)\n",
    "X_test_num = df_test.drop(categorical_columns+ [\"cb_person_default_on_file\"], axis=1).reset_index(drop=True)"
   ]
  },
  {
   "cell_type": "code",
   "execution_count": 16,
   "id": "72d9616a",
   "metadata": {
    "execution": {
     "iopub.execute_input": "2024-10-10T22:02:00.377989Z",
     "iopub.status.busy": "2024-10-10T22:02:00.377089Z",
     "iopub.status.idle": "2024-10-10T22:02:00.390302Z",
     "shell.execute_reply": "2024-10-10T22:02:00.389191Z"
    },
    "papermill": {
     "duration": 0.023413,
     "end_time": "2024-10-10T22:02:00.392372",
     "exception": false,
     "start_time": "2024-10-10T22:02:00.368959",
     "status": "completed"
    },
    "tags": []
   },
   "outputs": [
    {
     "data": {
      "text/html": [
       "<div>\n",
       "<style scoped>\n",
       "    .dataframe tbody tr th:only-of-type {\n",
       "        vertical-align: middle;\n",
       "    }\n",
       "\n",
       "    .dataframe tbody tr th {\n",
       "        vertical-align: top;\n",
       "    }\n",
       "\n",
       "    .dataframe thead th {\n",
       "        text-align: right;\n",
       "    }\n",
       "</style>\n",
       "<table border=\"1\" class=\"dataframe\">\n",
       "  <thead>\n",
       "    <tr style=\"text-align: right;\">\n",
       "      <th></th>\n",
       "      <th>person_age</th>\n",
       "      <th>person_income</th>\n",
       "      <th>person_emp_length</th>\n",
       "      <th>loan_amnt</th>\n",
       "      <th>loan_int_rate</th>\n",
       "      <th>loan_percent_income</th>\n",
       "      <th>cb_person_cred_hist_length</th>\n",
       "      <th>loan_status</th>\n",
       "    </tr>\n",
       "  </thead>\n",
       "  <tbody>\n",
       "    <tr>\n",
       "      <th>0</th>\n",
       "      <td>37</td>\n",
       "      <td>35000</td>\n",
       "      <td>0.0</td>\n",
       "      <td>6000</td>\n",
       "      <td>11.49</td>\n",
       "      <td>0.17</td>\n",
       "      <td>14</td>\n",
       "      <td>0</td>\n",
       "    </tr>\n",
       "    <tr>\n",
       "      <th>1</th>\n",
       "      <td>22</td>\n",
       "      <td>56000</td>\n",
       "      <td>6.0</td>\n",
       "      <td>4000</td>\n",
       "      <td>13.35</td>\n",
       "      <td>0.07</td>\n",
       "      <td>2</td>\n",
       "      <td>0</td>\n",
       "    </tr>\n",
       "    <tr>\n",
       "      <th>2</th>\n",
       "      <td>29</td>\n",
       "      <td>28800</td>\n",
       "      <td>8.0</td>\n",
       "      <td>6000</td>\n",
       "      <td>8.90</td>\n",
       "      <td>0.21</td>\n",
       "      <td>10</td>\n",
       "      <td>0</td>\n",
       "    </tr>\n",
       "    <tr>\n",
       "      <th>3</th>\n",
       "      <td>30</td>\n",
       "      <td>70000</td>\n",
       "      <td>14.0</td>\n",
       "      <td>12000</td>\n",
       "      <td>11.11</td>\n",
       "      <td>0.17</td>\n",
       "      <td>5</td>\n",
       "      <td>0</td>\n",
       "    </tr>\n",
       "    <tr>\n",
       "      <th>4</th>\n",
       "      <td>22</td>\n",
       "      <td>60000</td>\n",
       "      <td>2.0</td>\n",
       "      <td>6000</td>\n",
       "      <td>6.92</td>\n",
       "      <td>0.10</td>\n",
       "      <td>3</td>\n",
       "      <td>0</td>\n",
       "    </tr>\n",
       "  </tbody>\n",
       "</table>\n",
       "</div>"
      ],
      "text/plain": [
       "   person_age  person_income  person_emp_length  loan_amnt  loan_int_rate  \\\n",
       "0          37          35000                0.0       6000          11.49   \n",
       "1          22          56000                6.0       4000          13.35   \n",
       "2          29          28800                8.0       6000           8.90   \n",
       "3          30          70000               14.0      12000          11.11   \n",
       "4          22          60000                2.0       6000           6.92   \n",
       "\n",
       "   loan_percent_income  cb_person_cred_hist_length  loan_status  \n",
       "0                 0.17                          14            0  \n",
       "1                 0.07                           2            0  \n",
       "2                 0.21                          10            0  \n",
       "3                 0.17                           5            0  \n",
       "4                 0.10                           3            0  "
      ]
     },
     "execution_count": 16,
     "metadata": {},
     "output_type": "execute_result"
    }
   ],
   "source": [
    "X_train_num.head()"
   ]
  },
  {
   "cell_type": "markdown",
   "id": "57812bdb",
   "metadata": {
    "papermill": {
     "duration": 0.007054,
     "end_time": "2024-10-10T22:02:00.406784",
     "exception": false,
     "start_time": "2024-10-10T22:02:00.399730",
     "status": "completed"
    },
    "tags": []
   },
   "source": [
    "## Standardize Numerical Data"
   ]
  },
  {
   "cell_type": "code",
   "execution_count": 17,
   "id": "12357def",
   "metadata": {
    "execution": {
     "iopub.execute_input": "2024-10-10T22:02:00.422617Z",
     "iopub.status.busy": "2024-10-10T22:02:00.422240Z",
     "iopub.status.idle": "2024-10-10T22:02:00.450897Z",
     "shell.execute_reply": "2024-10-10T22:02:00.450057Z"
    },
    "papermill": {
     "duration": 0.039718,
     "end_time": "2024-10-10T22:02:00.453617",
     "exception": false,
     "start_time": "2024-10-10T22:02:00.413899",
     "status": "completed"
    },
    "tags": []
   },
   "outputs": [],
   "source": [
    "scaler = StandardScaler()\n",
    "X_train_num_scaled = scaler.fit_transform(X_train_num) \n",
    "X_test_num_scaled = scaler.fit_transform(X_test_num)"
   ]
  },
  {
   "cell_type": "markdown",
   "id": "d7fe5235",
   "metadata": {
    "papermill": {
     "duration": 0.007069,
     "end_time": "2024-10-10T22:02:00.468411",
     "exception": false,
     "start_time": "2024-10-10T22:02:00.461342",
     "status": "completed"
    },
    "tags": []
   },
   "source": [
    "### To DataFrame "
   ]
  },
  {
   "cell_type": "code",
   "execution_count": 18,
   "id": "2d7b751e",
   "metadata": {
    "execution": {
     "iopub.execute_input": "2024-10-10T22:02:00.485065Z",
     "iopub.status.busy": "2024-10-10T22:02:00.484052Z",
     "iopub.status.idle": "2024-10-10T22:02:00.489453Z",
     "shell.execute_reply": "2024-10-10T22:02:00.488464Z"
    },
    "papermill": {
     "duration": 0.015829,
     "end_time": "2024-10-10T22:02:00.491504",
     "exception": false,
     "start_time": "2024-10-10T22:02:00.475675",
     "status": "completed"
    },
    "tags": []
   },
   "outputs": [],
   "source": [
    "X_train_num_df = pd.DataFrame(X_train_num_scaled, columns=X_train_num.columns)\n",
    "X_test_num_df = pd.DataFrame(X_test_num_scaled, columns=X_test_num.columns)"
   ]
  },
  {
   "cell_type": "code",
   "execution_count": null,
   "id": "28581a9f",
   "metadata": {
    "papermill": {
     "duration": 0.006833,
     "end_time": "2024-10-10T22:02:00.505564",
     "exception": false,
     "start_time": "2024-10-10T22:02:00.498731",
     "status": "completed"
    },
    "tags": []
   },
   "outputs": [],
   "source": []
  }
 ],
 "metadata": {
  "kaggle": {
   "accelerator": "none",
   "dataSources": [
    {
     "databundleVersionId": 9709193,
     "sourceId": 84894,
     "sourceType": "competition"
    }
   ],
   "dockerImageVersionId": 30786,
   "isGpuEnabled": false,
   "isInternetEnabled": true,
   "language": "python",
   "sourceType": "notebook"
  },
  "kernelspec": {
   "display_name": "Python 3",
   "language": "python",
   "name": "python3"
  },
  "language_info": {
   "codemirror_mode": {
    "name": "ipython",
    "version": 3
   },
   "file_extension": ".py",
   "mimetype": "text/x-python",
   "name": "python",
   "nbconvert_exporter": "python",
   "pygments_lexer": "ipython3",
   "version": "3.10.14"
  },
  "papermill": {
   "default_parameters": {},
   "duration": 6.729392,
   "end_time": "2024-10-10T22:02:01.031740",
   "environment_variables": {},
   "exception": null,
   "input_path": "__notebook__.ipynb",
   "output_path": "__notebook__.ipynb",
   "parameters": {},
   "start_time": "2024-10-10T22:01:54.302348",
   "version": "2.6.0"
  }
 },
 "nbformat": 4,
 "nbformat_minor": 5
}
