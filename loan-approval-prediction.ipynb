{
 "cells": [
  {
   "cell_type": "code",
   "execution_count": 1,
   "id": "175216ff",
   "metadata": {
    "_cell_guid": "b1076dfc-b9ad-4769-8c92-a6c4dae69d19",
    "_uuid": "8f2839f25d086af736a60e9eeb907d3b93b6e0e5",
    "execution": {
     "iopub.execute_input": "2024-10-10T22:27:44.158081Z",
     "iopub.status.busy": "2024-10-10T22:27:44.157612Z",
     "iopub.status.idle": "2024-10-10T22:27:45.166073Z",
     "shell.execute_reply": "2024-10-10T22:27:45.164392Z"
    },
    "papermill": {
     "duration": 1.024821,
     "end_time": "2024-10-10T22:27:45.169251",
     "exception": false,
     "start_time": "2024-10-10T22:27:44.144430",
     "status": "completed"
    },
    "tags": []
   },
   "outputs": [
    {
     "name": "stdout",
     "output_type": "stream",
     "text": [
      "/kaggle/input/playground-series-s4e10/sample_submission.csv\n",
      "/kaggle/input/playground-series-s4e10/train.csv\n",
      "/kaggle/input/playground-series-s4e10/test.csv\n"
     ]
    }
   ],
   "source": [
    "# This Python 3 environment comes with many helpful analytics libraries installed\n",
    "# It is defined by the kaggle/python Docker image: https://github.com/kaggle/docker-python\n",
    "# For example, here's several helpful packages to load\n",
    "\n",
    "import numpy as np # linear algebra\n",
    "import pandas as pd # data processing, CSV file I/O (e.g. pd.read_csv)\n",
    "\n",
    "# Input data files are available in the read-only \"../input/\" directory\n",
    "# For example, running this (by clicking run or pressing Shift+Enter) will list all files under the input directory\n",
    "\n",
    "import os\n",
    "for dirname, _, filenames in os.walk('/kaggle/input'):\n",
    "    for filename in filenames:\n",
    "        print(os.path.join(dirname, filename))\n",
    "\n",
    "# You can write up to 20GB to the current directory (/kaggle/working/) that gets preserved as output when you create a version using \"Save & Run All\" \n",
    "# You can also write temporary files to /kaggle/temp/, but they won't be saved outside of the current session"
   ]
  },
  {
   "cell_type": "code",
   "execution_count": 2,
   "id": "7d8e00ea",
   "metadata": {
    "execution": {
     "iopub.execute_input": "2024-10-10T22:27:45.193985Z",
     "iopub.status.busy": "2024-10-10T22:27:45.193348Z",
     "iopub.status.idle": "2024-10-10T22:27:47.258443Z",
     "shell.execute_reply": "2024-10-10T22:27:47.256858Z"
    },
    "papermill": {
     "duration": 2.081706,
     "end_time": "2024-10-10T22:27:47.262215",
     "exception": false,
     "start_time": "2024-10-10T22:27:45.180509",
     "status": "completed"
    },
    "tags": []
   },
   "outputs": [],
   "source": [
    "import pandas as pd\n",
    "import numpy as np \n",
    "import seaborn as sns \n",
    "import matplotlib.pyplot as plt "
   ]
  },
  {
   "cell_type": "markdown",
   "id": "33ffdd07",
   "metadata": {
    "execution": {
     "iopub.execute_input": "2024-10-10T18:52:51.261884Z",
     "iopub.status.busy": "2024-10-10T18:52:51.261384Z",
     "iopub.status.idle": "2024-10-10T18:52:51.840814Z",
     "shell.execute_reply": "2024-10-10T18:52:51.839083Z",
     "shell.execute_reply.started": "2024-10-10T18:52:51.261839Z"
    },
    "papermill": {
     "duration": 0.011153,
     "end_time": "2024-10-10T22:27:47.285129",
     "exception": false,
     "start_time": "2024-10-10T22:27:47.273976",
     "status": "completed"
    },
    "tags": []
   },
   "source": [
    "# Data Loading"
   ]
  },
  {
   "cell_type": "code",
   "execution_count": 3,
   "id": "33c6abbc",
   "metadata": {
    "execution": {
     "iopub.execute_input": "2024-10-10T22:27:47.309208Z",
     "iopub.status.busy": "2024-10-10T22:27:47.308585Z",
     "iopub.status.idle": "2024-10-10T22:27:47.598186Z",
     "shell.execute_reply": "2024-10-10T22:27:47.596849Z"
    },
    "papermill": {
     "duration": 0.305197,
     "end_time": "2024-10-10T22:27:47.601361",
     "exception": false,
     "start_time": "2024-10-10T22:27:47.296164",
     "status": "completed"
    },
    "tags": []
   },
   "outputs": [],
   "source": [
    "df_train = pd.read_csv(\"/kaggle/input/playground-series-s4e10/train.csv\")\n",
    "df_test = pd.read_csv(\"/kaggle/input/playground-series-s4e10/test.csv\")\n"
   ]
  },
  {
   "cell_type": "code",
   "execution_count": 4,
   "id": "7d9aabef",
   "metadata": {
    "execution": {
     "iopub.execute_input": "2024-10-10T22:27:47.627662Z",
     "iopub.status.busy": "2024-10-10T22:27:47.626276Z",
     "iopub.status.idle": "2024-10-10T22:27:47.659476Z",
     "shell.execute_reply": "2024-10-10T22:27:47.658340Z"
    },
    "papermill": {
     "duration": 0.048529,
     "end_time": "2024-10-10T22:27:47.662164",
     "exception": false,
     "start_time": "2024-10-10T22:27:47.613635",
     "status": "completed"
    },
    "tags": []
   },
   "outputs": [
    {
     "data": {
      "text/html": [
       "<div>\n",
       "<style scoped>\n",
       "    .dataframe tbody tr th:only-of-type {\n",
       "        vertical-align: middle;\n",
       "    }\n",
       "\n",
       "    .dataframe tbody tr th {\n",
       "        vertical-align: top;\n",
       "    }\n",
       "\n",
       "    .dataframe thead th {\n",
       "        text-align: right;\n",
       "    }\n",
       "</style>\n",
       "<table border=\"1\" class=\"dataframe\">\n",
       "  <thead>\n",
       "    <tr style=\"text-align: right;\">\n",
       "      <th></th>\n",
       "      <th>id</th>\n",
       "      <th>person_age</th>\n",
       "      <th>person_income</th>\n",
       "      <th>person_home_ownership</th>\n",
       "      <th>person_emp_length</th>\n",
       "      <th>loan_intent</th>\n",
       "      <th>loan_grade</th>\n",
       "      <th>loan_amnt</th>\n",
       "      <th>loan_int_rate</th>\n",
       "      <th>loan_percent_income</th>\n",
       "      <th>cb_person_default_on_file</th>\n",
       "      <th>cb_person_cred_hist_length</th>\n",
       "      <th>loan_status</th>\n",
       "    </tr>\n",
       "  </thead>\n",
       "  <tbody>\n",
       "    <tr>\n",
       "      <th>0</th>\n",
       "      <td>0</td>\n",
       "      <td>37</td>\n",
       "      <td>35000</td>\n",
       "      <td>RENT</td>\n",
       "      <td>0.0</td>\n",
       "      <td>EDUCATION</td>\n",
       "      <td>B</td>\n",
       "      <td>6000</td>\n",
       "      <td>11.49</td>\n",
       "      <td>0.17</td>\n",
       "      <td>N</td>\n",
       "      <td>14</td>\n",
       "      <td>0</td>\n",
       "    </tr>\n",
       "    <tr>\n",
       "      <th>1</th>\n",
       "      <td>1</td>\n",
       "      <td>22</td>\n",
       "      <td>56000</td>\n",
       "      <td>OWN</td>\n",
       "      <td>6.0</td>\n",
       "      <td>MEDICAL</td>\n",
       "      <td>C</td>\n",
       "      <td>4000</td>\n",
       "      <td>13.35</td>\n",
       "      <td>0.07</td>\n",
       "      <td>N</td>\n",
       "      <td>2</td>\n",
       "      <td>0</td>\n",
       "    </tr>\n",
       "    <tr>\n",
       "      <th>2</th>\n",
       "      <td>2</td>\n",
       "      <td>29</td>\n",
       "      <td>28800</td>\n",
       "      <td>OWN</td>\n",
       "      <td>8.0</td>\n",
       "      <td>PERSONAL</td>\n",
       "      <td>A</td>\n",
       "      <td>6000</td>\n",
       "      <td>8.90</td>\n",
       "      <td>0.21</td>\n",
       "      <td>N</td>\n",
       "      <td>10</td>\n",
       "      <td>0</td>\n",
       "    </tr>\n",
       "    <tr>\n",
       "      <th>3</th>\n",
       "      <td>3</td>\n",
       "      <td>30</td>\n",
       "      <td>70000</td>\n",
       "      <td>RENT</td>\n",
       "      <td>14.0</td>\n",
       "      <td>VENTURE</td>\n",
       "      <td>B</td>\n",
       "      <td>12000</td>\n",
       "      <td>11.11</td>\n",
       "      <td>0.17</td>\n",
       "      <td>N</td>\n",
       "      <td>5</td>\n",
       "      <td>0</td>\n",
       "    </tr>\n",
       "    <tr>\n",
       "      <th>4</th>\n",
       "      <td>4</td>\n",
       "      <td>22</td>\n",
       "      <td>60000</td>\n",
       "      <td>RENT</td>\n",
       "      <td>2.0</td>\n",
       "      <td>MEDICAL</td>\n",
       "      <td>A</td>\n",
       "      <td>6000</td>\n",
       "      <td>6.92</td>\n",
       "      <td>0.10</td>\n",
       "      <td>N</td>\n",
       "      <td>3</td>\n",
       "      <td>0</td>\n",
       "    </tr>\n",
       "  </tbody>\n",
       "</table>\n",
       "</div>"
      ],
      "text/plain": [
       "   id  person_age  person_income person_home_ownership  person_emp_length  \\\n",
       "0   0          37          35000                  RENT                0.0   \n",
       "1   1          22          56000                   OWN                6.0   \n",
       "2   2          29          28800                   OWN                8.0   \n",
       "3   3          30          70000                  RENT               14.0   \n",
       "4   4          22          60000                  RENT                2.0   \n",
       "\n",
       "  loan_intent loan_grade  loan_amnt  loan_int_rate  loan_percent_income  \\\n",
       "0   EDUCATION          B       6000          11.49                 0.17   \n",
       "1     MEDICAL          C       4000          13.35                 0.07   \n",
       "2    PERSONAL          A       6000           8.90                 0.21   \n",
       "3     VENTURE          B      12000          11.11                 0.17   \n",
       "4     MEDICAL          A       6000           6.92                 0.10   \n",
       "\n",
       "  cb_person_default_on_file  cb_person_cred_hist_length  loan_status  \n",
       "0                         N                          14            0  \n",
       "1                         N                           2            0  \n",
       "2                         N                          10            0  \n",
       "3                         N                           5            0  \n",
       "4                         N                           3            0  "
      ]
     },
     "execution_count": 4,
     "metadata": {},
     "output_type": "execute_result"
    }
   ],
   "source": [
    "df_train.head()"
   ]
  },
  {
   "cell_type": "code",
   "execution_count": 5,
   "id": "ff0ae9b9",
   "metadata": {
    "execution": {
     "iopub.execute_input": "2024-10-10T22:27:47.687229Z",
     "iopub.status.busy": "2024-10-10T22:27:47.686374Z",
     "iopub.status.idle": "2024-10-10T22:27:47.694243Z",
     "shell.execute_reply": "2024-10-10T22:27:47.692806Z"
    },
    "papermill": {
     "duration": 0.023147,
     "end_time": "2024-10-10T22:27:47.696859",
     "exception": false,
     "start_time": "2024-10-10T22:27:47.673712",
     "status": "completed"
    },
    "tags": []
   },
   "outputs": [
    {
     "data": {
      "text/plain": [
       "(58645, 13)"
      ]
     },
     "execution_count": 5,
     "metadata": {},
     "output_type": "execute_result"
    }
   ],
   "source": [
    "df_train.shape"
   ]
  },
  {
   "cell_type": "code",
   "execution_count": 6,
   "id": "8df5a391",
   "metadata": {
    "execution": {
     "iopub.execute_input": "2024-10-10T22:27:47.721571Z",
     "iopub.status.busy": "2024-10-10T22:27:47.721150Z",
     "iopub.status.idle": "2024-10-10T22:27:47.729415Z",
     "shell.execute_reply": "2024-10-10T22:27:47.728134Z"
    },
    "papermill": {
     "duration": 0.02376,
     "end_time": "2024-10-10T22:27:47.732174",
     "exception": false,
     "start_time": "2024-10-10T22:27:47.708414",
     "status": "completed"
    },
    "tags": []
   },
   "outputs": [
    {
     "data": {
      "text/plain": [
       "(39098, 12)"
      ]
     },
     "execution_count": 6,
     "metadata": {},
     "output_type": "execute_result"
    }
   ],
   "source": [
    "df_test.shape"
   ]
  },
  {
   "cell_type": "code",
   "execution_count": 7,
   "id": "a4e4e664",
   "metadata": {
    "execution": {
     "iopub.execute_input": "2024-10-10T22:27:47.757647Z",
     "iopub.status.busy": "2024-10-10T22:27:47.757219Z",
     "iopub.status.idle": "2024-10-10T22:27:47.767330Z",
     "shell.execute_reply": "2024-10-10T22:27:47.766004Z"
    },
    "papermill": {
     "duration": 0.025688,
     "end_time": "2024-10-10T22:27:47.769985",
     "exception": false,
     "start_time": "2024-10-10T22:27:47.744297",
     "status": "completed"
    },
    "tags": []
   },
   "outputs": [
    {
     "data": {
      "text/plain": [
       "id                              int64\n",
       "person_age                      int64\n",
       "person_income                   int64\n",
       "person_home_ownership          object\n",
       "person_emp_length             float64\n",
       "loan_intent                    object\n",
       "loan_grade                     object\n",
       "loan_amnt                       int64\n",
       "loan_int_rate                 float64\n",
       "loan_percent_income           float64\n",
       "cb_person_default_on_file      object\n",
       "cb_person_cred_hist_length      int64\n",
       "loan_status                     int64\n",
       "dtype: object"
      ]
     },
     "execution_count": 7,
     "metadata": {},
     "output_type": "execute_result"
    }
   ],
   "source": [
    "df_train.dtypes"
   ]
  },
  {
   "cell_type": "code",
   "execution_count": 8,
   "id": "237871b5",
   "metadata": {
    "execution": {
     "iopub.execute_input": "2024-10-10T22:27:47.795786Z",
     "iopub.status.busy": "2024-10-10T22:27:47.795295Z",
     "iopub.status.idle": "2024-10-10T22:27:47.805485Z",
     "shell.execute_reply": "2024-10-10T22:27:47.804090Z"
    },
    "papermill": {
     "duration": 0.026508,
     "end_time": "2024-10-10T22:27:47.808295",
     "exception": false,
     "start_time": "2024-10-10T22:27:47.781787",
     "status": "completed"
    },
    "tags": []
   },
   "outputs": [
    {
     "data": {
      "text/plain": [
       "id                              int64\n",
       "person_age                      int64\n",
       "person_income                   int64\n",
       "person_home_ownership          object\n",
       "person_emp_length             float64\n",
       "loan_intent                    object\n",
       "loan_grade                     object\n",
       "loan_amnt                       int64\n",
       "loan_int_rate                 float64\n",
       "loan_percent_income           float64\n",
       "cb_person_default_on_file      object\n",
       "cb_person_cred_hist_length      int64\n",
       "loan_status                     int64\n",
       "dtype: object"
      ]
     },
     "execution_count": 8,
     "metadata": {},
     "output_type": "execute_result"
    }
   ],
   "source": [
    "df_train.dtypes"
   ]
  },
  {
   "cell_type": "code",
   "execution_count": 9,
   "id": "efe42653",
   "metadata": {
    "execution": {
     "iopub.execute_input": "2024-10-10T22:27:47.834532Z",
     "iopub.status.busy": "2024-10-10T22:27:47.834095Z",
     "iopub.status.idle": "2024-10-10T22:27:47.904288Z",
     "shell.execute_reply": "2024-10-10T22:27:47.902619Z"
    },
    "papermill": {
     "duration": 0.086742,
     "end_time": "2024-10-10T22:27:47.907161",
     "exception": false,
     "start_time": "2024-10-10T22:27:47.820419",
     "status": "completed"
    },
    "tags": []
   },
   "outputs": [
    {
     "data": {
      "text/html": [
       "<div>\n",
       "<style scoped>\n",
       "    .dataframe tbody tr th:only-of-type {\n",
       "        vertical-align: middle;\n",
       "    }\n",
       "\n",
       "    .dataframe tbody tr th {\n",
       "        vertical-align: top;\n",
       "    }\n",
       "\n",
       "    .dataframe thead th {\n",
       "        text-align: right;\n",
       "    }\n",
       "</style>\n",
       "<table border=\"1\" class=\"dataframe\">\n",
       "  <thead>\n",
       "    <tr style=\"text-align: right;\">\n",
       "      <th></th>\n",
       "      <th>id</th>\n",
       "      <th>person_age</th>\n",
       "      <th>person_income</th>\n",
       "      <th>person_emp_length</th>\n",
       "      <th>loan_amnt</th>\n",
       "      <th>loan_int_rate</th>\n",
       "      <th>loan_percent_income</th>\n",
       "      <th>cb_person_cred_hist_length</th>\n",
       "      <th>loan_status</th>\n",
       "    </tr>\n",
       "  </thead>\n",
       "  <tbody>\n",
       "    <tr>\n",
       "      <th>count</th>\n",
       "      <td>58645.000000</td>\n",
       "      <td>58645.000000</td>\n",
       "      <td>5.864500e+04</td>\n",
       "      <td>58645.000000</td>\n",
       "      <td>58645.000000</td>\n",
       "      <td>58645.000000</td>\n",
       "      <td>58645.000000</td>\n",
       "      <td>58645.000000</td>\n",
       "      <td>58645.000000</td>\n",
       "    </tr>\n",
       "    <tr>\n",
       "      <th>mean</th>\n",
       "      <td>29322.000000</td>\n",
       "      <td>27.550857</td>\n",
       "      <td>6.404617e+04</td>\n",
       "      <td>4.701015</td>\n",
       "      <td>9217.556518</td>\n",
       "      <td>10.677874</td>\n",
       "      <td>0.159238</td>\n",
       "      <td>5.813556</td>\n",
       "      <td>0.142382</td>\n",
       "    </tr>\n",
       "    <tr>\n",
       "      <th>std</th>\n",
       "      <td>16929.497605</td>\n",
       "      <td>6.033216</td>\n",
       "      <td>3.793111e+04</td>\n",
       "      <td>3.959784</td>\n",
       "      <td>5563.807384</td>\n",
       "      <td>3.034697</td>\n",
       "      <td>0.091692</td>\n",
       "      <td>4.029196</td>\n",
       "      <td>0.349445</td>\n",
       "    </tr>\n",
       "    <tr>\n",
       "      <th>min</th>\n",
       "      <td>0.000000</td>\n",
       "      <td>20.000000</td>\n",
       "      <td>4.200000e+03</td>\n",
       "      <td>0.000000</td>\n",
       "      <td>500.000000</td>\n",
       "      <td>5.420000</td>\n",
       "      <td>0.000000</td>\n",
       "      <td>2.000000</td>\n",
       "      <td>0.000000</td>\n",
       "    </tr>\n",
       "    <tr>\n",
       "      <th>25%</th>\n",
       "      <td>14661.000000</td>\n",
       "      <td>23.000000</td>\n",
       "      <td>4.200000e+04</td>\n",
       "      <td>2.000000</td>\n",
       "      <td>5000.000000</td>\n",
       "      <td>7.880000</td>\n",
       "      <td>0.090000</td>\n",
       "      <td>3.000000</td>\n",
       "      <td>0.000000</td>\n",
       "    </tr>\n",
       "    <tr>\n",
       "      <th>50%</th>\n",
       "      <td>29322.000000</td>\n",
       "      <td>26.000000</td>\n",
       "      <td>5.800000e+04</td>\n",
       "      <td>4.000000</td>\n",
       "      <td>8000.000000</td>\n",
       "      <td>10.750000</td>\n",
       "      <td>0.140000</td>\n",
       "      <td>4.000000</td>\n",
       "      <td>0.000000</td>\n",
       "    </tr>\n",
       "    <tr>\n",
       "      <th>75%</th>\n",
       "      <td>43983.000000</td>\n",
       "      <td>30.000000</td>\n",
       "      <td>7.560000e+04</td>\n",
       "      <td>7.000000</td>\n",
       "      <td>12000.000000</td>\n",
       "      <td>12.990000</td>\n",
       "      <td>0.210000</td>\n",
       "      <td>8.000000</td>\n",
       "      <td>0.000000</td>\n",
       "    </tr>\n",
       "    <tr>\n",
       "      <th>max</th>\n",
       "      <td>58644.000000</td>\n",
       "      <td>123.000000</td>\n",
       "      <td>1.900000e+06</td>\n",
       "      <td>123.000000</td>\n",
       "      <td>35000.000000</td>\n",
       "      <td>23.220000</td>\n",
       "      <td>0.830000</td>\n",
       "      <td>30.000000</td>\n",
       "      <td>1.000000</td>\n",
       "    </tr>\n",
       "  </tbody>\n",
       "</table>\n",
       "</div>"
      ],
      "text/plain": [
       "                 id    person_age  person_income  person_emp_length  \\\n",
       "count  58645.000000  58645.000000   5.864500e+04       58645.000000   \n",
       "mean   29322.000000     27.550857   6.404617e+04           4.701015   \n",
       "std    16929.497605      6.033216   3.793111e+04           3.959784   \n",
       "min        0.000000     20.000000   4.200000e+03           0.000000   \n",
       "25%    14661.000000     23.000000   4.200000e+04           2.000000   \n",
       "50%    29322.000000     26.000000   5.800000e+04           4.000000   \n",
       "75%    43983.000000     30.000000   7.560000e+04           7.000000   \n",
       "max    58644.000000    123.000000   1.900000e+06         123.000000   \n",
       "\n",
       "          loan_amnt  loan_int_rate  loan_percent_income  \\\n",
       "count  58645.000000   58645.000000         58645.000000   \n",
       "mean    9217.556518      10.677874             0.159238   \n",
       "std     5563.807384       3.034697             0.091692   \n",
       "min      500.000000       5.420000             0.000000   \n",
       "25%     5000.000000       7.880000             0.090000   \n",
       "50%     8000.000000      10.750000             0.140000   \n",
       "75%    12000.000000      12.990000             0.210000   \n",
       "max    35000.000000      23.220000             0.830000   \n",
       "\n",
       "       cb_person_cred_hist_length   loan_status  \n",
       "count                58645.000000  58645.000000  \n",
       "mean                     5.813556      0.142382  \n",
       "std                      4.029196      0.349445  \n",
       "min                      2.000000      0.000000  \n",
       "25%                      3.000000      0.000000  \n",
       "50%                      4.000000      0.000000  \n",
       "75%                      8.000000      0.000000  \n",
       "max                     30.000000      1.000000  "
      ]
     },
     "execution_count": 9,
     "metadata": {},
     "output_type": "execute_result"
    }
   ],
   "source": [
    "df_train.describe()"
   ]
  },
  {
   "cell_type": "code",
   "execution_count": 10,
   "id": "8296d093",
   "metadata": {
    "execution": {
     "iopub.execute_input": "2024-10-10T22:27:47.934964Z",
     "iopub.status.busy": "2024-10-10T22:27:47.934509Z",
     "iopub.status.idle": "2024-10-10T22:27:47.950798Z",
     "shell.execute_reply": "2024-10-10T22:27:47.949363Z"
    },
    "papermill": {
     "duration": 0.034727,
     "end_time": "2024-10-10T22:27:47.954545",
     "exception": false,
     "start_time": "2024-10-10T22:27:47.919818",
     "status": "completed"
    },
    "tags": []
   },
   "outputs": [],
   "source": [
    "df_train.drop([\"id\"], axis=1, inplace=True)"
   ]
  },
  {
   "cell_type": "markdown",
   "id": "100f01f8",
   "metadata": {
    "papermill": {
     "duration": 0.012929,
     "end_time": "2024-10-10T22:27:47.980475",
     "exception": false,
     "start_time": "2024-10-10T22:27:47.967546",
     "status": "completed"
    },
    "tags": []
   },
   "source": [
    " # Preprocessing and Encoding Categorical Features"
   ]
  },
  {
   "cell_type": "code",
   "execution_count": 11,
   "id": "6bc330b2",
   "metadata": {
    "execution": {
     "iopub.execute_input": "2024-10-10T22:27:48.009043Z",
     "iopub.status.busy": "2024-10-10T22:27:48.008500Z",
     "iopub.status.idle": "2024-10-10T22:27:48.352289Z",
     "shell.execute_reply": "2024-10-10T22:27:48.350741Z"
    },
    "papermill": {
     "duration": 0.361079,
     "end_time": "2024-10-10T22:27:48.355371",
     "exception": false,
     "start_time": "2024-10-10T22:27:47.994292",
     "status": "completed"
    },
    "tags": []
   },
   "outputs": [],
   "source": [
    "from sklearn.model_selection import train_test_split\n",
    "from sklearn.preprocessing import OneHotEncoder, StandardScaler"
   ]
  },
  {
   "cell_type": "markdown",
   "id": "d5bdc9a2",
   "metadata": {
    "papermill": {
     "duration": 0.012067,
     "end_time": "2024-10-10T22:27:48.380208",
     "exception": false,
     "start_time": "2024-10-10T22:27:48.368141",
     "status": "completed"
    },
    "tags": []
   },
   "source": [
    "## One-Hot Encoding"
   ]
  },
  {
   "cell_type": "code",
   "execution_count": 12,
   "id": "f330e689",
   "metadata": {
    "execution": {
     "iopub.execute_input": "2024-10-10T22:27:48.406795Z",
     "iopub.status.busy": "2024-10-10T22:27:48.406373Z",
     "iopub.status.idle": "2024-10-10T22:27:48.550706Z",
     "shell.execute_reply": "2024-10-10T22:27:48.549308Z"
    },
    "papermill": {
     "duration": 0.161132,
     "end_time": "2024-10-10T22:27:48.553846",
     "exception": false,
     "start_time": "2024-10-10T22:27:48.392714",
     "status": "completed"
    },
    "tags": []
   },
   "outputs": [
    {
     "name": "stderr",
     "output_type": "stream",
     "text": [
      "/opt/conda/lib/python3.10/site-packages/sklearn/preprocessing/_encoders.py:868: FutureWarning: `sparse` was renamed to `sparse_output` in version 1.2 and will be removed in 1.4. `sparse_output` is ignored unless you leave `sparse` to its default value.\n",
      "  warnings.warn(\n",
      "/opt/conda/lib/python3.10/site-packages/sklearn/preprocessing/_encoders.py:868: FutureWarning: `sparse` was renamed to `sparse_output` in version 1.2 and will be removed in 1.4. `sparse_output` is ignored unless you leave `sparse` to its default value.\n",
      "  warnings.warn(\n"
     ]
    }
   ],
   "source": [
    "categorical_columns = ['loan_intent', 'loan_grade', 'person_home_ownership']\n",
    "encoder = OneHotEncoder(sparse=False, handle_unknown='ignore')\n",
    "X_train_encoded = encoder.fit_transform(df_train[categorical_columns])\n",
    "X_test_encoded = encoder.fit_transform(df_test[categorical_columns])"
   ]
  },
  {
   "cell_type": "markdown",
   "id": "9bb888d4",
   "metadata": {
    "papermill": {
     "duration": 0.013994,
     "end_time": "2024-10-10T22:27:48.580357",
     "exception": false,
     "start_time": "2024-10-10T22:27:48.566363",
     "status": "completed"
    },
    "tags": []
   },
   "source": [
    "### Encoded Columns to Dataframe"
   ]
  },
  {
   "cell_type": "code",
   "execution_count": 13,
   "id": "9462a4a6",
   "metadata": {
    "execution": {
     "iopub.execute_input": "2024-10-10T22:27:48.607591Z",
     "iopub.status.busy": "2024-10-10T22:27:48.607111Z",
     "iopub.status.idle": "2024-10-10T22:27:48.614557Z",
     "shell.execute_reply": "2024-10-10T22:27:48.613075Z"
    },
    "papermill": {
     "duration": 0.024417,
     "end_time": "2024-10-10T22:27:48.617381",
     "exception": false,
     "start_time": "2024-10-10T22:27:48.592964",
     "status": "completed"
    },
    "tags": []
   },
   "outputs": [],
   "source": [
    "X_train_encoded_df = pd.DataFrame(X_train_encoded, columns=encoder.get_feature_names_out(categorical_columns))\n",
    "X_test_encoded_df = pd.DataFrame(X_test_encoded, columns=encoder.get_feature_names_out(categorical_columns))"
   ]
  },
  {
   "cell_type": "code",
   "execution_count": 14,
   "id": "dbfd351f",
   "metadata": {
    "execution": {
     "iopub.execute_input": "2024-10-10T22:27:48.646518Z",
     "iopub.status.busy": "2024-10-10T22:27:48.646105Z",
     "iopub.status.idle": "2024-10-10T22:27:48.676293Z",
     "shell.execute_reply": "2024-10-10T22:27:48.675188Z"
    },
    "papermill": {
     "duration": 0.048713,
     "end_time": "2024-10-10T22:27:48.679280",
     "exception": false,
     "start_time": "2024-10-10T22:27:48.630567",
     "status": "completed"
    },
    "tags": []
   },
   "outputs": [
    {
     "data": {
      "text/html": [
       "<div>\n",
       "<style scoped>\n",
       "    .dataframe tbody tr th:only-of-type {\n",
       "        vertical-align: middle;\n",
       "    }\n",
       "\n",
       "    .dataframe tbody tr th {\n",
       "        vertical-align: top;\n",
       "    }\n",
       "\n",
       "    .dataframe thead th {\n",
       "        text-align: right;\n",
       "    }\n",
       "</style>\n",
       "<table border=\"1\" class=\"dataframe\">\n",
       "  <thead>\n",
       "    <tr style=\"text-align: right;\">\n",
       "      <th></th>\n",
       "      <th>loan_intent_DEBTCONSOLIDATION</th>\n",
       "      <th>loan_intent_EDUCATION</th>\n",
       "      <th>loan_intent_HOMEIMPROVEMENT</th>\n",
       "      <th>loan_intent_MEDICAL</th>\n",
       "      <th>loan_intent_PERSONAL</th>\n",
       "      <th>loan_intent_VENTURE</th>\n",
       "      <th>loan_grade_A</th>\n",
       "      <th>loan_grade_B</th>\n",
       "      <th>loan_grade_C</th>\n",
       "      <th>loan_grade_D</th>\n",
       "      <th>loan_grade_E</th>\n",
       "      <th>loan_grade_F</th>\n",
       "      <th>loan_grade_G</th>\n",
       "      <th>person_home_ownership_MORTGAGE</th>\n",
       "      <th>person_home_ownership_OTHER</th>\n",
       "      <th>person_home_ownership_OWN</th>\n",
       "      <th>person_home_ownership_RENT</th>\n",
       "    </tr>\n",
       "  </thead>\n",
       "  <tbody>\n",
       "    <tr>\n",
       "      <th>0</th>\n",
       "      <td>0.0</td>\n",
       "      <td>1.0</td>\n",
       "      <td>0.0</td>\n",
       "      <td>0.0</td>\n",
       "      <td>0.0</td>\n",
       "      <td>0.0</td>\n",
       "      <td>0.0</td>\n",
       "      <td>1.0</td>\n",
       "      <td>0.0</td>\n",
       "      <td>0.0</td>\n",
       "      <td>0.0</td>\n",
       "      <td>0.0</td>\n",
       "      <td>0.0</td>\n",
       "      <td>0.0</td>\n",
       "      <td>0.0</td>\n",
       "      <td>0.0</td>\n",
       "      <td>1.0</td>\n",
       "    </tr>\n",
       "    <tr>\n",
       "      <th>1</th>\n",
       "      <td>0.0</td>\n",
       "      <td>0.0</td>\n",
       "      <td>0.0</td>\n",
       "      <td>1.0</td>\n",
       "      <td>0.0</td>\n",
       "      <td>0.0</td>\n",
       "      <td>0.0</td>\n",
       "      <td>0.0</td>\n",
       "      <td>1.0</td>\n",
       "      <td>0.0</td>\n",
       "      <td>0.0</td>\n",
       "      <td>0.0</td>\n",
       "      <td>0.0</td>\n",
       "      <td>0.0</td>\n",
       "      <td>0.0</td>\n",
       "      <td>1.0</td>\n",
       "      <td>0.0</td>\n",
       "    </tr>\n",
       "    <tr>\n",
       "      <th>2</th>\n",
       "      <td>0.0</td>\n",
       "      <td>0.0</td>\n",
       "      <td>0.0</td>\n",
       "      <td>0.0</td>\n",
       "      <td>1.0</td>\n",
       "      <td>0.0</td>\n",
       "      <td>1.0</td>\n",
       "      <td>0.0</td>\n",
       "      <td>0.0</td>\n",
       "      <td>0.0</td>\n",
       "      <td>0.0</td>\n",
       "      <td>0.0</td>\n",
       "      <td>0.0</td>\n",
       "      <td>0.0</td>\n",
       "      <td>0.0</td>\n",
       "      <td>1.0</td>\n",
       "      <td>0.0</td>\n",
       "    </tr>\n",
       "    <tr>\n",
       "      <th>3</th>\n",
       "      <td>0.0</td>\n",
       "      <td>0.0</td>\n",
       "      <td>0.0</td>\n",
       "      <td>0.0</td>\n",
       "      <td>0.0</td>\n",
       "      <td>1.0</td>\n",
       "      <td>0.0</td>\n",
       "      <td>1.0</td>\n",
       "      <td>0.0</td>\n",
       "      <td>0.0</td>\n",
       "      <td>0.0</td>\n",
       "      <td>0.0</td>\n",
       "      <td>0.0</td>\n",
       "      <td>0.0</td>\n",
       "      <td>0.0</td>\n",
       "      <td>0.0</td>\n",
       "      <td>1.0</td>\n",
       "    </tr>\n",
       "    <tr>\n",
       "      <th>4</th>\n",
       "      <td>0.0</td>\n",
       "      <td>0.0</td>\n",
       "      <td>0.0</td>\n",
       "      <td>1.0</td>\n",
       "      <td>0.0</td>\n",
       "      <td>0.0</td>\n",
       "      <td>1.0</td>\n",
       "      <td>0.0</td>\n",
       "      <td>0.0</td>\n",
       "      <td>0.0</td>\n",
       "      <td>0.0</td>\n",
       "      <td>0.0</td>\n",
       "      <td>0.0</td>\n",
       "      <td>0.0</td>\n",
       "      <td>0.0</td>\n",
       "      <td>0.0</td>\n",
       "      <td>1.0</td>\n",
       "    </tr>\n",
       "  </tbody>\n",
       "</table>\n",
       "</div>"
      ],
      "text/plain": [
       "   loan_intent_DEBTCONSOLIDATION  loan_intent_EDUCATION  \\\n",
       "0                            0.0                    1.0   \n",
       "1                            0.0                    0.0   \n",
       "2                            0.0                    0.0   \n",
       "3                            0.0                    0.0   \n",
       "4                            0.0                    0.0   \n",
       "\n",
       "   loan_intent_HOMEIMPROVEMENT  loan_intent_MEDICAL  loan_intent_PERSONAL  \\\n",
       "0                          0.0                  0.0                   0.0   \n",
       "1                          0.0                  1.0                   0.0   \n",
       "2                          0.0                  0.0                   1.0   \n",
       "3                          0.0                  0.0                   0.0   \n",
       "4                          0.0                  1.0                   0.0   \n",
       "\n",
       "   loan_intent_VENTURE  loan_grade_A  loan_grade_B  loan_grade_C  \\\n",
       "0                  0.0           0.0           1.0           0.0   \n",
       "1                  0.0           0.0           0.0           1.0   \n",
       "2                  0.0           1.0           0.0           0.0   \n",
       "3                  1.0           0.0           1.0           0.0   \n",
       "4                  0.0           1.0           0.0           0.0   \n",
       "\n",
       "   loan_grade_D  loan_grade_E  loan_grade_F  loan_grade_G  \\\n",
       "0           0.0           0.0           0.0           0.0   \n",
       "1           0.0           0.0           0.0           0.0   \n",
       "2           0.0           0.0           0.0           0.0   \n",
       "3           0.0           0.0           0.0           0.0   \n",
       "4           0.0           0.0           0.0           0.0   \n",
       "\n",
       "   person_home_ownership_MORTGAGE  person_home_ownership_OTHER  \\\n",
       "0                             0.0                          0.0   \n",
       "1                             0.0                          0.0   \n",
       "2                             0.0                          0.0   \n",
       "3                             0.0                          0.0   \n",
       "4                             0.0                          0.0   \n",
       "\n",
       "   person_home_ownership_OWN  person_home_ownership_RENT  \n",
       "0                        0.0                         1.0  \n",
       "1                        1.0                         0.0  \n",
       "2                        1.0                         0.0  \n",
       "3                        0.0                         1.0  \n",
       "4                        0.0                         1.0  "
      ]
     },
     "execution_count": 14,
     "metadata": {},
     "output_type": "execute_result"
    }
   ],
   "source": [
    "X_train_encoded_df.head()"
   ]
  },
  {
   "cell_type": "markdown",
   "id": "8fb80d67",
   "metadata": {
    "papermill": {
     "duration": 0.014156,
     "end_time": "2024-10-10T22:27:48.706266",
     "exception": false,
     "start_time": "2024-10-10T22:27:48.692110",
     "status": "completed"
    },
    "tags": []
   },
   "source": [
    "## Concatenate Numerical Data"
   ]
  },
  {
   "cell_type": "code",
   "execution_count": 15,
   "id": "55445d0c",
   "metadata": {
    "execution": {
     "iopub.execute_input": "2024-10-10T22:27:48.733603Z",
     "iopub.status.busy": "2024-10-10T22:27:48.733202Z",
     "iopub.status.idle": "2024-10-10T22:27:48.744850Z",
     "shell.execute_reply": "2024-10-10T22:27:48.743329Z"
    },
    "papermill": {
     "duration": 0.028659,
     "end_time": "2024-10-10T22:27:48.747727",
     "exception": false,
     "start_time": "2024-10-10T22:27:48.719068",
     "status": "completed"
    },
    "tags": []
   },
   "outputs": [],
   "source": [
    "X_train_num = df_train.drop(categorical_columns + [\"cb_person_default_on_file\"], axis=1).reset_index(drop=True)\n",
    "X_test_num = df_test.drop(categorical_columns+ [\"cb_person_default_on_file\"], axis=1).reset_index(drop=True)"
   ]
  },
  {
   "cell_type": "code",
   "execution_count": 16,
   "id": "bf5c814e",
   "metadata": {
    "execution": {
     "iopub.execute_input": "2024-10-10T22:27:48.775820Z",
     "iopub.status.busy": "2024-10-10T22:27:48.775414Z",
     "iopub.status.idle": "2024-10-10T22:27:48.793064Z",
     "shell.execute_reply": "2024-10-10T22:27:48.791579Z"
    },
    "papermill": {
     "duration": 0.03541,
     "end_time": "2024-10-10T22:27:48.795807",
     "exception": false,
     "start_time": "2024-10-10T22:27:48.760397",
     "status": "completed"
    },
    "tags": []
   },
   "outputs": [
    {
     "data": {
      "text/html": [
       "<div>\n",
       "<style scoped>\n",
       "    .dataframe tbody tr th:only-of-type {\n",
       "        vertical-align: middle;\n",
       "    }\n",
       "\n",
       "    .dataframe tbody tr th {\n",
       "        vertical-align: top;\n",
       "    }\n",
       "\n",
       "    .dataframe thead th {\n",
       "        text-align: right;\n",
       "    }\n",
       "</style>\n",
       "<table border=\"1\" class=\"dataframe\">\n",
       "  <thead>\n",
       "    <tr style=\"text-align: right;\">\n",
       "      <th></th>\n",
       "      <th>person_age</th>\n",
       "      <th>person_income</th>\n",
       "      <th>person_emp_length</th>\n",
       "      <th>loan_amnt</th>\n",
       "      <th>loan_int_rate</th>\n",
       "      <th>loan_percent_income</th>\n",
       "      <th>cb_person_cred_hist_length</th>\n",
       "      <th>loan_status</th>\n",
       "    </tr>\n",
       "  </thead>\n",
       "  <tbody>\n",
       "    <tr>\n",
       "      <th>0</th>\n",
       "      <td>37</td>\n",
       "      <td>35000</td>\n",
       "      <td>0.0</td>\n",
       "      <td>6000</td>\n",
       "      <td>11.49</td>\n",
       "      <td>0.17</td>\n",
       "      <td>14</td>\n",
       "      <td>0</td>\n",
       "    </tr>\n",
       "    <tr>\n",
       "      <th>1</th>\n",
       "      <td>22</td>\n",
       "      <td>56000</td>\n",
       "      <td>6.0</td>\n",
       "      <td>4000</td>\n",
       "      <td>13.35</td>\n",
       "      <td>0.07</td>\n",
       "      <td>2</td>\n",
       "      <td>0</td>\n",
       "    </tr>\n",
       "    <tr>\n",
       "      <th>2</th>\n",
       "      <td>29</td>\n",
       "      <td>28800</td>\n",
       "      <td>8.0</td>\n",
       "      <td>6000</td>\n",
       "      <td>8.90</td>\n",
       "      <td>0.21</td>\n",
       "      <td>10</td>\n",
       "      <td>0</td>\n",
       "    </tr>\n",
       "    <tr>\n",
       "      <th>3</th>\n",
       "      <td>30</td>\n",
       "      <td>70000</td>\n",
       "      <td>14.0</td>\n",
       "      <td>12000</td>\n",
       "      <td>11.11</td>\n",
       "      <td>0.17</td>\n",
       "      <td>5</td>\n",
       "      <td>0</td>\n",
       "    </tr>\n",
       "    <tr>\n",
       "      <th>4</th>\n",
       "      <td>22</td>\n",
       "      <td>60000</td>\n",
       "      <td>2.0</td>\n",
       "      <td>6000</td>\n",
       "      <td>6.92</td>\n",
       "      <td>0.10</td>\n",
       "      <td>3</td>\n",
       "      <td>0</td>\n",
       "    </tr>\n",
       "  </tbody>\n",
       "</table>\n",
       "</div>"
      ],
      "text/plain": [
       "   person_age  person_income  person_emp_length  loan_amnt  loan_int_rate  \\\n",
       "0          37          35000                0.0       6000          11.49   \n",
       "1          22          56000                6.0       4000          13.35   \n",
       "2          29          28800                8.0       6000           8.90   \n",
       "3          30          70000               14.0      12000          11.11   \n",
       "4          22          60000                2.0       6000           6.92   \n",
       "\n",
       "   loan_percent_income  cb_person_cred_hist_length  loan_status  \n",
       "0                 0.17                          14            0  \n",
       "1                 0.07                           2            0  \n",
       "2                 0.21                          10            0  \n",
       "3                 0.17                           5            0  \n",
       "4                 0.10                           3            0  "
      ]
     },
     "execution_count": 16,
     "metadata": {},
     "output_type": "execute_result"
    }
   ],
   "source": [
    "X_train_num.head()"
   ]
  },
  {
   "cell_type": "markdown",
   "id": "60b93479",
   "metadata": {
    "papermill": {
     "duration": 0.012585,
     "end_time": "2024-10-10T22:27:48.821628",
     "exception": false,
     "start_time": "2024-10-10T22:27:48.809043",
     "status": "completed"
    },
    "tags": []
   },
   "source": [
    "## Standardize Numerical Data"
   ]
  },
  {
   "cell_type": "code",
   "execution_count": 17,
   "id": "c1191cb3",
   "metadata": {
    "execution": {
     "iopub.execute_input": "2024-10-10T22:27:48.858125Z",
     "iopub.status.busy": "2024-10-10T22:27:48.857518Z",
     "iopub.status.idle": "2024-10-10T22:27:48.906213Z",
     "shell.execute_reply": "2024-10-10T22:27:48.905122Z"
    },
    "papermill": {
     "duration": 0.071041,
     "end_time": "2024-10-10T22:27:48.909075",
     "exception": false,
     "start_time": "2024-10-10T22:27:48.838034",
     "status": "completed"
    },
    "tags": []
   },
   "outputs": [],
   "source": [
    "scaler = StandardScaler()\n",
    "X_train_num_scaled = scaler.fit_transform(X_train_num) \n",
    "X_test_num_scaled = scaler.fit_transform(X_test_num)"
   ]
  },
  {
   "cell_type": "markdown",
   "id": "bfdd60d6",
   "metadata": {
    "papermill": {
     "duration": 0.012909,
     "end_time": "2024-10-10T22:27:48.935321",
     "exception": false,
     "start_time": "2024-10-10T22:27:48.922412",
     "status": "completed"
    },
    "tags": []
   },
   "source": [
    "### To DataFrame "
   ]
  },
  {
   "cell_type": "code",
   "execution_count": 18,
   "id": "ac2e29e5",
   "metadata": {
    "execution": {
     "iopub.execute_input": "2024-10-10T22:27:48.968235Z",
     "iopub.status.busy": "2024-10-10T22:27:48.967637Z",
     "iopub.status.idle": "2024-10-10T22:27:48.975325Z",
     "shell.execute_reply": "2024-10-10T22:27:48.974084Z"
    },
    "papermill": {
     "duration": 0.029608,
     "end_time": "2024-10-10T22:27:48.978222",
     "exception": false,
     "start_time": "2024-10-10T22:27:48.948614",
     "status": "completed"
    },
    "tags": []
   },
   "outputs": [],
   "source": [
    "X_train_num_df = pd.DataFrame(X_train_num_scaled, columns=X_train_num.columns)\n",
    "X_test_num_df = pd.DataFrame(X_test_num_scaled, columns=X_test_num.columns)\n"
   ]
  },
  {
   "cell_type": "code",
   "execution_count": 19,
   "id": "b18997b5",
   "metadata": {
    "execution": {
     "iopub.execute_input": "2024-10-10T22:27:49.011537Z",
     "iopub.status.busy": "2024-10-10T22:27:49.010960Z",
     "iopub.status.idle": "2024-10-10T22:27:49.034747Z",
     "shell.execute_reply": "2024-10-10T22:27:49.032200Z"
    },
    "papermill": {
     "duration": 0.044322,
     "end_time": "2024-10-10T22:27:49.039753",
     "exception": false,
     "start_time": "2024-10-10T22:27:48.995431",
     "status": "completed"
    },
    "tags": []
   },
   "outputs": [
    {
     "data": {
      "text/html": [
       "<div>\n",
       "<style scoped>\n",
       "    .dataframe tbody tr th:only-of-type {\n",
       "        vertical-align: middle;\n",
       "    }\n",
       "\n",
       "    .dataframe tbody tr th {\n",
       "        vertical-align: top;\n",
       "    }\n",
       "\n",
       "    .dataframe thead th {\n",
       "        text-align: right;\n",
       "    }\n",
       "</style>\n",
       "<table border=\"1\" class=\"dataframe\">\n",
       "  <thead>\n",
       "    <tr style=\"text-align: right;\">\n",
       "      <th></th>\n",
       "      <th>person_age</th>\n",
       "      <th>person_income</th>\n",
       "      <th>person_emp_length</th>\n",
       "      <th>loan_amnt</th>\n",
       "      <th>loan_int_rate</th>\n",
       "      <th>loan_percent_income</th>\n",
       "      <th>cb_person_cred_hist_length</th>\n",
       "      <th>loan_status</th>\n",
       "    </tr>\n",
       "  </thead>\n",
       "  <tbody>\n",
       "    <tr>\n",
       "      <th>0</th>\n",
       "      <td>1.566200</td>\n",
       "      <td>-0.765768</td>\n",
       "      <td>-1.187200</td>\n",
       "      <td>-0.578306</td>\n",
       "      <td>0.267616</td>\n",
       "      <td>0.117378</td>\n",
       "      <td>2.031798</td>\n",
       "      <td>-0.407456</td>\n",
       "    </tr>\n",
       "    <tr>\n",
       "      <th>1</th>\n",
       "      <td>-0.920057</td>\n",
       "      <td>-0.212128</td>\n",
       "      <td>0.328047</td>\n",
       "      <td>-0.937775</td>\n",
       "      <td>0.880532</td>\n",
       "      <td>-0.973242</td>\n",
       "      <td>-0.946489</td>\n",
       "      <td>-0.407456</td>\n",
       "    </tr>\n",
       "    <tr>\n",
       "      <th>2</th>\n",
       "      <td>0.240196</td>\n",
       "      <td>-0.929223</td>\n",
       "      <td>0.833130</td>\n",
       "      <td>-0.578306</td>\n",
       "      <td>-0.585854</td>\n",
       "      <td>0.553626</td>\n",
       "      <td>1.039036</td>\n",
       "      <td>-0.407456</td>\n",
       "    </tr>\n",
       "    <tr>\n",
       "      <th>3</th>\n",
       "      <td>0.405947</td>\n",
       "      <td>0.156966</td>\n",
       "      <td>2.348377</td>\n",
       "      <td>0.500101</td>\n",
       "      <td>0.142396</td>\n",
       "      <td>0.117378</td>\n",
       "      <td>-0.201917</td>\n",
       "      <td>-0.407456</td>\n",
       "    </tr>\n",
       "    <tr>\n",
       "      <th>4</th>\n",
       "      <td>-0.920057</td>\n",
       "      <td>-0.106673</td>\n",
       "      <td>-0.682117</td>\n",
       "      <td>-0.578306</td>\n",
       "      <td>-1.238314</td>\n",
       "      <td>-0.646056</td>\n",
       "      <td>-0.698298</td>\n",
       "      <td>-0.407456</td>\n",
       "    </tr>\n",
       "  </tbody>\n",
       "</table>\n",
       "</div>"
      ],
      "text/plain": [
       "   person_age  person_income  person_emp_length  loan_amnt  loan_int_rate  \\\n",
       "0    1.566200      -0.765768          -1.187200  -0.578306       0.267616   \n",
       "1   -0.920057      -0.212128           0.328047  -0.937775       0.880532   \n",
       "2    0.240196      -0.929223           0.833130  -0.578306      -0.585854   \n",
       "3    0.405947       0.156966           2.348377   0.500101       0.142396   \n",
       "4   -0.920057      -0.106673          -0.682117  -0.578306      -1.238314   \n",
       "\n",
       "   loan_percent_income  cb_person_cred_hist_length  loan_status  \n",
       "0             0.117378                    2.031798    -0.407456  \n",
       "1            -0.973242                   -0.946489    -0.407456  \n",
       "2             0.553626                    1.039036    -0.407456  \n",
       "3             0.117378                   -0.201917    -0.407456  \n",
       "4            -0.646056                   -0.698298    -0.407456  "
      ]
     },
     "execution_count": 19,
     "metadata": {},
     "output_type": "execute_result"
    }
   ],
   "source": [
    "X_train_num_df.head()"
   ]
  },
  {
   "cell_type": "code",
   "execution_count": 20,
   "id": "d10aa05d",
   "metadata": {
    "execution": {
     "iopub.execute_input": "2024-10-10T22:27:49.085448Z",
     "iopub.status.busy": "2024-10-10T22:27:49.083925Z",
     "iopub.status.idle": "2024-10-10T22:27:49.114661Z",
     "shell.execute_reply": "2024-10-10T22:27:49.113376Z"
    },
    "papermill": {
     "duration": 0.057018,
     "end_time": "2024-10-10T22:27:49.118659",
     "exception": false,
     "start_time": "2024-10-10T22:27:49.061641",
     "status": "completed"
    },
    "tags": []
   },
   "outputs": [],
   "source": [
    "X_train_final = pd.concat([X_train_num_df, X_train_encoded_df], axis=1)\n",
    "X_test_final = pd.concat([X_test_num_df, X_test_encoded_df], axis=1)"
   ]
  },
  {
   "cell_type": "code",
   "execution_count": 21,
   "id": "f9ee77d4",
   "metadata": {
    "execution": {
     "iopub.execute_input": "2024-10-10T22:27:49.155201Z",
     "iopub.status.busy": "2024-10-10T22:27:49.154708Z",
     "iopub.status.idle": "2024-10-10T22:27:49.162992Z",
     "shell.execute_reply": "2024-10-10T22:27:49.159281Z"
    },
    "papermill": {
     "duration": 0.028474,
     "end_time": "2024-10-10T22:27:49.167378",
     "exception": false,
     "start_time": "2024-10-10T22:27:49.138904",
     "status": "completed"
    },
    "tags": []
   },
   "outputs": [],
   "source": [
    "y_train = df_train['loan_status']"
   ]
  },
  {
   "cell_type": "code",
   "execution_count": 22,
   "id": "6a24de10",
   "metadata": {
    "execution": {
     "iopub.execute_input": "2024-10-10T22:27:49.198253Z",
     "iopub.status.busy": "2024-10-10T22:27:49.197566Z",
     "iopub.status.idle": "2024-10-10T22:27:49.227182Z",
     "shell.execute_reply": "2024-10-10T22:27:49.226122Z"
    },
    "papermill": {
     "duration": 0.048732,
     "end_time": "2024-10-10T22:27:49.229964",
     "exception": false,
     "start_time": "2024-10-10T22:27:49.181232",
     "status": "completed"
    },
    "tags": []
   },
   "outputs": [],
   "source": [
    "X_train_split, X_val_split, y_train_split, y_val_split = train_test_split(X_train_final, y_train, test_size=0.3, random_state=42)"
   ]
  },
  {
   "cell_type": "code",
   "execution_count": 23,
   "id": "cd3f714f",
   "metadata": {
    "execution": {
     "iopub.execute_input": "2024-10-10T22:27:49.259097Z",
     "iopub.status.busy": "2024-10-10T22:27:49.258557Z",
     "iopub.status.idle": "2024-10-10T22:27:49.280197Z",
     "shell.execute_reply": "2024-10-10T22:27:49.278781Z"
    },
    "papermill": {
     "duration": 0.0401,
     "end_time": "2024-10-10T22:27:49.283479",
     "exception": false,
     "start_time": "2024-10-10T22:27:49.243379",
     "status": "completed"
    },
    "tags": []
   },
   "outputs": [
    {
     "name": "stdout",
     "output_type": "stream",
     "text": [
      "   person_age  person_income  person_emp_length  loan_amnt  loan_int_rate  \\\n",
      "0    1.566200      -0.765768          -1.187200  -0.578306       0.267616   \n",
      "1   -0.920057      -0.212128           0.328047  -0.937775       0.880532   \n",
      "2    0.240196      -0.929223           0.833130  -0.578306      -0.585854   \n",
      "3    0.405947       0.156966           2.348377   0.500101       0.142396   \n",
      "4   -0.920057      -0.106673          -0.682117  -0.578306      -1.238314   \n",
      "\n",
      "   loan_percent_income  cb_person_cred_hist_length  loan_status  \\\n",
      "0             0.117378                    2.031798    -0.407456   \n",
      "1            -0.973242                   -0.946489    -0.407456   \n",
      "2             0.553626                    1.039036    -0.407456   \n",
      "3             0.117378                   -0.201917    -0.407456   \n",
      "4            -0.646056                   -0.698298    -0.407456   \n",
      "\n",
      "   loan_intent_DEBTCONSOLIDATION  loan_intent_EDUCATION  ...  loan_grade_B  \\\n",
      "0                            0.0                    1.0  ...           1.0   \n",
      "1                            0.0                    0.0  ...           0.0   \n",
      "2                            0.0                    0.0  ...           0.0   \n",
      "3                            0.0                    0.0  ...           1.0   \n",
      "4                            0.0                    0.0  ...           0.0   \n",
      "\n",
      "   loan_grade_C  loan_grade_D  loan_grade_E  loan_grade_F  loan_grade_G  \\\n",
      "0           0.0           0.0           0.0           0.0           0.0   \n",
      "1           1.0           0.0           0.0           0.0           0.0   \n",
      "2           0.0           0.0           0.0           0.0           0.0   \n",
      "3           0.0           0.0           0.0           0.0           0.0   \n",
      "4           0.0           0.0           0.0           0.0           0.0   \n",
      "\n",
      "   person_home_ownership_MORTGAGE  person_home_ownership_OTHER  \\\n",
      "0                             0.0                          0.0   \n",
      "1                             0.0                          0.0   \n",
      "2                             0.0                          0.0   \n",
      "3                             0.0                          0.0   \n",
      "4                             0.0                          0.0   \n",
      "\n",
      "   person_home_ownership_OWN  person_home_ownership_RENT  \n",
      "0                        0.0                         1.0  \n",
      "1                        1.0                         0.0  \n",
      "2                        1.0                         0.0  \n",
      "3                        0.0                         1.0  \n",
      "4                        0.0                         1.0  \n",
      "\n",
      "[5 rows x 25 columns]\n"
     ]
    }
   ],
   "source": [
    "print(X_train_final.head())\n"
   ]
  },
  {
   "cell_type": "markdown",
   "id": "4953f916",
   "metadata": {
    "papermill": {
     "duration": 0.0136,
     "end_time": "2024-10-10T22:27:49.310763",
     "exception": false,
     "start_time": "2024-10-10T22:27:49.297163",
     "status": "completed"
    },
    "tags": []
   },
   "source": [
    "# Building ANN Model "
   ]
  },
  {
   "cell_type": "code",
   "execution_count": 24,
   "id": "09c41d3a",
   "metadata": {
    "execution": {
     "iopub.execute_input": "2024-10-10T22:27:49.339465Z",
     "iopub.status.busy": "2024-10-10T22:27:49.338985Z",
     "iopub.status.idle": "2024-10-10T22:28:04.444762Z",
     "shell.execute_reply": "2024-10-10T22:28:04.443527Z"
    },
    "papermill": {
     "duration": 15.123968,
     "end_time": "2024-10-10T22:28:04.448144",
     "exception": false,
     "start_time": "2024-10-10T22:27:49.324176",
     "status": "completed"
    },
    "tags": []
   },
   "outputs": [],
   "source": [
    "import tensorflow as tf\n",
    "from tensorflow.keras.models import Sequential\n",
    "from tensorflow.keras.layers import Dense, Dropout\n",
    "\n",
    "model = Sequential()"
   ]
  },
  {
   "cell_type": "code",
   "execution_count": 25,
   "id": "07c9ea9a",
   "metadata": {
    "execution": {
     "iopub.execute_input": "2024-10-10T22:28:04.485719Z",
     "iopub.status.busy": "2024-10-10T22:28:04.484777Z",
     "iopub.status.idle": "2024-10-10T22:28:04.631973Z",
     "shell.execute_reply": "2024-10-10T22:28:04.630583Z"
    },
    "papermill": {
     "duration": 0.167005,
     "end_time": "2024-10-10T22:28:04.635094",
     "exception": false,
     "start_time": "2024-10-10T22:28:04.468089",
     "status": "completed"
    },
    "tags": []
   },
   "outputs": [
    {
     "name": "stderr",
     "output_type": "stream",
     "text": [
      "/opt/conda/lib/python3.10/site-packages/keras/src/layers/core/dense.py:87: UserWarning: Do not pass an `input_shape`/`input_dim` argument to a layer. When using Sequential models, prefer using an `Input(shape)` object as the first layer in the model instead.\n",
      "  super().__init__(activity_regularizer=activity_regularizer, **kwargs)\n"
     ]
    },
    {
     "data": {
      "text/html": [
       "<pre style=\"white-space:pre;overflow-x:auto;line-height:normal;font-family:Menlo,'DejaVu Sans Mono',consolas,'Courier New',monospace\"><span style=\"font-weight: bold\">Model: \"sequential\"</span>\n",
       "</pre>\n"
      ],
      "text/plain": [
       "\u001b[1mModel: \"sequential\"\u001b[0m\n"
      ]
     },
     "metadata": {},
     "output_type": "display_data"
    },
    {
     "data": {
      "text/html": [
       "<pre style=\"white-space:pre;overflow-x:auto;line-height:normal;font-family:Menlo,'DejaVu Sans Mono',consolas,'Courier New',monospace\">┏━━━━━━━━━━━━━━━━━━━━━━━━━━━━━━━━━┳━━━━━━━━━━━━━━━━━━━━━━━━┳━━━━━━━━━━━━━━━┓\n",
       "┃<span style=\"font-weight: bold\"> Layer (type)                    </span>┃<span style=\"font-weight: bold\"> Output Shape           </span>┃<span style=\"font-weight: bold\">       Param # </span>┃\n",
       "┡━━━━━━━━━━━━━━━━━━━━━━━━━━━━━━━━━╇━━━━━━━━━━━━━━━━━━━━━━━━╇━━━━━━━━━━━━━━━┩\n",
       "│ dense (<span style=\"color: #0087ff; text-decoration-color: #0087ff\">Dense</span>)                   │ (<span style=\"color: #00d7ff; text-decoration-color: #00d7ff\">None</span>, <span style=\"color: #00af00; text-decoration-color: #00af00\">64</span>)             │         <span style=\"color: #00af00; text-decoration-color: #00af00\">1,664</span> │\n",
       "├─────────────────────────────────┼────────────────────────┼───────────────┤\n",
       "│ dense_1 (<span style=\"color: #0087ff; text-decoration-color: #0087ff\">Dense</span>)                 │ (<span style=\"color: #00d7ff; text-decoration-color: #00d7ff\">None</span>, <span style=\"color: #00af00; text-decoration-color: #00af00\">32</span>)             │         <span style=\"color: #00af00; text-decoration-color: #00af00\">2,080</span> │\n",
       "├─────────────────────────────────┼────────────────────────┼───────────────┤\n",
       "│ dropout (<span style=\"color: #0087ff; text-decoration-color: #0087ff\">Dropout</span>)               │ (<span style=\"color: #00d7ff; text-decoration-color: #00d7ff\">None</span>, <span style=\"color: #00af00; text-decoration-color: #00af00\">32</span>)             │             <span style=\"color: #00af00; text-decoration-color: #00af00\">0</span> │\n",
       "├─────────────────────────────────┼────────────────────────┼───────────────┤\n",
       "│ dense_2 (<span style=\"color: #0087ff; text-decoration-color: #0087ff\">Dense</span>)                 │ (<span style=\"color: #00d7ff; text-decoration-color: #00d7ff\">None</span>, <span style=\"color: #00af00; text-decoration-color: #00af00\">1</span>)              │            <span style=\"color: #00af00; text-decoration-color: #00af00\">33</span> │\n",
       "└─────────────────────────────────┴────────────────────────┴───────────────┘\n",
       "</pre>\n"
      ],
      "text/plain": [
       "┏━━━━━━━━━━━━━━━━━━━━━━━━━━━━━━━━━┳━━━━━━━━━━━━━━━━━━━━━━━━┳━━━━━━━━━━━━━━━┓\n",
       "┃\u001b[1m \u001b[0m\u001b[1mLayer (type)                   \u001b[0m\u001b[1m \u001b[0m┃\u001b[1m \u001b[0m\u001b[1mOutput Shape          \u001b[0m\u001b[1m \u001b[0m┃\u001b[1m \u001b[0m\u001b[1m      Param #\u001b[0m\u001b[1m \u001b[0m┃\n",
       "┡━━━━━━━━━━━━━━━━━━━━━━━━━━━━━━━━━╇━━━━━━━━━━━━━━━━━━━━━━━━╇━━━━━━━━━━━━━━━┩\n",
       "│ dense (\u001b[38;5;33mDense\u001b[0m)                   │ (\u001b[38;5;45mNone\u001b[0m, \u001b[38;5;34m64\u001b[0m)             │         \u001b[38;5;34m1,664\u001b[0m │\n",
       "├─────────────────────────────────┼────────────────────────┼───────────────┤\n",
       "│ dense_1 (\u001b[38;5;33mDense\u001b[0m)                 │ (\u001b[38;5;45mNone\u001b[0m, \u001b[38;5;34m32\u001b[0m)             │         \u001b[38;5;34m2,080\u001b[0m │\n",
       "├─────────────────────────────────┼────────────────────────┼───────────────┤\n",
       "│ dropout (\u001b[38;5;33mDropout\u001b[0m)               │ (\u001b[38;5;45mNone\u001b[0m, \u001b[38;5;34m32\u001b[0m)             │             \u001b[38;5;34m0\u001b[0m │\n",
       "├─────────────────────────────────┼────────────────────────┼───────────────┤\n",
       "│ dense_2 (\u001b[38;5;33mDense\u001b[0m)                 │ (\u001b[38;5;45mNone\u001b[0m, \u001b[38;5;34m1\u001b[0m)              │            \u001b[38;5;34m33\u001b[0m │\n",
       "└─────────────────────────────────┴────────────────────────┴───────────────┘\n"
      ]
     },
     "metadata": {},
     "output_type": "display_data"
    },
    {
     "data": {
      "text/html": [
       "<pre style=\"white-space:pre;overflow-x:auto;line-height:normal;font-family:Menlo,'DejaVu Sans Mono',consolas,'Courier New',monospace\"><span style=\"font-weight: bold\"> Total params: </span><span style=\"color: #00af00; text-decoration-color: #00af00\">3,777</span> (14.75 KB)\n",
       "</pre>\n"
      ],
      "text/plain": [
       "\u001b[1m Total params: \u001b[0m\u001b[38;5;34m3,777\u001b[0m (14.75 KB)\n"
      ]
     },
     "metadata": {},
     "output_type": "display_data"
    },
    {
     "data": {
      "text/html": [
       "<pre style=\"white-space:pre;overflow-x:auto;line-height:normal;font-family:Menlo,'DejaVu Sans Mono',consolas,'Courier New',monospace\"><span style=\"font-weight: bold\"> Trainable params: </span><span style=\"color: #00af00; text-decoration-color: #00af00\">3,777</span> (14.75 KB)\n",
       "</pre>\n"
      ],
      "text/plain": [
       "\u001b[1m Trainable params: \u001b[0m\u001b[38;5;34m3,777\u001b[0m (14.75 KB)\n"
      ]
     },
     "metadata": {},
     "output_type": "display_data"
    },
    {
     "data": {
      "text/html": [
       "<pre style=\"white-space:pre;overflow-x:auto;line-height:normal;font-family:Menlo,'DejaVu Sans Mono',consolas,'Courier New',monospace\"><span style=\"font-weight: bold\"> Non-trainable params: </span><span style=\"color: #00af00; text-decoration-color: #00af00\">0</span> (0.00 B)\n",
       "</pre>\n"
      ],
      "text/plain": [
       "\u001b[1m Non-trainable params: \u001b[0m\u001b[38;5;34m0\u001b[0m (0.00 B)\n"
      ]
     },
     "metadata": {},
     "output_type": "display_data"
    }
   ],
   "source": [
    "#input layer\n",
    "model.add(Dense(units=64, activation =\"relu\", input_shape=(X_train_split.shape[1],)))\n",
    "\n",
    "#hidden layers\n",
    "model.add(Dense(units=32, activation = \"relu\"))\n",
    "model.add(Dropout(0.5))\n",
    "\n",
    "#output layer\n",
    "model.add(Dense(units=1, activation = \"sigmoid\"))\n",
    "\n",
    "model.compile(optimizer=\"adam\", loss=\"binary_crossentropy\", metrics=[\"accuracy\"])\n",
    "\n",
    "model.summary()"
   ]
  },
  {
   "cell_type": "markdown",
   "id": "7a3b86d1",
   "metadata": {
    "papermill": {
     "duration": 0.014426,
     "end_time": "2024-10-10T22:28:04.668831",
     "exception": false,
     "start_time": "2024-10-10T22:28:04.654405",
     "status": "completed"
    },
    "tags": []
   },
   "source": [
    "# Training Model"
   ]
  },
  {
   "cell_type": "code",
   "execution_count": 26,
   "id": "12dcafa2",
   "metadata": {
    "execution": {
     "iopub.execute_input": "2024-10-10T22:28:04.715103Z",
     "iopub.status.busy": "2024-10-10T22:28:04.714528Z",
     "iopub.status.idle": "2024-10-10T22:29:09.786231Z",
     "shell.execute_reply": "2024-10-10T22:29:09.784637Z"
    },
    "papermill": {
     "duration": 65.100684,
     "end_time": "2024-10-10T22:29:09.789072",
     "exception": false,
     "start_time": "2024-10-10T22:28:04.688388",
     "status": "completed"
    },
    "tags": []
   },
   "outputs": [
    {
     "name": "stdout",
     "output_type": "stream",
     "text": [
      "Epoch 1/100\n",
      "\u001b[1m1283/1283\u001b[0m \u001b[32m━━━━━━━━━━━━━━━━━━━━\u001b[0m\u001b[37m\u001b[0m \u001b[1m5s\u001b[0m 2ms/step - accuracy: 0.9747 - loss: 0.0963 - val_accuracy: 1.0000 - val_loss: 1.5148e-05\n",
      "Epoch 2/100\n",
      "\u001b[1m1283/1283\u001b[0m \u001b[32m━━━━━━━━━━━━━━━━━━━━\u001b[0m\u001b[37m\u001b[0m \u001b[1m3s\u001b[0m 2ms/step - accuracy: 0.9997 - loss: 7.0958e-04 - val_accuracy: 1.0000 - val_loss: 4.6945e-07\n",
      "Epoch 3/100\n",
      "\u001b[1m1283/1283\u001b[0m \u001b[32m━━━━━━━━━━━━━━━━━━━━\u001b[0m\u001b[37m\u001b[0m \u001b[1m3s\u001b[0m 2ms/step - accuracy: 0.9997 - loss: 4.1287e-04 - val_accuracy: 1.0000 - val_loss: 1.0440e-08\n",
      "Epoch 4/100\n",
      "\u001b[1m1283/1283\u001b[0m \u001b[32m━━━━━━━━━━━━━━━━━━━━\u001b[0m\u001b[37m\u001b[0m \u001b[1m3s\u001b[0m 2ms/step - accuracy: 0.9999 - loss: 2.3538e-04 - val_accuracy: 1.0000 - val_loss: 1.1818e-09\n",
      "Epoch 5/100\n",
      "\u001b[1m1283/1283\u001b[0m \u001b[32m━━━━━━━━━━━━━━━━━━━━\u001b[0m\u001b[37m\u001b[0m \u001b[1m3s\u001b[0m 2ms/step - accuracy: 1.0000 - loss: 5.6954e-05 - val_accuracy: 1.0000 - val_loss: 2.8984e-11\n",
      "Epoch 6/100\n",
      "\u001b[1m1283/1283\u001b[0m \u001b[32m━━━━━━━━━━━━━━━━━━━━\u001b[0m\u001b[37m\u001b[0m \u001b[1m3s\u001b[0m 2ms/step - accuracy: 0.9998 - loss: 1.4974e-04 - val_accuracy: 1.0000 - val_loss: 3.5652e-10\n",
      "Epoch 7/100\n",
      "\u001b[1m1283/1283\u001b[0m \u001b[32m━━━━━━━━━━━━━━━━━━━━\u001b[0m\u001b[37m\u001b[0m \u001b[1m3s\u001b[0m 2ms/step - accuracy: 1.0000 - loss: 1.6297e-04 - val_accuracy: 1.0000 - val_loss: 2.7083e-13\n",
      "Epoch 8/100\n",
      "\u001b[1m1283/1283\u001b[0m \u001b[32m━━━━━━━━━━━━━━━━━━━━\u001b[0m\u001b[37m\u001b[0m \u001b[1m3s\u001b[0m 2ms/step - accuracy: 0.9999 - loss: 9.2178e-05 - val_accuracy: 1.0000 - val_loss: 2.1386e-14\n",
      "Epoch 9/100\n",
      "\u001b[1m1283/1283\u001b[0m \u001b[32m━━━━━━━━━━━━━━━━━━━━\u001b[0m\u001b[37m\u001b[0m \u001b[1m3s\u001b[0m 2ms/step - accuracy: 0.9999 - loss: 8.6541e-05 - val_accuracy: 1.0000 - val_loss: 1.7259e-14\n",
      "Epoch 10/100\n",
      "\u001b[1m1283/1283\u001b[0m \u001b[32m━━━━━━━━━━━━━━━━━━━━\u001b[0m\u001b[37m\u001b[0m \u001b[1m3s\u001b[0m 2ms/step - accuracy: 1.0000 - loss: 3.8955e-05 - val_accuracy: 1.0000 - val_loss: 3.5384e-16\n",
      "Epoch 11/100\n",
      "\u001b[1m1283/1283\u001b[0m \u001b[32m━━━━━━━━━━━━━━━━━━━━\u001b[0m\u001b[37m\u001b[0m \u001b[1m3s\u001b[0m 2ms/step - accuracy: 1.0000 - loss: 2.4326e-04 - val_accuracy: 1.0000 - val_loss: 5.8320e-17\n",
      "Epoch 12/100\n",
      "\u001b[1m1283/1283\u001b[0m \u001b[32m━━━━━━━━━━━━━━━━━━━━\u001b[0m\u001b[37m\u001b[0m \u001b[1m3s\u001b[0m 2ms/step - accuracy: 0.9999 - loss: 3.0415e-04 - val_accuracy: 1.0000 - val_loss: 1.1863e-15\n",
      "Epoch 13/100\n",
      "\u001b[1m1283/1283\u001b[0m \u001b[32m━━━━━━━━━━━━━━━━━━━━\u001b[0m\u001b[37m\u001b[0m \u001b[1m3s\u001b[0m 2ms/step - accuracy: 1.0000 - loss: 1.7343e-05 - val_accuracy: 1.0000 - val_loss: 4.6104e-16\n",
      "Epoch 14/100\n",
      "\u001b[1m1283/1283\u001b[0m \u001b[32m━━━━━━━━━━━━━━━━━━━━\u001b[0m\u001b[37m\u001b[0m \u001b[1m3s\u001b[0m 2ms/step - accuracy: 1.0000 - loss: 3.5785e-05 - val_accuracy: 1.0000 - val_loss: 5.3146e-17\n",
      "Epoch 15/100\n",
      "\u001b[1m1283/1283\u001b[0m \u001b[32m━━━━━━━━━━━━━━━━━━━━\u001b[0m\u001b[37m\u001b[0m \u001b[1m3s\u001b[0m 2ms/step - accuracy: 0.9999 - loss: 1.3171e-04 - val_accuracy: 1.0000 - val_loss: 4.9174e-20\n",
      "Epoch 16/100\n",
      "\u001b[1m1283/1283\u001b[0m \u001b[32m━━━━━━━━━━━━━━━━━━━━\u001b[0m\u001b[37m\u001b[0m \u001b[1m3s\u001b[0m 2ms/step - accuracy: 1.0000 - loss: 3.0674e-05 - val_accuracy: 1.0000 - val_loss: 1.6955e-20\n",
      "Epoch 17/100\n",
      "\u001b[1m1283/1283\u001b[0m \u001b[32m━━━━━━━━━━━━━━━━━━━━\u001b[0m\u001b[37m\u001b[0m \u001b[1m3s\u001b[0m 2ms/step - accuracy: 0.9999 - loss: 1.9435e-04 - val_accuracy: 1.0000 - val_loss: 3.1746e-19\n",
      "Epoch 18/100\n",
      "\u001b[1m1283/1283\u001b[0m \u001b[32m━━━━━━━━━━━━━━━━━━━━\u001b[0m\u001b[37m\u001b[0m \u001b[1m3s\u001b[0m 2ms/step - accuracy: 1.0000 - loss: 7.8265e-05 - val_accuracy: 1.0000 - val_loss: 6.6875e-17\n",
      "Epoch 19/100\n",
      "\u001b[1m1283/1283\u001b[0m \u001b[32m━━━━━━━━━━━━━━━━━━━━\u001b[0m\u001b[37m\u001b[0m \u001b[1m3s\u001b[0m 2ms/step - accuracy: 0.9999 - loss: 8.2731e-05 - val_accuracy: 1.0000 - val_loss: 1.3722e-16\n",
      "Epoch 20/100\n",
      "\u001b[1m1283/1283\u001b[0m \u001b[32m━━━━━━━━━━━━━━━━━━━━\u001b[0m\u001b[37m\u001b[0m \u001b[1m3s\u001b[0m 2ms/step - accuracy: 0.9999 - loss: 1.7431e-04 - val_accuracy: 1.0000 - val_loss: 1.2145e-16\n",
      "Epoch 21/100\n",
      "\u001b[1m1283/1283\u001b[0m \u001b[32m━━━━━━━━━━━━━━━━━━━━\u001b[0m\u001b[37m\u001b[0m \u001b[1m3s\u001b[0m 2ms/step - accuracy: 1.0000 - loss: 7.6719e-05 - val_accuracy: 1.0000 - val_loss: 1.3426e-16\n",
      "\u001b[1m550/550\u001b[0m \u001b[32m━━━━━━━━━━━━━━━━━━━━\u001b[0m\u001b[37m\u001b[0m \u001b[1m1s\u001b[0m 1ms/step - accuracy: 1.0000 - loss: 1.0497e-20\n",
      "Validation Loss: 1.6954695166105266e-20, Validation Accuracy: 1.0\n"
     ]
    }
   ],
   "source": [
    "#early stopping to stop training when validation loss stops improving\n",
    "early_stopping = tf.keras.callbacks.EarlyStopping(monitor=\"val_loss\", patience=5, restore_best_weights=True)\n",
    "\n",
    "history = model.fit(X_train_split, y_train_split,\n",
    "                   validation_data = (X_val_split, y_val_split),\n",
    "                   epochs=100, batch_size=32, callbacks=[early_stopping])\n",
    "#evaluate the model on the validation set\n",
    "val_loss, val_accuracy = model.evaluate(X_val_split, y_val_split)\n",
    "print(f\"Validation Loss: {val_loss}, Validation Accuracy: {val_accuracy}\")"
   ]
  },
  {
   "cell_type": "code",
   "execution_count": null,
   "id": "9bf7aa2d",
   "metadata": {
    "papermill": {
     "duration": 0.10971,
     "end_time": "2024-10-10T22:29:10.009629",
     "exception": false,
     "start_time": "2024-10-10T22:29:09.899919",
     "status": "completed"
    },
    "tags": []
   },
   "outputs": [],
   "source": []
  }
 ],
 "metadata": {
  "kaggle": {
   "accelerator": "none",
   "dataSources": [
    {
     "databundleVersionId": 9709193,
     "sourceId": 84894,
     "sourceType": "competition"
    }
   ],
   "dockerImageVersionId": 30786,
   "isGpuEnabled": false,
   "isInternetEnabled": true,
   "language": "python",
   "sourceType": "notebook"
  },
  "kernelspec": {
   "display_name": "Python 3",
   "language": "python",
   "name": "python3"
  },
  "language_info": {
   "codemirror_mode": {
    "name": "ipython",
    "version": 3
   },
   "file_extension": ".py",
   "mimetype": "text/x-python",
   "name": "python",
   "nbconvert_exporter": "python",
   "pygments_lexer": "ipython3",
   "version": "3.10.14"
  },
  "papermill": {
   "default_parameters": {},
   "duration": 91.573273,
   "end_time": "2024-10-10T22:29:12.582266",
   "environment_variables": {},
   "exception": null,
   "input_path": "__notebook__.ipynb",
   "output_path": "__notebook__.ipynb",
   "parameters": {},
   "start_time": "2024-10-10T22:27:41.008993",
   "version": "2.6.0"
  }
 },
 "nbformat": 4,
 "nbformat_minor": 5
}
