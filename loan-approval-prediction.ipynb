{
 "cells": [
  {
   "cell_type": "code",
   "execution_count": 1,
   "id": "44bfec2e",
   "metadata": {
    "_cell_guid": "b1076dfc-b9ad-4769-8c92-a6c4dae69d19",
    "_uuid": "8f2839f25d086af736a60e9eeb907d3b93b6e0e5",
    "execution": {
     "iopub.execute_input": "2024-10-10T23:10:31.776466Z",
     "iopub.status.busy": "2024-10-10T23:10:31.776030Z",
     "iopub.status.idle": "2024-10-10T23:10:32.513358Z",
     "shell.execute_reply": "2024-10-10T23:10:32.512009Z"
    },
    "papermill": {
     "duration": 0.751584,
     "end_time": "2024-10-10T23:10:32.516397",
     "exception": false,
     "start_time": "2024-10-10T23:10:31.764813",
     "status": "completed"
    },
    "tags": []
   },
   "outputs": [
    {
     "name": "stdout",
     "output_type": "stream",
     "text": [
      "/kaggle/input/playground-series-s4e10/sample_submission.csv\n",
      "/kaggle/input/playground-series-s4e10/train.csv\n",
      "/kaggle/input/playground-series-s4e10/test.csv\n"
     ]
    }
   ],
   "source": [
    "# This Python 3 environment comes with many helpful analytics libraries installed\n",
    "# It is defined by the kaggle/python Docker image: https://github.com/kaggle/docker-python\n",
    "# For example, here's several helpful packages to load\n",
    "\n",
    "import numpy as np # linear algebra\n",
    "import pandas as pd # data processing, CSV file I/O (e.g. pd.read_csv)\n",
    "\n",
    "# Input data files are available in the read-only \"../input/\" directory\n",
    "# For example, running this (by clicking run or pressing Shift+Enter) will list all files under the input directory\n",
    "\n",
    "import os\n",
    "for dirname, _, filenames in os.walk('/kaggle/input'):\n",
    "    for filename in filenames:\n",
    "        print(os.path.join(dirname, filename))\n",
    "\n",
    "# You can write up to 20GB to the current directory (/kaggle/working/) that gets preserved as output when you create a version using \"Save & Run All\" \n",
    "# You can also write temporary files to /kaggle/temp/, but they won't be saved outside of the current session"
   ]
  },
  {
   "cell_type": "code",
   "execution_count": 2,
   "id": "e40c9101",
   "metadata": {
    "execution": {
     "iopub.execute_input": "2024-10-10T23:10:32.536682Z",
     "iopub.status.busy": "2024-10-10T23:10:32.536127Z",
     "iopub.status.idle": "2024-10-10T23:10:33.995221Z",
     "shell.execute_reply": "2024-10-10T23:10:33.994276Z"
    },
    "papermill": {
     "duration": 1.472273,
     "end_time": "2024-10-10T23:10:33.997983",
     "exception": false,
     "start_time": "2024-10-10T23:10:32.525710",
     "status": "completed"
    },
    "tags": []
   },
   "outputs": [],
   "source": [
    "import pandas as pd\n",
    "import numpy as np \n",
    "import seaborn as sns \n",
    "import matplotlib.pyplot as plt "
   ]
  },
  {
   "cell_type": "markdown",
   "id": "1cc4b5e3",
   "metadata": {
    "execution": {
     "iopub.execute_input": "2024-10-10T18:52:51.261884Z",
     "iopub.status.busy": "2024-10-10T18:52:51.261384Z",
     "iopub.status.idle": "2024-10-10T18:52:51.840814Z",
     "shell.execute_reply": "2024-10-10T18:52:51.839083Z",
     "shell.execute_reply.started": "2024-10-10T18:52:51.261839Z"
    },
    "papermill": {
     "duration": 0.008846,
     "end_time": "2024-10-10T23:10:34.016028",
     "exception": false,
     "start_time": "2024-10-10T23:10:34.007182",
     "status": "completed"
    },
    "tags": []
   },
   "source": [
    "# Data Loading"
   ]
  },
  {
   "cell_type": "code",
   "execution_count": 3,
   "id": "65ef9fb6",
   "metadata": {
    "execution": {
     "iopub.execute_input": "2024-10-10T23:10:34.035524Z",
     "iopub.status.busy": "2024-10-10T23:10:34.034981Z",
     "iopub.status.idle": "2024-10-10T23:10:34.253074Z",
     "shell.execute_reply": "2024-10-10T23:10:34.252131Z"
    },
    "papermill": {
     "duration": 0.230848,
     "end_time": "2024-10-10T23:10:34.255776",
     "exception": false,
     "start_time": "2024-10-10T23:10:34.024928",
     "status": "completed"
    },
    "tags": []
   },
   "outputs": [],
   "source": [
    "df_train = pd.read_csv(\"/kaggle/input/playground-series-s4e10/train.csv\")\n",
    "df_test = pd.read_csv(\"/kaggle/input/playground-series-s4e10/test.csv\")\n"
   ]
  },
  {
   "cell_type": "code",
   "execution_count": 4,
   "id": "2b5c1c25",
   "metadata": {
    "execution": {
     "iopub.execute_input": "2024-10-10T23:10:34.276423Z",
     "iopub.status.busy": "2024-10-10T23:10:34.275759Z",
     "iopub.status.idle": "2024-10-10T23:10:34.300390Z",
     "shell.execute_reply": "2024-10-10T23:10:34.299269Z"
    },
    "papermill": {
     "duration": 0.036921,
     "end_time": "2024-10-10T23:10:34.302678",
     "exception": false,
     "start_time": "2024-10-10T23:10:34.265757",
     "status": "completed"
    },
    "tags": []
   },
   "outputs": [
    {
     "data": {
      "text/html": [
       "<div>\n",
       "<style scoped>\n",
       "    .dataframe tbody tr th:only-of-type {\n",
       "        vertical-align: middle;\n",
       "    }\n",
       "\n",
       "    .dataframe tbody tr th {\n",
       "        vertical-align: top;\n",
       "    }\n",
       "\n",
       "    .dataframe thead th {\n",
       "        text-align: right;\n",
       "    }\n",
       "</style>\n",
       "<table border=\"1\" class=\"dataframe\">\n",
       "  <thead>\n",
       "    <tr style=\"text-align: right;\">\n",
       "      <th></th>\n",
       "      <th>id</th>\n",
       "      <th>person_age</th>\n",
       "      <th>person_income</th>\n",
       "      <th>person_home_ownership</th>\n",
       "      <th>person_emp_length</th>\n",
       "      <th>loan_intent</th>\n",
       "      <th>loan_grade</th>\n",
       "      <th>loan_amnt</th>\n",
       "      <th>loan_int_rate</th>\n",
       "      <th>loan_percent_income</th>\n",
       "      <th>cb_person_default_on_file</th>\n",
       "      <th>cb_person_cred_hist_length</th>\n",
       "      <th>loan_status</th>\n",
       "    </tr>\n",
       "  </thead>\n",
       "  <tbody>\n",
       "    <tr>\n",
       "      <th>0</th>\n",
       "      <td>0</td>\n",
       "      <td>37</td>\n",
       "      <td>35000</td>\n",
       "      <td>RENT</td>\n",
       "      <td>0.0</td>\n",
       "      <td>EDUCATION</td>\n",
       "      <td>B</td>\n",
       "      <td>6000</td>\n",
       "      <td>11.49</td>\n",
       "      <td>0.17</td>\n",
       "      <td>N</td>\n",
       "      <td>14</td>\n",
       "      <td>0</td>\n",
       "    </tr>\n",
       "    <tr>\n",
       "      <th>1</th>\n",
       "      <td>1</td>\n",
       "      <td>22</td>\n",
       "      <td>56000</td>\n",
       "      <td>OWN</td>\n",
       "      <td>6.0</td>\n",
       "      <td>MEDICAL</td>\n",
       "      <td>C</td>\n",
       "      <td>4000</td>\n",
       "      <td>13.35</td>\n",
       "      <td>0.07</td>\n",
       "      <td>N</td>\n",
       "      <td>2</td>\n",
       "      <td>0</td>\n",
       "    </tr>\n",
       "    <tr>\n",
       "      <th>2</th>\n",
       "      <td>2</td>\n",
       "      <td>29</td>\n",
       "      <td>28800</td>\n",
       "      <td>OWN</td>\n",
       "      <td>8.0</td>\n",
       "      <td>PERSONAL</td>\n",
       "      <td>A</td>\n",
       "      <td>6000</td>\n",
       "      <td>8.90</td>\n",
       "      <td>0.21</td>\n",
       "      <td>N</td>\n",
       "      <td>10</td>\n",
       "      <td>0</td>\n",
       "    </tr>\n",
       "    <tr>\n",
       "      <th>3</th>\n",
       "      <td>3</td>\n",
       "      <td>30</td>\n",
       "      <td>70000</td>\n",
       "      <td>RENT</td>\n",
       "      <td>14.0</td>\n",
       "      <td>VENTURE</td>\n",
       "      <td>B</td>\n",
       "      <td>12000</td>\n",
       "      <td>11.11</td>\n",
       "      <td>0.17</td>\n",
       "      <td>N</td>\n",
       "      <td>5</td>\n",
       "      <td>0</td>\n",
       "    </tr>\n",
       "    <tr>\n",
       "      <th>4</th>\n",
       "      <td>4</td>\n",
       "      <td>22</td>\n",
       "      <td>60000</td>\n",
       "      <td>RENT</td>\n",
       "      <td>2.0</td>\n",
       "      <td>MEDICAL</td>\n",
       "      <td>A</td>\n",
       "      <td>6000</td>\n",
       "      <td>6.92</td>\n",
       "      <td>0.10</td>\n",
       "      <td>N</td>\n",
       "      <td>3</td>\n",
       "      <td>0</td>\n",
       "    </tr>\n",
       "  </tbody>\n",
       "</table>\n",
       "</div>"
      ],
      "text/plain": [
       "   id  person_age  person_income person_home_ownership  person_emp_length  \\\n",
       "0   0          37          35000                  RENT                0.0   \n",
       "1   1          22          56000                   OWN                6.0   \n",
       "2   2          29          28800                   OWN                8.0   \n",
       "3   3          30          70000                  RENT               14.0   \n",
       "4   4          22          60000                  RENT                2.0   \n",
       "\n",
       "  loan_intent loan_grade  loan_amnt  loan_int_rate  loan_percent_income  \\\n",
       "0   EDUCATION          B       6000          11.49                 0.17   \n",
       "1     MEDICAL          C       4000          13.35                 0.07   \n",
       "2    PERSONAL          A       6000           8.90                 0.21   \n",
       "3     VENTURE          B      12000          11.11                 0.17   \n",
       "4     MEDICAL          A       6000           6.92                 0.10   \n",
       "\n",
       "  cb_person_default_on_file  cb_person_cred_hist_length  loan_status  \n",
       "0                         N                          14            0  \n",
       "1                         N                           2            0  \n",
       "2                         N                          10            0  \n",
       "3                         N                           5            0  \n",
       "4                         N                           3            0  "
      ]
     },
     "execution_count": 4,
     "metadata": {},
     "output_type": "execute_result"
    }
   ],
   "source": [
    "df_train.head()"
   ]
  },
  {
   "cell_type": "code",
   "execution_count": 5,
   "id": "d9902b08",
   "metadata": {
    "execution": {
     "iopub.execute_input": "2024-10-10T23:10:34.323019Z",
     "iopub.status.busy": "2024-10-10T23:10:34.322118Z",
     "iopub.status.idle": "2024-10-10T23:10:34.328633Z",
     "shell.execute_reply": "2024-10-10T23:10:34.327694Z"
    },
    "papermill": {
     "duration": 0.019028,
     "end_time": "2024-10-10T23:10:34.330983",
     "exception": false,
     "start_time": "2024-10-10T23:10:34.311955",
     "status": "completed"
    },
    "tags": []
   },
   "outputs": [
    {
     "data": {
      "text/plain": [
       "(58645, 13)"
      ]
     },
     "execution_count": 5,
     "metadata": {},
     "output_type": "execute_result"
    }
   ],
   "source": [
    "df_train.shape"
   ]
  },
  {
   "cell_type": "code",
   "execution_count": 6,
   "id": "9454f26c",
   "metadata": {
    "execution": {
     "iopub.execute_input": "2024-10-10T23:10:34.351120Z",
     "iopub.status.busy": "2024-10-10T23:10:34.350728Z",
     "iopub.status.idle": "2024-10-10T23:10:34.357316Z",
     "shell.execute_reply": "2024-10-10T23:10:34.356264Z"
    },
    "papermill": {
     "duration": 0.019319,
     "end_time": "2024-10-10T23:10:34.359698",
     "exception": false,
     "start_time": "2024-10-10T23:10:34.340379",
     "status": "completed"
    },
    "tags": []
   },
   "outputs": [
    {
     "data": {
      "text/plain": [
       "(39098, 12)"
      ]
     },
     "execution_count": 6,
     "metadata": {},
     "output_type": "execute_result"
    }
   ],
   "source": [
    "df_test.shape"
   ]
  },
  {
   "cell_type": "code",
   "execution_count": 7,
   "id": "94788d85",
   "metadata": {
    "execution": {
     "iopub.execute_input": "2024-10-10T23:10:34.380853Z",
     "iopub.status.busy": "2024-10-10T23:10:34.379948Z",
     "iopub.status.idle": "2024-10-10T23:10:34.388076Z",
     "shell.execute_reply": "2024-10-10T23:10:34.387112Z"
    },
    "papermill": {
     "duration": 0.0211,
     "end_time": "2024-10-10T23:10:34.390291",
     "exception": false,
     "start_time": "2024-10-10T23:10:34.369191",
     "status": "completed"
    },
    "tags": []
   },
   "outputs": [
    {
     "data": {
      "text/plain": [
       "id                              int64\n",
       "person_age                      int64\n",
       "person_income                   int64\n",
       "person_home_ownership          object\n",
       "person_emp_length             float64\n",
       "loan_intent                    object\n",
       "loan_grade                     object\n",
       "loan_amnt                       int64\n",
       "loan_int_rate                 float64\n",
       "loan_percent_income           float64\n",
       "cb_person_default_on_file      object\n",
       "cb_person_cred_hist_length      int64\n",
       "loan_status                     int64\n",
       "dtype: object"
      ]
     },
     "execution_count": 7,
     "metadata": {},
     "output_type": "execute_result"
    }
   ],
   "source": [
    "df_train.dtypes"
   ]
  },
  {
   "cell_type": "code",
   "execution_count": 8,
   "id": "b579b058",
   "metadata": {
    "execution": {
     "iopub.execute_input": "2024-10-10T23:10:34.411188Z",
     "iopub.status.busy": "2024-10-10T23:10:34.410544Z",
     "iopub.status.idle": "2024-10-10T23:10:34.418657Z",
     "shell.execute_reply": "2024-10-10T23:10:34.417603Z"
    },
    "papermill": {
     "duration": 0.021155,
     "end_time": "2024-10-10T23:10:34.421020",
     "exception": false,
     "start_time": "2024-10-10T23:10:34.399865",
     "status": "completed"
    },
    "tags": []
   },
   "outputs": [
    {
     "data": {
      "text/plain": [
       "id                              int64\n",
       "person_age                      int64\n",
       "person_income                   int64\n",
       "person_home_ownership          object\n",
       "person_emp_length             float64\n",
       "loan_intent                    object\n",
       "loan_grade                     object\n",
       "loan_amnt                       int64\n",
       "loan_int_rate                 float64\n",
       "loan_percent_income           float64\n",
       "cb_person_default_on_file      object\n",
       "cb_person_cred_hist_length      int64\n",
       "loan_status                     int64\n",
       "dtype: object"
      ]
     },
     "execution_count": 8,
     "metadata": {},
     "output_type": "execute_result"
    }
   ],
   "source": [
    "df_train.dtypes"
   ]
  },
  {
   "cell_type": "code",
   "execution_count": 9,
   "id": "666c4022",
   "metadata": {
    "execution": {
     "iopub.execute_input": "2024-10-10T23:10:34.442175Z",
     "iopub.status.busy": "2024-10-10T23:10:34.441524Z",
     "iopub.status.idle": "2024-10-10T23:10:34.498582Z",
     "shell.execute_reply": "2024-10-10T23:10:34.497558Z"
    },
    "papermill": {
     "duration": 0.070168,
     "end_time": "2024-10-10T23:10:34.500920",
     "exception": false,
     "start_time": "2024-10-10T23:10:34.430752",
     "status": "completed"
    },
    "tags": []
   },
   "outputs": [
    {
     "data": {
      "text/html": [
       "<div>\n",
       "<style scoped>\n",
       "    .dataframe tbody tr th:only-of-type {\n",
       "        vertical-align: middle;\n",
       "    }\n",
       "\n",
       "    .dataframe tbody tr th {\n",
       "        vertical-align: top;\n",
       "    }\n",
       "\n",
       "    .dataframe thead th {\n",
       "        text-align: right;\n",
       "    }\n",
       "</style>\n",
       "<table border=\"1\" class=\"dataframe\">\n",
       "  <thead>\n",
       "    <tr style=\"text-align: right;\">\n",
       "      <th></th>\n",
       "      <th>id</th>\n",
       "      <th>person_age</th>\n",
       "      <th>person_income</th>\n",
       "      <th>person_emp_length</th>\n",
       "      <th>loan_amnt</th>\n",
       "      <th>loan_int_rate</th>\n",
       "      <th>loan_percent_income</th>\n",
       "      <th>cb_person_cred_hist_length</th>\n",
       "      <th>loan_status</th>\n",
       "    </tr>\n",
       "  </thead>\n",
       "  <tbody>\n",
       "    <tr>\n",
       "      <th>count</th>\n",
       "      <td>58645.000000</td>\n",
       "      <td>58645.000000</td>\n",
       "      <td>5.864500e+04</td>\n",
       "      <td>58645.000000</td>\n",
       "      <td>58645.000000</td>\n",
       "      <td>58645.000000</td>\n",
       "      <td>58645.000000</td>\n",
       "      <td>58645.000000</td>\n",
       "      <td>58645.000000</td>\n",
       "    </tr>\n",
       "    <tr>\n",
       "      <th>mean</th>\n",
       "      <td>29322.000000</td>\n",
       "      <td>27.550857</td>\n",
       "      <td>6.404617e+04</td>\n",
       "      <td>4.701015</td>\n",
       "      <td>9217.556518</td>\n",
       "      <td>10.677874</td>\n",
       "      <td>0.159238</td>\n",
       "      <td>5.813556</td>\n",
       "      <td>0.142382</td>\n",
       "    </tr>\n",
       "    <tr>\n",
       "      <th>std</th>\n",
       "      <td>16929.497605</td>\n",
       "      <td>6.033216</td>\n",
       "      <td>3.793111e+04</td>\n",
       "      <td>3.959784</td>\n",
       "      <td>5563.807384</td>\n",
       "      <td>3.034697</td>\n",
       "      <td>0.091692</td>\n",
       "      <td>4.029196</td>\n",
       "      <td>0.349445</td>\n",
       "    </tr>\n",
       "    <tr>\n",
       "      <th>min</th>\n",
       "      <td>0.000000</td>\n",
       "      <td>20.000000</td>\n",
       "      <td>4.200000e+03</td>\n",
       "      <td>0.000000</td>\n",
       "      <td>500.000000</td>\n",
       "      <td>5.420000</td>\n",
       "      <td>0.000000</td>\n",
       "      <td>2.000000</td>\n",
       "      <td>0.000000</td>\n",
       "    </tr>\n",
       "    <tr>\n",
       "      <th>25%</th>\n",
       "      <td>14661.000000</td>\n",
       "      <td>23.000000</td>\n",
       "      <td>4.200000e+04</td>\n",
       "      <td>2.000000</td>\n",
       "      <td>5000.000000</td>\n",
       "      <td>7.880000</td>\n",
       "      <td>0.090000</td>\n",
       "      <td>3.000000</td>\n",
       "      <td>0.000000</td>\n",
       "    </tr>\n",
       "    <tr>\n",
       "      <th>50%</th>\n",
       "      <td>29322.000000</td>\n",
       "      <td>26.000000</td>\n",
       "      <td>5.800000e+04</td>\n",
       "      <td>4.000000</td>\n",
       "      <td>8000.000000</td>\n",
       "      <td>10.750000</td>\n",
       "      <td>0.140000</td>\n",
       "      <td>4.000000</td>\n",
       "      <td>0.000000</td>\n",
       "    </tr>\n",
       "    <tr>\n",
       "      <th>75%</th>\n",
       "      <td>43983.000000</td>\n",
       "      <td>30.000000</td>\n",
       "      <td>7.560000e+04</td>\n",
       "      <td>7.000000</td>\n",
       "      <td>12000.000000</td>\n",
       "      <td>12.990000</td>\n",
       "      <td>0.210000</td>\n",
       "      <td>8.000000</td>\n",
       "      <td>0.000000</td>\n",
       "    </tr>\n",
       "    <tr>\n",
       "      <th>max</th>\n",
       "      <td>58644.000000</td>\n",
       "      <td>123.000000</td>\n",
       "      <td>1.900000e+06</td>\n",
       "      <td>123.000000</td>\n",
       "      <td>35000.000000</td>\n",
       "      <td>23.220000</td>\n",
       "      <td>0.830000</td>\n",
       "      <td>30.000000</td>\n",
       "      <td>1.000000</td>\n",
       "    </tr>\n",
       "  </tbody>\n",
       "</table>\n",
       "</div>"
      ],
      "text/plain": [
       "                 id    person_age  person_income  person_emp_length  \\\n",
       "count  58645.000000  58645.000000   5.864500e+04       58645.000000   \n",
       "mean   29322.000000     27.550857   6.404617e+04           4.701015   \n",
       "std    16929.497605      6.033216   3.793111e+04           3.959784   \n",
       "min        0.000000     20.000000   4.200000e+03           0.000000   \n",
       "25%    14661.000000     23.000000   4.200000e+04           2.000000   \n",
       "50%    29322.000000     26.000000   5.800000e+04           4.000000   \n",
       "75%    43983.000000     30.000000   7.560000e+04           7.000000   \n",
       "max    58644.000000    123.000000   1.900000e+06         123.000000   \n",
       "\n",
       "          loan_amnt  loan_int_rate  loan_percent_income  \\\n",
       "count  58645.000000   58645.000000         58645.000000   \n",
       "mean    9217.556518      10.677874             0.159238   \n",
       "std     5563.807384       3.034697             0.091692   \n",
       "min      500.000000       5.420000             0.000000   \n",
       "25%     5000.000000       7.880000             0.090000   \n",
       "50%     8000.000000      10.750000             0.140000   \n",
       "75%    12000.000000      12.990000             0.210000   \n",
       "max    35000.000000      23.220000             0.830000   \n",
       "\n",
       "       cb_person_cred_hist_length   loan_status  \n",
       "count                58645.000000  58645.000000  \n",
       "mean                     5.813556      0.142382  \n",
       "std                      4.029196      0.349445  \n",
       "min                      2.000000      0.000000  \n",
       "25%                      3.000000      0.000000  \n",
       "50%                      4.000000      0.000000  \n",
       "75%                      8.000000      0.000000  \n",
       "max                     30.000000      1.000000  "
      ]
     },
     "execution_count": 9,
     "metadata": {},
     "output_type": "execute_result"
    }
   ],
   "source": [
    "df_train.describe()"
   ]
  },
  {
   "cell_type": "code",
   "execution_count": 10,
   "id": "7d3fe206",
   "metadata": {
    "execution": {
     "iopub.execute_input": "2024-10-10T23:10:34.522948Z",
     "iopub.status.busy": "2024-10-10T23:10:34.522279Z",
     "iopub.status.idle": "2024-10-10T23:10:34.534726Z",
     "shell.execute_reply": "2024-10-10T23:10:34.533860Z"
    },
    "papermill": {
     "duration": 0.026259,
     "end_time": "2024-10-10T23:10:34.537232",
     "exception": false,
     "start_time": "2024-10-10T23:10:34.510973",
     "status": "completed"
    },
    "tags": []
   },
   "outputs": [],
   "source": [
    "df_train.drop([\"id\"], axis=1, inplace=True)"
   ]
  },
  {
   "cell_type": "markdown",
   "id": "3de68ceb",
   "metadata": {
    "papermill": {
     "duration": 0.0098,
     "end_time": "2024-10-10T23:10:34.557141",
     "exception": false,
     "start_time": "2024-10-10T23:10:34.547341",
     "status": "completed"
    },
    "tags": []
   },
   "source": [
    " # Preprocessing and Encoding Categorical Features"
   ]
  },
  {
   "cell_type": "code",
   "execution_count": 11,
   "id": "eb542bf6",
   "metadata": {
    "execution": {
     "iopub.execute_input": "2024-10-10T23:10:34.579286Z",
     "iopub.status.busy": "2024-10-10T23:10:34.578424Z",
     "iopub.status.idle": "2024-10-10T23:10:34.800673Z",
     "shell.execute_reply": "2024-10-10T23:10:34.799687Z"
    },
    "papermill": {
     "duration": 0.236322,
     "end_time": "2024-10-10T23:10:34.803425",
     "exception": false,
     "start_time": "2024-10-10T23:10:34.567103",
     "status": "completed"
    },
    "tags": []
   },
   "outputs": [],
   "source": [
    "from sklearn.model_selection import train_test_split\n",
    "from sklearn.preprocessing import OneHotEncoder, StandardScaler"
   ]
  },
  {
   "cell_type": "markdown",
   "id": "53c3b9de",
   "metadata": {
    "papermill": {
     "duration": 0.009957,
     "end_time": "2024-10-10T23:10:34.823728",
     "exception": false,
     "start_time": "2024-10-10T23:10:34.813771",
     "status": "completed"
    },
    "tags": []
   },
   "source": [
    "## One-Hot Encoding"
   ]
  },
  {
   "cell_type": "code",
   "execution_count": 12,
   "id": "a0154c70",
   "metadata": {
    "execution": {
     "iopub.execute_input": "2024-10-10T23:10:34.845989Z",
     "iopub.status.busy": "2024-10-10T23:10:34.845192Z",
     "iopub.status.idle": "2024-10-10T23:10:34.977094Z",
     "shell.execute_reply": "2024-10-10T23:10:34.975987Z"
    },
    "papermill": {
     "duration": 0.146267,
     "end_time": "2024-10-10T23:10:34.980109",
     "exception": false,
     "start_time": "2024-10-10T23:10:34.833842",
     "status": "completed"
    },
    "tags": []
   },
   "outputs": [
    {
     "name": "stderr",
     "output_type": "stream",
     "text": [
      "/opt/conda/lib/python3.10/site-packages/sklearn/preprocessing/_encoders.py:868: FutureWarning: `sparse` was renamed to `sparse_output` in version 1.2 and will be removed in 1.4. `sparse_output` is ignored unless you leave `sparse` to its default value.\n",
      "  warnings.warn(\n",
      "/opt/conda/lib/python3.10/site-packages/sklearn/preprocessing/_encoders.py:868: FutureWarning: `sparse` was renamed to `sparse_output` in version 1.2 and will be removed in 1.4. `sparse_output` is ignored unless you leave `sparse` to its default value.\n",
      "  warnings.warn(\n"
     ]
    }
   ],
   "source": [
    "categorical_columns = ['loan_intent', 'loan_grade', 'person_home_ownership']\n",
    "encoder = OneHotEncoder(sparse=False, handle_unknown='ignore')\n",
    "X_train_encoded = encoder.fit_transform(df_train[categorical_columns])\n",
    "X_test_encoded = encoder.fit_transform(df_test[categorical_columns])"
   ]
  },
  {
   "cell_type": "markdown",
   "id": "67d309fb",
   "metadata": {
    "papermill": {
     "duration": 0.010017,
     "end_time": "2024-10-10T23:10:35.000276",
     "exception": false,
     "start_time": "2024-10-10T23:10:34.990259",
     "status": "completed"
    },
    "tags": []
   },
   "source": [
    "### Encoded Columns to Dataframe"
   ]
  },
  {
   "cell_type": "code",
   "execution_count": 13,
   "id": "472a42d2",
   "metadata": {
    "execution": {
     "iopub.execute_input": "2024-10-10T23:10:35.022411Z",
     "iopub.status.busy": "2024-10-10T23:10:35.021999Z",
     "iopub.status.idle": "2024-10-10T23:10:35.027637Z",
     "shell.execute_reply": "2024-10-10T23:10:35.026636Z"
    },
    "papermill": {
     "duration": 0.019632,
     "end_time": "2024-10-10T23:10:35.029907",
     "exception": false,
     "start_time": "2024-10-10T23:10:35.010275",
     "status": "completed"
    },
    "tags": []
   },
   "outputs": [],
   "source": [
    "X_train_encoded_df = pd.DataFrame(X_train_encoded, columns=encoder.get_feature_names_out(categorical_columns))\n",
    "X_test_encoded_df = pd.DataFrame(X_test_encoded, columns=encoder.get_feature_names_out(categorical_columns))"
   ]
  },
  {
   "cell_type": "code",
   "execution_count": 14,
   "id": "54794e95",
   "metadata": {
    "execution": {
     "iopub.execute_input": "2024-10-10T23:10:35.052634Z",
     "iopub.status.busy": "2024-10-10T23:10:35.051658Z",
     "iopub.status.idle": "2024-10-10T23:10:35.077818Z",
     "shell.execute_reply": "2024-10-10T23:10:35.076774Z"
    },
    "papermill": {
     "duration": 0.040168,
     "end_time": "2024-10-10T23:10:35.080166",
     "exception": false,
     "start_time": "2024-10-10T23:10:35.039998",
     "status": "completed"
    },
    "tags": []
   },
   "outputs": [
    {
     "data": {
      "text/html": [
       "<div>\n",
       "<style scoped>\n",
       "    .dataframe tbody tr th:only-of-type {\n",
       "        vertical-align: middle;\n",
       "    }\n",
       "\n",
       "    .dataframe tbody tr th {\n",
       "        vertical-align: top;\n",
       "    }\n",
       "\n",
       "    .dataframe thead th {\n",
       "        text-align: right;\n",
       "    }\n",
       "</style>\n",
       "<table border=\"1\" class=\"dataframe\">\n",
       "  <thead>\n",
       "    <tr style=\"text-align: right;\">\n",
       "      <th></th>\n",
       "      <th>loan_intent_DEBTCONSOLIDATION</th>\n",
       "      <th>loan_intent_EDUCATION</th>\n",
       "      <th>loan_intent_HOMEIMPROVEMENT</th>\n",
       "      <th>loan_intent_MEDICAL</th>\n",
       "      <th>loan_intent_PERSONAL</th>\n",
       "      <th>loan_intent_VENTURE</th>\n",
       "      <th>loan_grade_A</th>\n",
       "      <th>loan_grade_B</th>\n",
       "      <th>loan_grade_C</th>\n",
       "      <th>loan_grade_D</th>\n",
       "      <th>loan_grade_E</th>\n",
       "      <th>loan_grade_F</th>\n",
       "      <th>loan_grade_G</th>\n",
       "      <th>person_home_ownership_MORTGAGE</th>\n",
       "      <th>person_home_ownership_OTHER</th>\n",
       "      <th>person_home_ownership_OWN</th>\n",
       "      <th>person_home_ownership_RENT</th>\n",
       "    </tr>\n",
       "  </thead>\n",
       "  <tbody>\n",
       "    <tr>\n",
       "      <th>0</th>\n",
       "      <td>0.0</td>\n",
       "      <td>1.0</td>\n",
       "      <td>0.0</td>\n",
       "      <td>0.0</td>\n",
       "      <td>0.0</td>\n",
       "      <td>0.0</td>\n",
       "      <td>0.0</td>\n",
       "      <td>1.0</td>\n",
       "      <td>0.0</td>\n",
       "      <td>0.0</td>\n",
       "      <td>0.0</td>\n",
       "      <td>0.0</td>\n",
       "      <td>0.0</td>\n",
       "      <td>0.0</td>\n",
       "      <td>0.0</td>\n",
       "      <td>0.0</td>\n",
       "      <td>1.0</td>\n",
       "    </tr>\n",
       "    <tr>\n",
       "      <th>1</th>\n",
       "      <td>0.0</td>\n",
       "      <td>0.0</td>\n",
       "      <td>0.0</td>\n",
       "      <td>1.0</td>\n",
       "      <td>0.0</td>\n",
       "      <td>0.0</td>\n",
       "      <td>0.0</td>\n",
       "      <td>0.0</td>\n",
       "      <td>1.0</td>\n",
       "      <td>0.0</td>\n",
       "      <td>0.0</td>\n",
       "      <td>0.0</td>\n",
       "      <td>0.0</td>\n",
       "      <td>0.0</td>\n",
       "      <td>0.0</td>\n",
       "      <td>1.0</td>\n",
       "      <td>0.0</td>\n",
       "    </tr>\n",
       "    <tr>\n",
       "      <th>2</th>\n",
       "      <td>0.0</td>\n",
       "      <td>0.0</td>\n",
       "      <td>0.0</td>\n",
       "      <td>0.0</td>\n",
       "      <td>1.0</td>\n",
       "      <td>0.0</td>\n",
       "      <td>1.0</td>\n",
       "      <td>0.0</td>\n",
       "      <td>0.0</td>\n",
       "      <td>0.0</td>\n",
       "      <td>0.0</td>\n",
       "      <td>0.0</td>\n",
       "      <td>0.0</td>\n",
       "      <td>0.0</td>\n",
       "      <td>0.0</td>\n",
       "      <td>1.0</td>\n",
       "      <td>0.0</td>\n",
       "    </tr>\n",
       "    <tr>\n",
       "      <th>3</th>\n",
       "      <td>0.0</td>\n",
       "      <td>0.0</td>\n",
       "      <td>0.0</td>\n",
       "      <td>0.0</td>\n",
       "      <td>0.0</td>\n",
       "      <td>1.0</td>\n",
       "      <td>0.0</td>\n",
       "      <td>1.0</td>\n",
       "      <td>0.0</td>\n",
       "      <td>0.0</td>\n",
       "      <td>0.0</td>\n",
       "      <td>0.0</td>\n",
       "      <td>0.0</td>\n",
       "      <td>0.0</td>\n",
       "      <td>0.0</td>\n",
       "      <td>0.0</td>\n",
       "      <td>1.0</td>\n",
       "    </tr>\n",
       "    <tr>\n",
       "      <th>4</th>\n",
       "      <td>0.0</td>\n",
       "      <td>0.0</td>\n",
       "      <td>0.0</td>\n",
       "      <td>1.0</td>\n",
       "      <td>0.0</td>\n",
       "      <td>0.0</td>\n",
       "      <td>1.0</td>\n",
       "      <td>0.0</td>\n",
       "      <td>0.0</td>\n",
       "      <td>0.0</td>\n",
       "      <td>0.0</td>\n",
       "      <td>0.0</td>\n",
       "      <td>0.0</td>\n",
       "      <td>0.0</td>\n",
       "      <td>0.0</td>\n",
       "      <td>0.0</td>\n",
       "      <td>1.0</td>\n",
       "    </tr>\n",
       "  </tbody>\n",
       "</table>\n",
       "</div>"
      ],
      "text/plain": [
       "   loan_intent_DEBTCONSOLIDATION  loan_intent_EDUCATION  \\\n",
       "0                            0.0                    1.0   \n",
       "1                            0.0                    0.0   \n",
       "2                            0.0                    0.0   \n",
       "3                            0.0                    0.0   \n",
       "4                            0.0                    0.0   \n",
       "\n",
       "   loan_intent_HOMEIMPROVEMENT  loan_intent_MEDICAL  loan_intent_PERSONAL  \\\n",
       "0                          0.0                  0.0                   0.0   \n",
       "1                          0.0                  1.0                   0.0   \n",
       "2                          0.0                  0.0                   1.0   \n",
       "3                          0.0                  0.0                   0.0   \n",
       "4                          0.0                  1.0                   0.0   \n",
       "\n",
       "   loan_intent_VENTURE  loan_grade_A  loan_grade_B  loan_grade_C  \\\n",
       "0                  0.0           0.0           1.0           0.0   \n",
       "1                  0.0           0.0           0.0           1.0   \n",
       "2                  0.0           1.0           0.0           0.0   \n",
       "3                  1.0           0.0           1.0           0.0   \n",
       "4                  0.0           1.0           0.0           0.0   \n",
       "\n",
       "   loan_grade_D  loan_grade_E  loan_grade_F  loan_grade_G  \\\n",
       "0           0.0           0.0           0.0           0.0   \n",
       "1           0.0           0.0           0.0           0.0   \n",
       "2           0.0           0.0           0.0           0.0   \n",
       "3           0.0           0.0           0.0           0.0   \n",
       "4           0.0           0.0           0.0           0.0   \n",
       "\n",
       "   person_home_ownership_MORTGAGE  person_home_ownership_OTHER  \\\n",
       "0                             0.0                          0.0   \n",
       "1                             0.0                          0.0   \n",
       "2                             0.0                          0.0   \n",
       "3                             0.0                          0.0   \n",
       "4                             0.0                          0.0   \n",
       "\n",
       "   person_home_ownership_OWN  person_home_ownership_RENT  \n",
       "0                        0.0                         1.0  \n",
       "1                        1.0                         0.0  \n",
       "2                        1.0                         0.0  \n",
       "3                        0.0                         1.0  \n",
       "4                        0.0                         1.0  "
      ]
     },
     "execution_count": 14,
     "metadata": {},
     "output_type": "execute_result"
    }
   ],
   "source": [
    "X_train_encoded_df.head()"
   ]
  },
  {
   "cell_type": "markdown",
   "id": "f38a0127",
   "metadata": {
    "papermill": {
     "duration": 0.010193,
     "end_time": "2024-10-10T23:10:35.100786",
     "exception": false,
     "start_time": "2024-10-10T23:10:35.090593",
     "status": "completed"
    },
    "tags": []
   },
   "source": [
    "## Concatenate Numerical Data"
   ]
  },
  {
   "cell_type": "code",
   "execution_count": 15,
   "id": "b467f638",
   "metadata": {
    "execution": {
     "iopub.execute_input": "2024-10-10T23:10:35.123416Z",
     "iopub.status.busy": "2024-10-10T23:10:35.122683Z",
     "iopub.status.idle": "2024-10-10T23:10:35.132809Z",
     "shell.execute_reply": "2024-10-10T23:10:35.131924Z"
    },
    "papermill": {
     "duration": 0.02404,
     "end_time": "2024-10-10T23:10:35.135076",
     "exception": false,
     "start_time": "2024-10-10T23:10:35.111036",
     "status": "completed"
    },
    "tags": []
   },
   "outputs": [],
   "source": [
    "X_train_num = df_train.drop(categorical_columns + [\"cb_person_default_on_file\"], axis=1).reset_index(drop=True)\n",
    "X_test_num = df_test.drop(categorical_columns+ [\"cb_person_default_on_file\"], axis=1).reset_index(drop=True)"
   ]
  },
  {
   "cell_type": "code",
   "execution_count": 16,
   "id": "8eaf5b24",
   "metadata": {
    "execution": {
     "iopub.execute_input": "2024-10-10T23:10:35.158179Z",
     "iopub.status.busy": "2024-10-10T23:10:35.157270Z",
     "iopub.status.idle": "2024-10-10T23:10:35.170885Z",
     "shell.execute_reply": "2024-10-10T23:10:35.169894Z"
    },
    "papermill": {
     "duration": 0.027682,
     "end_time": "2024-10-10T23:10:35.173389",
     "exception": false,
     "start_time": "2024-10-10T23:10:35.145707",
     "status": "completed"
    },
    "tags": []
   },
   "outputs": [
    {
     "data": {
      "text/html": [
       "<div>\n",
       "<style scoped>\n",
       "    .dataframe tbody tr th:only-of-type {\n",
       "        vertical-align: middle;\n",
       "    }\n",
       "\n",
       "    .dataframe tbody tr th {\n",
       "        vertical-align: top;\n",
       "    }\n",
       "\n",
       "    .dataframe thead th {\n",
       "        text-align: right;\n",
       "    }\n",
       "</style>\n",
       "<table border=\"1\" class=\"dataframe\">\n",
       "  <thead>\n",
       "    <tr style=\"text-align: right;\">\n",
       "      <th></th>\n",
       "      <th>person_age</th>\n",
       "      <th>person_income</th>\n",
       "      <th>person_emp_length</th>\n",
       "      <th>loan_amnt</th>\n",
       "      <th>loan_int_rate</th>\n",
       "      <th>loan_percent_income</th>\n",
       "      <th>cb_person_cred_hist_length</th>\n",
       "      <th>loan_status</th>\n",
       "    </tr>\n",
       "  </thead>\n",
       "  <tbody>\n",
       "    <tr>\n",
       "      <th>0</th>\n",
       "      <td>37</td>\n",
       "      <td>35000</td>\n",
       "      <td>0.0</td>\n",
       "      <td>6000</td>\n",
       "      <td>11.49</td>\n",
       "      <td>0.17</td>\n",
       "      <td>14</td>\n",
       "      <td>0</td>\n",
       "    </tr>\n",
       "    <tr>\n",
       "      <th>1</th>\n",
       "      <td>22</td>\n",
       "      <td>56000</td>\n",
       "      <td>6.0</td>\n",
       "      <td>4000</td>\n",
       "      <td>13.35</td>\n",
       "      <td>0.07</td>\n",
       "      <td>2</td>\n",
       "      <td>0</td>\n",
       "    </tr>\n",
       "    <tr>\n",
       "      <th>2</th>\n",
       "      <td>29</td>\n",
       "      <td>28800</td>\n",
       "      <td>8.0</td>\n",
       "      <td>6000</td>\n",
       "      <td>8.90</td>\n",
       "      <td>0.21</td>\n",
       "      <td>10</td>\n",
       "      <td>0</td>\n",
       "    </tr>\n",
       "    <tr>\n",
       "      <th>3</th>\n",
       "      <td>30</td>\n",
       "      <td>70000</td>\n",
       "      <td>14.0</td>\n",
       "      <td>12000</td>\n",
       "      <td>11.11</td>\n",
       "      <td>0.17</td>\n",
       "      <td>5</td>\n",
       "      <td>0</td>\n",
       "    </tr>\n",
       "    <tr>\n",
       "      <th>4</th>\n",
       "      <td>22</td>\n",
       "      <td>60000</td>\n",
       "      <td>2.0</td>\n",
       "      <td>6000</td>\n",
       "      <td>6.92</td>\n",
       "      <td>0.10</td>\n",
       "      <td>3</td>\n",
       "      <td>0</td>\n",
       "    </tr>\n",
       "  </tbody>\n",
       "</table>\n",
       "</div>"
      ],
      "text/plain": [
       "   person_age  person_income  person_emp_length  loan_amnt  loan_int_rate  \\\n",
       "0          37          35000                0.0       6000          11.49   \n",
       "1          22          56000                6.0       4000          13.35   \n",
       "2          29          28800                8.0       6000           8.90   \n",
       "3          30          70000               14.0      12000          11.11   \n",
       "4          22          60000                2.0       6000           6.92   \n",
       "\n",
       "   loan_percent_income  cb_person_cred_hist_length  loan_status  \n",
       "0                 0.17                          14            0  \n",
       "1                 0.07                           2            0  \n",
       "2                 0.21                          10            0  \n",
       "3                 0.17                           5            0  \n",
       "4                 0.10                           3            0  "
      ]
     },
     "execution_count": 16,
     "metadata": {},
     "output_type": "execute_result"
    }
   ],
   "source": [
    "X_train_num.head()"
   ]
  },
  {
   "cell_type": "markdown",
   "id": "55f3bc95",
   "metadata": {
    "papermill": {
     "duration": 0.010554,
     "end_time": "2024-10-10T23:10:35.194603",
     "exception": false,
     "start_time": "2024-10-10T23:10:35.184049",
     "status": "completed"
    },
    "tags": []
   },
   "source": [
    "## Standardize Numerical Data"
   ]
  },
  {
   "cell_type": "code",
   "execution_count": 17,
   "id": "d584f677",
   "metadata": {
    "execution": {
     "iopub.execute_input": "2024-10-10T23:10:35.218014Z",
     "iopub.status.busy": "2024-10-10T23:10:35.217242Z",
     "iopub.status.idle": "2024-10-10T23:10:35.249059Z",
     "shell.execute_reply": "2024-10-10T23:10:35.248104Z"
    },
    "papermill": {
     "duration": 0.04657,
     "end_time": "2024-10-10T23:10:35.251742",
     "exception": false,
     "start_time": "2024-10-10T23:10:35.205172",
     "status": "completed"
    },
    "tags": []
   },
   "outputs": [],
   "source": [
    "scaler = StandardScaler()\n",
    "X_train_num_scaled = scaler.fit_transform(X_train_num) \n",
    "X_test_num_scaled = scaler.fit_transform(X_test_num)"
   ]
  },
  {
   "cell_type": "markdown",
   "id": "42c79733",
   "metadata": {
    "papermill": {
     "duration": 0.010473,
     "end_time": "2024-10-10T23:10:35.273037",
     "exception": false,
     "start_time": "2024-10-10T23:10:35.262564",
     "status": "completed"
    },
    "tags": []
   },
   "source": [
    "### To DataFrame "
   ]
  },
  {
   "cell_type": "code",
   "execution_count": 18,
   "id": "069ff6d6",
   "metadata": {
    "execution": {
     "iopub.execute_input": "2024-10-10T23:10:35.295848Z",
     "iopub.status.busy": "2024-10-10T23:10:35.295410Z",
     "iopub.status.idle": "2024-10-10T23:10:35.300804Z",
     "shell.execute_reply": "2024-10-10T23:10:35.299806Z"
    },
    "papermill": {
     "duration": 0.019401,
     "end_time": "2024-10-10T23:10:35.303011",
     "exception": false,
     "start_time": "2024-10-10T23:10:35.283610",
     "status": "completed"
    },
    "tags": []
   },
   "outputs": [],
   "source": [
    "X_train_num_df = pd.DataFrame(X_train_num_scaled, columns=X_train_num.columns)\n",
    "X_test_num_df = pd.DataFrame(X_test_num_scaled, columns=X_test_num.columns)\n"
   ]
  },
  {
   "cell_type": "code",
   "execution_count": 19,
   "id": "04e295da",
   "metadata": {
    "execution": {
     "iopub.execute_input": "2024-10-10T23:10:35.325597Z",
     "iopub.status.busy": "2024-10-10T23:10:35.325205Z",
     "iopub.status.idle": "2024-10-10T23:10:35.339821Z",
     "shell.execute_reply": "2024-10-10T23:10:35.338827Z"
    },
    "papermill": {
     "duration": 0.028443,
     "end_time": "2024-10-10T23:10:35.342032",
     "exception": false,
     "start_time": "2024-10-10T23:10:35.313589",
     "status": "completed"
    },
    "tags": []
   },
   "outputs": [
    {
     "data": {
      "text/html": [
       "<div>\n",
       "<style scoped>\n",
       "    .dataframe tbody tr th:only-of-type {\n",
       "        vertical-align: middle;\n",
       "    }\n",
       "\n",
       "    .dataframe tbody tr th {\n",
       "        vertical-align: top;\n",
       "    }\n",
       "\n",
       "    .dataframe thead th {\n",
       "        text-align: right;\n",
       "    }\n",
       "</style>\n",
       "<table border=\"1\" class=\"dataframe\">\n",
       "  <thead>\n",
       "    <tr style=\"text-align: right;\">\n",
       "      <th></th>\n",
       "      <th>person_age</th>\n",
       "      <th>person_income</th>\n",
       "      <th>person_emp_length</th>\n",
       "      <th>loan_amnt</th>\n",
       "      <th>loan_int_rate</th>\n",
       "      <th>loan_percent_income</th>\n",
       "      <th>cb_person_cred_hist_length</th>\n",
       "      <th>loan_status</th>\n",
       "    </tr>\n",
       "  </thead>\n",
       "  <tbody>\n",
       "    <tr>\n",
       "      <th>0</th>\n",
       "      <td>1.566200</td>\n",
       "      <td>-0.765768</td>\n",
       "      <td>-1.187200</td>\n",
       "      <td>-0.578306</td>\n",
       "      <td>0.267616</td>\n",
       "      <td>0.117378</td>\n",
       "      <td>2.031798</td>\n",
       "      <td>-0.407456</td>\n",
       "    </tr>\n",
       "    <tr>\n",
       "      <th>1</th>\n",
       "      <td>-0.920057</td>\n",
       "      <td>-0.212128</td>\n",
       "      <td>0.328047</td>\n",
       "      <td>-0.937775</td>\n",
       "      <td>0.880532</td>\n",
       "      <td>-0.973242</td>\n",
       "      <td>-0.946489</td>\n",
       "      <td>-0.407456</td>\n",
       "    </tr>\n",
       "    <tr>\n",
       "      <th>2</th>\n",
       "      <td>0.240196</td>\n",
       "      <td>-0.929223</td>\n",
       "      <td>0.833130</td>\n",
       "      <td>-0.578306</td>\n",
       "      <td>-0.585854</td>\n",
       "      <td>0.553626</td>\n",
       "      <td>1.039036</td>\n",
       "      <td>-0.407456</td>\n",
       "    </tr>\n",
       "    <tr>\n",
       "      <th>3</th>\n",
       "      <td>0.405947</td>\n",
       "      <td>0.156966</td>\n",
       "      <td>2.348377</td>\n",
       "      <td>0.500101</td>\n",
       "      <td>0.142396</td>\n",
       "      <td>0.117378</td>\n",
       "      <td>-0.201917</td>\n",
       "      <td>-0.407456</td>\n",
       "    </tr>\n",
       "    <tr>\n",
       "      <th>4</th>\n",
       "      <td>-0.920057</td>\n",
       "      <td>-0.106673</td>\n",
       "      <td>-0.682117</td>\n",
       "      <td>-0.578306</td>\n",
       "      <td>-1.238314</td>\n",
       "      <td>-0.646056</td>\n",
       "      <td>-0.698298</td>\n",
       "      <td>-0.407456</td>\n",
       "    </tr>\n",
       "  </tbody>\n",
       "</table>\n",
       "</div>"
      ],
      "text/plain": [
       "   person_age  person_income  person_emp_length  loan_amnt  loan_int_rate  \\\n",
       "0    1.566200      -0.765768          -1.187200  -0.578306       0.267616   \n",
       "1   -0.920057      -0.212128           0.328047  -0.937775       0.880532   \n",
       "2    0.240196      -0.929223           0.833130  -0.578306      -0.585854   \n",
       "3    0.405947       0.156966           2.348377   0.500101       0.142396   \n",
       "4   -0.920057      -0.106673          -0.682117  -0.578306      -1.238314   \n",
       "\n",
       "   loan_percent_income  cb_person_cred_hist_length  loan_status  \n",
       "0             0.117378                    2.031798    -0.407456  \n",
       "1            -0.973242                   -0.946489    -0.407456  \n",
       "2             0.553626                    1.039036    -0.407456  \n",
       "3             0.117378                   -0.201917    -0.407456  \n",
       "4            -0.646056                   -0.698298    -0.407456  "
      ]
     },
     "execution_count": 19,
     "metadata": {},
     "output_type": "execute_result"
    }
   ],
   "source": [
    "X_train_num_df.head()"
   ]
  },
  {
   "cell_type": "code",
   "execution_count": 20,
   "id": "6eac5c99",
   "metadata": {
    "execution": {
     "iopub.execute_input": "2024-10-10T23:10:35.365456Z",
     "iopub.status.busy": "2024-10-10T23:10:35.365042Z",
     "iopub.status.idle": "2024-10-10T23:10:35.385855Z",
     "shell.execute_reply": "2024-10-10T23:10:35.384957Z"
    },
    "papermill": {
     "duration": 0.035414,
     "end_time": "2024-10-10T23:10:35.388376",
     "exception": false,
     "start_time": "2024-10-10T23:10:35.352962",
     "status": "completed"
    },
    "tags": []
   },
   "outputs": [],
   "source": [
    "X_train_final = pd.concat([X_train_num_df, X_train_encoded_df], axis=1)\n",
    "X_test_final = pd.concat([X_test_num_df, X_test_encoded_df], axis=1)"
   ]
  },
  {
   "cell_type": "code",
   "execution_count": 21,
   "id": "20b7e97d",
   "metadata": {
    "execution": {
     "iopub.execute_input": "2024-10-10T23:10:35.412135Z",
     "iopub.status.busy": "2024-10-10T23:10:35.411713Z",
     "iopub.status.idle": "2024-10-10T23:10:35.416457Z",
     "shell.execute_reply": "2024-10-10T23:10:35.415479Z"
    },
    "papermill": {
     "duration": 0.019284,
     "end_time": "2024-10-10T23:10:35.418699",
     "exception": false,
     "start_time": "2024-10-10T23:10:35.399415",
     "status": "completed"
    },
    "tags": []
   },
   "outputs": [],
   "source": [
    "y_train = df_train['loan_status']"
   ]
  },
  {
   "cell_type": "code",
   "execution_count": 22,
   "id": "d2a61540",
   "metadata": {
    "execution": {
     "iopub.execute_input": "2024-10-10T23:10:35.442143Z",
     "iopub.status.busy": "2024-10-10T23:10:35.441754Z",
     "iopub.status.idle": "2024-10-10T23:10:35.464988Z",
     "shell.execute_reply": "2024-10-10T23:10:35.464018Z"
    },
    "papermill": {
     "duration": 0.03797,
     "end_time": "2024-10-10T23:10:35.467559",
     "exception": false,
     "start_time": "2024-10-10T23:10:35.429589",
     "status": "completed"
    },
    "tags": []
   },
   "outputs": [],
   "source": [
    "X_train_split, X_val_split, y_train_split, y_val_split = train_test_split(X_train_final, y_train, test_size=0.3)"
   ]
  },
  {
   "cell_type": "code",
   "execution_count": 23,
   "id": "7caa321b",
   "metadata": {
    "execution": {
     "iopub.execute_input": "2024-10-10T23:10:35.492366Z",
     "iopub.status.busy": "2024-10-10T23:10:35.491929Z",
     "iopub.status.idle": "2024-10-10T23:10:35.508884Z",
     "shell.execute_reply": "2024-10-10T23:10:35.507705Z"
    },
    "papermill": {
     "duration": 0.033258,
     "end_time": "2024-10-10T23:10:35.511838",
     "exception": false,
     "start_time": "2024-10-10T23:10:35.478580",
     "status": "completed"
    },
    "tags": []
   },
   "outputs": [
    {
     "name": "stdout",
     "output_type": "stream",
     "text": [
      "   person_age  person_income  person_emp_length  loan_amnt  loan_int_rate  \\\n",
      "0    1.566200      -0.765768          -1.187200  -0.578306       0.267616   \n",
      "1   -0.920057      -0.212128           0.328047  -0.937775       0.880532   \n",
      "2    0.240196      -0.929223           0.833130  -0.578306      -0.585854   \n",
      "3    0.405947       0.156966           2.348377   0.500101       0.142396   \n",
      "4   -0.920057      -0.106673          -0.682117  -0.578306      -1.238314   \n",
      "\n",
      "   loan_percent_income  cb_person_cred_hist_length  loan_status  \\\n",
      "0             0.117378                    2.031798    -0.407456   \n",
      "1            -0.973242                   -0.946489    -0.407456   \n",
      "2             0.553626                    1.039036    -0.407456   \n",
      "3             0.117378                   -0.201917    -0.407456   \n",
      "4            -0.646056                   -0.698298    -0.407456   \n",
      "\n",
      "   loan_intent_DEBTCONSOLIDATION  loan_intent_EDUCATION  ...  loan_grade_B  \\\n",
      "0                            0.0                    1.0  ...           1.0   \n",
      "1                            0.0                    0.0  ...           0.0   \n",
      "2                            0.0                    0.0  ...           0.0   \n",
      "3                            0.0                    0.0  ...           1.0   \n",
      "4                            0.0                    0.0  ...           0.0   \n",
      "\n",
      "   loan_grade_C  loan_grade_D  loan_grade_E  loan_grade_F  loan_grade_G  \\\n",
      "0           0.0           0.0           0.0           0.0           0.0   \n",
      "1           1.0           0.0           0.0           0.0           0.0   \n",
      "2           0.0           0.0           0.0           0.0           0.0   \n",
      "3           0.0           0.0           0.0           0.0           0.0   \n",
      "4           0.0           0.0           0.0           0.0           0.0   \n",
      "\n",
      "   person_home_ownership_MORTGAGE  person_home_ownership_OTHER  \\\n",
      "0                             0.0                          0.0   \n",
      "1                             0.0                          0.0   \n",
      "2                             0.0                          0.0   \n",
      "3                             0.0                          0.0   \n",
      "4                             0.0                          0.0   \n",
      "\n",
      "   person_home_ownership_OWN  person_home_ownership_RENT  \n",
      "0                        0.0                         1.0  \n",
      "1                        1.0                         0.0  \n",
      "2                        1.0                         0.0  \n",
      "3                        0.0                         1.0  \n",
      "4                        0.0                         1.0  \n",
      "\n",
      "[5 rows x 25 columns]\n"
     ]
    }
   ],
   "source": [
    "print(X_train_final.head())\n"
   ]
  },
  {
   "cell_type": "markdown",
   "id": "b826194f",
   "metadata": {
    "papermill": {
     "duration": 0.010896,
     "end_time": "2024-10-10T23:10:35.533927",
     "exception": false,
     "start_time": "2024-10-10T23:10:35.523031",
     "status": "completed"
    },
    "tags": []
   },
   "source": [
    "# Building ANN Model "
   ]
  },
  {
   "cell_type": "code",
   "execution_count": 24,
   "id": "13281fef",
   "metadata": {
    "execution": {
     "iopub.execute_input": "2024-10-10T23:10:35.558358Z",
     "iopub.status.busy": "2024-10-10T23:10:35.557567Z",
     "iopub.status.idle": "2024-10-10T23:10:48.181562Z",
     "shell.execute_reply": "2024-10-10T23:10:48.180608Z"
    },
    "papermill": {
     "duration": 12.638853,
     "end_time": "2024-10-10T23:10:48.184122",
     "exception": false,
     "start_time": "2024-10-10T23:10:35.545269",
     "status": "completed"
    },
    "tags": []
   },
   "outputs": [],
   "source": [
    "import tensorflow as tf\n",
    "from tensorflow.keras.models import Sequential\n",
    "from tensorflow.keras.layers import Dense, Dropout\n",
    "\n",
    "model = Sequential()"
   ]
  },
  {
   "cell_type": "code",
   "execution_count": 25,
   "id": "6bc44de7",
   "metadata": {
    "execution": {
     "iopub.execute_input": "2024-10-10T23:10:48.208220Z",
     "iopub.status.busy": "2024-10-10T23:10:48.207582Z",
     "iopub.status.idle": "2024-10-10T23:10:48.327437Z",
     "shell.execute_reply": "2024-10-10T23:10:48.326431Z"
    },
    "papermill": {
     "duration": 0.134557,
     "end_time": "2024-10-10T23:10:48.329834",
     "exception": false,
     "start_time": "2024-10-10T23:10:48.195277",
     "status": "completed"
    },
    "tags": []
   },
   "outputs": [
    {
     "name": "stderr",
     "output_type": "stream",
     "text": [
      "/opt/conda/lib/python3.10/site-packages/keras/src/layers/core/dense.py:87: UserWarning: Do not pass an `input_shape`/`input_dim` argument to a layer. When using Sequential models, prefer using an `Input(shape)` object as the first layer in the model instead.\n",
      "  super().__init__(activity_regularizer=activity_regularizer, **kwargs)\n"
     ]
    },
    {
     "data": {
      "text/html": [
       "<pre style=\"white-space:pre;overflow-x:auto;line-height:normal;font-family:Menlo,'DejaVu Sans Mono',consolas,'Courier New',monospace\"><span style=\"font-weight: bold\">Model: \"sequential\"</span>\n",
       "</pre>\n"
      ],
      "text/plain": [
       "\u001b[1mModel: \"sequential\"\u001b[0m\n"
      ]
     },
     "metadata": {},
     "output_type": "display_data"
    },
    {
     "data": {
      "text/html": [
       "<pre style=\"white-space:pre;overflow-x:auto;line-height:normal;font-family:Menlo,'DejaVu Sans Mono',consolas,'Courier New',monospace\">┏━━━━━━━━━━━━━━━━━━━━━━━━━━━━━━━━━┳━━━━━━━━━━━━━━━━━━━━━━━━┳━━━━━━━━━━━━━━━┓\n",
       "┃<span style=\"font-weight: bold\"> Layer (type)                    </span>┃<span style=\"font-weight: bold\"> Output Shape           </span>┃<span style=\"font-weight: bold\">       Param # </span>┃\n",
       "┡━━━━━━━━━━━━━━━━━━━━━━━━━━━━━━━━━╇━━━━━━━━━━━━━━━━━━━━━━━━╇━━━━━━━━━━━━━━━┩\n",
       "│ dense (<span style=\"color: #0087ff; text-decoration-color: #0087ff\">Dense</span>)                   │ (<span style=\"color: #00d7ff; text-decoration-color: #00d7ff\">None</span>, <span style=\"color: #00af00; text-decoration-color: #00af00\">32</span>)             │           <span style=\"color: #00af00; text-decoration-color: #00af00\">832</span> │\n",
       "├─────────────────────────────────┼────────────────────────┼───────────────┤\n",
       "│ dense_1 (<span style=\"color: #0087ff; text-decoration-color: #0087ff\">Dense</span>)                 │ (<span style=\"color: #00d7ff; text-decoration-color: #00d7ff\">None</span>, <span style=\"color: #00af00; text-decoration-color: #00af00\">16</span>)             │           <span style=\"color: #00af00; text-decoration-color: #00af00\">528</span> │\n",
       "├─────────────────────────────────┼────────────────────────┼───────────────┤\n",
       "│ dropout (<span style=\"color: #0087ff; text-decoration-color: #0087ff\">Dropout</span>)               │ (<span style=\"color: #00d7ff; text-decoration-color: #00d7ff\">None</span>, <span style=\"color: #00af00; text-decoration-color: #00af00\">16</span>)             │             <span style=\"color: #00af00; text-decoration-color: #00af00\">0</span> │\n",
       "├─────────────────────────────────┼────────────────────────┼───────────────┤\n",
       "│ dense_2 (<span style=\"color: #0087ff; text-decoration-color: #0087ff\">Dense</span>)                 │ (<span style=\"color: #00d7ff; text-decoration-color: #00d7ff\">None</span>, <span style=\"color: #00af00; text-decoration-color: #00af00\">1</span>)              │            <span style=\"color: #00af00; text-decoration-color: #00af00\">17</span> │\n",
       "└─────────────────────────────────┴────────────────────────┴───────────────┘\n",
       "</pre>\n"
      ],
      "text/plain": [
       "┏━━━━━━━━━━━━━━━━━━━━━━━━━━━━━━━━━┳━━━━━━━━━━━━━━━━━━━━━━━━┳━━━━━━━━━━━━━━━┓\n",
       "┃\u001b[1m \u001b[0m\u001b[1mLayer (type)                   \u001b[0m\u001b[1m \u001b[0m┃\u001b[1m \u001b[0m\u001b[1mOutput Shape          \u001b[0m\u001b[1m \u001b[0m┃\u001b[1m \u001b[0m\u001b[1m      Param #\u001b[0m\u001b[1m \u001b[0m┃\n",
       "┡━━━━━━━━━━━━━━━━━━━━━━━━━━━━━━━━━╇━━━━━━━━━━━━━━━━━━━━━━━━╇━━━━━━━━━━━━━━━┩\n",
       "│ dense (\u001b[38;5;33mDense\u001b[0m)                   │ (\u001b[38;5;45mNone\u001b[0m, \u001b[38;5;34m32\u001b[0m)             │           \u001b[38;5;34m832\u001b[0m │\n",
       "├─────────────────────────────────┼────────────────────────┼───────────────┤\n",
       "│ dense_1 (\u001b[38;5;33mDense\u001b[0m)                 │ (\u001b[38;5;45mNone\u001b[0m, \u001b[38;5;34m16\u001b[0m)             │           \u001b[38;5;34m528\u001b[0m │\n",
       "├─────────────────────────────────┼────────────────────────┼───────────────┤\n",
       "│ dropout (\u001b[38;5;33mDropout\u001b[0m)               │ (\u001b[38;5;45mNone\u001b[0m, \u001b[38;5;34m16\u001b[0m)             │             \u001b[38;5;34m0\u001b[0m │\n",
       "├─────────────────────────────────┼────────────────────────┼───────────────┤\n",
       "│ dense_2 (\u001b[38;5;33mDense\u001b[0m)                 │ (\u001b[38;5;45mNone\u001b[0m, \u001b[38;5;34m1\u001b[0m)              │            \u001b[38;5;34m17\u001b[0m │\n",
       "└─────────────────────────────────┴────────────────────────┴───────────────┘\n"
      ]
     },
     "metadata": {},
     "output_type": "display_data"
    },
    {
     "data": {
      "text/html": [
       "<pre style=\"white-space:pre;overflow-x:auto;line-height:normal;font-family:Menlo,'DejaVu Sans Mono',consolas,'Courier New',monospace\"><span style=\"font-weight: bold\"> Total params: </span><span style=\"color: #00af00; text-decoration-color: #00af00\">1,377</span> (5.38 KB)\n",
       "</pre>\n"
      ],
      "text/plain": [
       "\u001b[1m Total params: \u001b[0m\u001b[38;5;34m1,377\u001b[0m (5.38 KB)\n"
      ]
     },
     "metadata": {},
     "output_type": "display_data"
    },
    {
     "data": {
      "text/html": [
       "<pre style=\"white-space:pre;overflow-x:auto;line-height:normal;font-family:Menlo,'DejaVu Sans Mono',consolas,'Courier New',monospace\"><span style=\"font-weight: bold\"> Trainable params: </span><span style=\"color: #00af00; text-decoration-color: #00af00\">1,377</span> (5.38 KB)\n",
       "</pre>\n"
      ],
      "text/plain": [
       "\u001b[1m Trainable params: \u001b[0m\u001b[38;5;34m1,377\u001b[0m (5.38 KB)\n"
      ]
     },
     "metadata": {},
     "output_type": "display_data"
    },
    {
     "data": {
      "text/html": [
       "<pre style=\"white-space:pre;overflow-x:auto;line-height:normal;font-family:Menlo,'DejaVu Sans Mono',consolas,'Courier New',monospace\"><span style=\"font-weight: bold\"> Non-trainable params: </span><span style=\"color: #00af00; text-decoration-color: #00af00\">0</span> (0.00 B)\n",
       "</pre>\n"
      ],
      "text/plain": [
       "\u001b[1m Non-trainable params: \u001b[0m\u001b[38;5;34m0\u001b[0m (0.00 B)\n"
      ]
     },
     "metadata": {},
     "output_type": "display_data"
    }
   ],
   "source": [
    "#input layer\n",
    "model.add(Dense(units=32, activation =\"relu\", input_shape=(X_train_split.shape[1],)))\n",
    "\n",
    "#hidden layers\n",
    "model.add(Dense(units=16, activation = \"relu\"))\n",
    "model.add(Dropout(0.6))\n",
    "\n",
    "#output layer\n",
    "model.add(Dense(units=1, activation = \"sigmoid\"))\n",
    "\n",
    "model.compile(optimizer=\"adam\", loss=\"binary_crossentropy\", metrics=[\"accuracy\"])\n",
    "\n",
    "model.summary()"
   ]
  },
  {
   "cell_type": "markdown",
   "id": "82d6e167",
   "metadata": {
    "papermill": {
     "duration": 0.011794,
     "end_time": "2024-10-10T23:10:48.353774",
     "exception": false,
     "start_time": "2024-10-10T23:10:48.341980",
     "status": "completed"
    },
    "tags": []
   },
   "source": [
    "# Training Model"
   ]
  },
  {
   "cell_type": "code",
   "execution_count": 26,
   "id": "204b0e76",
   "metadata": {
    "execution": {
     "iopub.execute_input": "2024-10-10T23:10:48.379834Z",
     "iopub.status.busy": "2024-10-10T23:10:48.379103Z",
     "iopub.status.idle": "2024-10-10T23:11:14.606047Z",
     "shell.execute_reply": "2024-10-10T23:11:14.604847Z"
    },
    "papermill": {
     "duration": 26.242667,
     "end_time": "2024-10-10T23:11:14.608335",
     "exception": false,
     "start_time": "2024-10-10T23:10:48.365668",
     "status": "completed"
    },
    "tags": []
   },
   "outputs": [
    {
     "name": "stdout",
     "output_type": "stream",
     "text": [
      "Epoch 1/10\n",
      "\u001b[1m1283/1283\u001b[0m \u001b[32m━━━━━━━━━━━━━━━━━━━━\u001b[0m\u001b[37m\u001b[0m \u001b[1m4s\u001b[0m 2ms/step - accuracy: 0.9350 - loss: 0.1642 - val_accuracy: 1.0000 - val_loss: 1.2070e-05\n",
      "Epoch 2/10\n",
      "\u001b[1m1283/1283\u001b[0m \u001b[32m━━━━━━━━━━━━━━━━━━━━\u001b[0m\u001b[37m\u001b[0m \u001b[1m2s\u001b[0m 2ms/step - accuracy: 0.9960 - loss: 0.0143 - val_accuracy: 1.0000 - val_loss: 2.9107e-07\n",
      "Epoch 3/10\n",
      "\u001b[1m1283/1283\u001b[0m \u001b[32m━━━━━━━━━━━━━━━━━━━━\u001b[0m\u001b[37m\u001b[0m \u001b[1m2s\u001b[0m 2ms/step - accuracy: 0.9960 - loss: 0.0113 - val_accuracy: 1.0000 - val_loss: 6.7281e-08\n",
      "Epoch 4/10\n",
      "\u001b[1m1283/1283\u001b[0m \u001b[32m━━━━━━━━━━━━━━━━━━━━\u001b[0m\u001b[37m\u001b[0m \u001b[1m2s\u001b[0m 2ms/step - accuracy: 0.9965 - loss: 0.0099 - val_accuracy: 1.0000 - val_loss: 7.2962e-10\n",
      "Epoch 5/10\n",
      "\u001b[1m1283/1283\u001b[0m \u001b[32m━━━━━━━━━━━━━━━━━━━━\u001b[0m\u001b[37m\u001b[0m \u001b[1m2s\u001b[0m 2ms/step - accuracy: 0.9963 - loss: 0.0099 - val_accuracy: 1.0000 - val_loss: 7.8904e-11\n",
      "Epoch 6/10\n",
      "\u001b[1m1283/1283\u001b[0m \u001b[32m━━━━━━━━━━━━━━━━━━━━\u001b[0m\u001b[37m\u001b[0m \u001b[1m2s\u001b[0m 2ms/step - accuracy: 0.9955 - loss: 0.0108 - val_accuracy: 1.0000 - val_loss: 1.8463e-11\n",
      "Epoch 7/10\n",
      "\u001b[1m1283/1283\u001b[0m \u001b[32m━━━━━━━━━━━━━━━━━━━━\u001b[0m\u001b[37m\u001b[0m \u001b[1m2s\u001b[0m 2ms/step - accuracy: 0.9950 - loss: 0.0116 - val_accuracy: 1.0000 - val_loss: 4.6634e-12\n",
      "Epoch 8/10\n",
      "\u001b[1m1283/1283\u001b[0m \u001b[32m━━━━━━━━━━━━━━━━━━━━\u001b[0m\u001b[37m\u001b[0m \u001b[1m2s\u001b[0m 2ms/step - accuracy: 0.9962 - loss: 0.0095 - val_accuracy: 1.0000 - val_loss: 1.9999e-13\n",
      "Epoch 9/10\n",
      "\u001b[1m1283/1283\u001b[0m \u001b[32m━━━━━━━━━━━━━━━━━━━━\u001b[0m\u001b[37m\u001b[0m \u001b[1m2s\u001b[0m 2ms/step - accuracy: 0.9956 - loss: 0.0102 - val_accuracy: 1.0000 - val_loss: 9.6393e-14\n",
      "Epoch 10/10\n",
      "\u001b[1m1283/1283\u001b[0m \u001b[32m━━━━━━━━━━━━━━━━━━━━\u001b[0m\u001b[37m\u001b[0m \u001b[1m2s\u001b[0m 2ms/step - accuracy: 0.9957 - loss: 0.0101 - val_accuracy: 1.0000 - val_loss: 8.9783e-15\n",
      "\u001b[1m550/550\u001b[0m \u001b[32m━━━━━━━━━━━━━━━━━━━━\u001b[0m\u001b[37m\u001b[0m \u001b[1m1s\u001b[0m 1ms/step - accuracy: 1.0000 - loss: 9.3159e-15\n",
      "Validation Loss: 8.978291742879618e-15, Validation Accuracy: 1.0\n"
     ]
    }
   ],
   "source": [
    "#early stopping to stop training when validation loss stops improving\n",
    "early_stopping = tf.keras.callbacks.EarlyStopping(monitor=\"val_loss\", patience=5, restore_best_weights=True)\n",
    "\n",
    "history = model.fit(X_train_split, y_train_split,\n",
    "                   validation_data = (X_val_split, y_val_split),\n",
    "                   epochs=10, batch_size=32, callbacks=[early_stopping])\n",
    "#evaluate the model on the validation set\n",
    "val_loss, val_accuracy = model.evaluate(X_val_split, y_val_split)\n",
    "print(f\"Validation Loss: {val_loss}, Validation Accuracy: {val_accuracy}\")"
   ]
  },
  {
   "cell_type": "code",
   "execution_count": null,
   "id": "31c78e54",
   "metadata": {
    "papermill": {
     "duration": 0.042877,
     "end_time": "2024-10-10T23:11:14.696947",
     "exception": false,
     "start_time": "2024-10-10T23:11:14.654070",
     "status": "completed"
    },
    "tags": []
   },
   "outputs": [],
   "source": []
  }
 ],
 "metadata": {
  "kaggle": {
   "accelerator": "none",
   "dataSources": [
    {
     "databundleVersionId": 9709193,
     "sourceId": 84894,
     "sourceType": "competition"
    }
   ],
   "dockerImageVersionId": 30786,
   "isGpuEnabled": false,
   "isInternetEnabled": true,
   "language": "python",
   "sourceType": "notebook"
  },
  "kernelspec": {
   "display_name": "Python 3",
   "language": "python",
   "name": "python3"
  },
  "language_info": {
   "codemirror_mode": {
    "name": "ipython",
    "version": 3
   },
   "file_extension": ".py",
   "mimetype": "text/x-python",
   "name": "python",
   "nbconvert_exporter": "python",
   "pygments_lexer": "ipython3",
   "version": "3.10.14"
  },
  "papermill": {
   "default_parameters": {},
   "duration": 47.007203,
   "end_time": "2024-10-10T23:11:16.064400",
   "environment_variables": {},
   "exception": null,
   "input_path": "__notebook__.ipynb",
   "output_path": "__notebook__.ipynb",
   "parameters": {},
   "start_time": "2024-10-10T23:10:29.057197",
   "version": "2.6.0"
  }
 },
 "nbformat": 4,
 "nbformat_minor": 5
}
