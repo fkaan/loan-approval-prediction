{
 "cells": [
  {
   "cell_type": "code",
   "execution_count": 1,
   "id": "1e7bd6fb",
   "metadata": {
    "_cell_guid": "b1076dfc-b9ad-4769-8c92-a6c4dae69d19",
    "_uuid": "8f2839f25d086af736a60e9eeb907d3b93b6e0e5",
    "execution": {
     "iopub.execute_input": "2024-10-10T19:05:06.135482Z",
     "iopub.status.busy": "2024-10-10T19:05:06.135008Z",
     "iopub.status.idle": "2024-10-10T19:05:07.079499Z",
     "shell.execute_reply": "2024-10-10T19:05:07.078317Z"
    },
    "papermill": {
     "duration": 0.953241,
     "end_time": "2024-10-10T19:05:07.082198",
     "exception": false,
     "start_time": "2024-10-10T19:05:06.128957",
     "status": "completed"
    },
    "tags": []
   },
   "outputs": [
    {
     "name": "stdout",
     "output_type": "stream",
     "text": [
      "/kaggle/input/playground-series-s4e10/sample_submission.csv\n",
      "/kaggle/input/playground-series-s4e10/train.csv\n",
      "/kaggle/input/playground-series-s4e10/test.csv\n"
     ]
    }
   ],
   "source": [
    "# This Python 3 environment comes with many helpful analytics libraries installed\n",
    "# It is defined by the kaggle/python Docker image: https://github.com/kaggle/docker-python\n",
    "# For example, here's several helpful packages to load\n",
    "\n",
    "import numpy as np # linear algebra\n",
    "import pandas as pd # data processing, CSV file I/O (e.g. pd.read_csv)\n",
    "\n",
    "# Input data files are available in the read-only \"../input/\" directory\n",
    "# For example, running this (by clicking run or pressing Shift+Enter) will list all files under the input directory\n",
    "\n",
    "import os\n",
    "for dirname, _, filenames in os.walk('/kaggle/input'):\n",
    "    for filename in filenames:\n",
    "        print(os.path.join(dirname, filename))\n",
    "\n",
    "# You can write up to 20GB to the current directory (/kaggle/working/) that gets preserved as output when you create a version using \"Save & Run All\" \n",
    "# You can also write temporary files to /kaggle/temp/, but they won't be saved outside of the current session"
   ]
  },
  {
   "cell_type": "code",
   "execution_count": 2,
   "id": "3683fab5",
   "metadata": {
    "execution": {
     "iopub.execute_input": "2024-10-10T19:05:07.092793Z",
     "iopub.status.busy": "2024-10-10T19:05:07.092223Z",
     "iopub.status.idle": "2024-10-10T19:05:07.097535Z",
     "shell.execute_reply": "2024-10-10T19:05:07.096454Z"
    },
    "papermill": {
     "duration": 0.013227,
     "end_time": "2024-10-10T19:05:07.099980",
     "exception": false,
     "start_time": "2024-10-10T19:05:07.086753",
     "status": "completed"
    },
    "tags": []
   },
   "outputs": [],
   "source": [
    "import pandas as pd\n",
    "import numpy as np \n",
    "import matplotlib.pyplot as plt "
   ]
  },
  {
   "cell_type": "markdown",
   "id": "07986ca1",
   "metadata": {
    "execution": {
     "iopub.execute_input": "2024-10-10T18:52:51.261884Z",
     "iopub.status.busy": "2024-10-10T18:52:51.261384Z",
     "iopub.status.idle": "2024-10-10T18:52:51.840814Z",
     "shell.execute_reply": "2024-10-10T18:52:51.839083Z",
     "shell.execute_reply.started": "2024-10-10T18:52:51.261839Z"
    },
    "papermill": {
     "duration": 0.003707,
     "end_time": "2024-10-10T19:05:07.107910",
     "exception": false,
     "start_time": "2024-10-10T19:05:07.104203",
     "status": "completed"
    },
    "tags": []
   },
   "source": [
    "# Data Loading"
   ]
  },
  {
   "cell_type": "code",
   "execution_count": 3,
   "id": "6c92c3a1",
   "metadata": {
    "execution": {
     "iopub.execute_input": "2024-10-10T19:05:07.117832Z",
     "iopub.status.busy": "2024-10-10T19:05:07.117069Z",
     "iopub.status.idle": "2024-10-10T19:05:07.429593Z",
     "shell.execute_reply": "2024-10-10T19:05:07.428430Z"
    },
    "papermill": {
     "duration": 0.320907,
     "end_time": "2024-10-10T19:05:07.432750",
     "exception": false,
     "start_time": "2024-10-10T19:05:07.111843",
     "status": "completed"
    },
    "tags": []
   },
   "outputs": [],
   "source": [
    "df_train = pd.read_csv(\"/kaggle/input/playground-series-s4e10/train.csv\")\n",
    "df_test = pd.read_csv(\"/kaggle/input/playground-series-s4e10/test.csv\")\n"
   ]
  },
  {
   "cell_type": "code",
   "execution_count": 4,
   "id": "29ed6d3f",
   "metadata": {
    "execution": {
     "iopub.execute_input": "2024-10-10T19:05:07.443007Z",
     "iopub.status.busy": "2024-10-10T19:05:07.442592Z",
     "iopub.status.idle": "2024-10-10T19:05:07.471674Z",
     "shell.execute_reply": "2024-10-10T19:05:07.470437Z"
    },
    "papermill": {
     "duration": 0.037589,
     "end_time": "2024-10-10T19:05:07.474665",
     "exception": false,
     "start_time": "2024-10-10T19:05:07.437076",
     "status": "completed"
    },
    "tags": []
   },
   "outputs": [
    {
     "data": {
      "text/html": [
       "<div>\n",
       "<style scoped>\n",
       "    .dataframe tbody tr th:only-of-type {\n",
       "        vertical-align: middle;\n",
       "    }\n",
       "\n",
       "    .dataframe tbody tr th {\n",
       "        vertical-align: top;\n",
       "    }\n",
       "\n",
       "    .dataframe thead th {\n",
       "        text-align: right;\n",
       "    }\n",
       "</style>\n",
       "<table border=\"1\" class=\"dataframe\">\n",
       "  <thead>\n",
       "    <tr style=\"text-align: right;\">\n",
       "      <th></th>\n",
       "      <th>id</th>\n",
       "      <th>person_age</th>\n",
       "      <th>person_income</th>\n",
       "      <th>person_home_ownership</th>\n",
       "      <th>person_emp_length</th>\n",
       "      <th>loan_intent</th>\n",
       "      <th>loan_grade</th>\n",
       "      <th>loan_amnt</th>\n",
       "      <th>loan_int_rate</th>\n",
       "      <th>loan_percent_income</th>\n",
       "      <th>cb_person_default_on_file</th>\n",
       "      <th>cb_person_cred_hist_length</th>\n",
       "    </tr>\n",
       "  </thead>\n",
       "  <tbody>\n",
       "    <tr>\n",
       "      <th>0</th>\n",
       "      <td>58645</td>\n",
       "      <td>23</td>\n",
       "      <td>69000</td>\n",
       "      <td>RENT</td>\n",
       "      <td>3.0</td>\n",
       "      <td>HOMEIMPROVEMENT</td>\n",
       "      <td>F</td>\n",
       "      <td>25000</td>\n",
       "      <td>15.76</td>\n",
       "      <td>0.36</td>\n",
       "      <td>N</td>\n",
       "      <td>2</td>\n",
       "    </tr>\n",
       "    <tr>\n",
       "      <th>1</th>\n",
       "      <td>58646</td>\n",
       "      <td>26</td>\n",
       "      <td>96000</td>\n",
       "      <td>MORTGAGE</td>\n",
       "      <td>6.0</td>\n",
       "      <td>PERSONAL</td>\n",
       "      <td>C</td>\n",
       "      <td>10000</td>\n",
       "      <td>12.68</td>\n",
       "      <td>0.10</td>\n",
       "      <td>Y</td>\n",
       "      <td>4</td>\n",
       "    </tr>\n",
       "    <tr>\n",
       "      <th>2</th>\n",
       "      <td>58647</td>\n",
       "      <td>26</td>\n",
       "      <td>30000</td>\n",
       "      <td>RENT</td>\n",
       "      <td>5.0</td>\n",
       "      <td>VENTURE</td>\n",
       "      <td>E</td>\n",
       "      <td>4000</td>\n",
       "      <td>17.19</td>\n",
       "      <td>0.13</td>\n",
       "      <td>Y</td>\n",
       "      <td>2</td>\n",
       "    </tr>\n",
       "    <tr>\n",
       "      <th>3</th>\n",
       "      <td>58648</td>\n",
       "      <td>33</td>\n",
       "      <td>50000</td>\n",
       "      <td>RENT</td>\n",
       "      <td>4.0</td>\n",
       "      <td>DEBTCONSOLIDATION</td>\n",
       "      <td>A</td>\n",
       "      <td>7000</td>\n",
       "      <td>8.90</td>\n",
       "      <td>0.14</td>\n",
       "      <td>N</td>\n",
       "      <td>7</td>\n",
       "    </tr>\n",
       "    <tr>\n",
       "      <th>4</th>\n",
       "      <td>58649</td>\n",
       "      <td>26</td>\n",
       "      <td>102000</td>\n",
       "      <td>MORTGAGE</td>\n",
       "      <td>8.0</td>\n",
       "      <td>HOMEIMPROVEMENT</td>\n",
       "      <td>D</td>\n",
       "      <td>15000</td>\n",
       "      <td>16.32</td>\n",
       "      <td>0.15</td>\n",
       "      <td>Y</td>\n",
       "      <td>4</td>\n",
       "    </tr>\n",
       "  </tbody>\n",
       "</table>\n",
       "</div>"
      ],
      "text/plain": [
       "      id  person_age  person_income person_home_ownership  person_emp_length  \\\n",
       "0  58645          23          69000                  RENT                3.0   \n",
       "1  58646          26          96000              MORTGAGE                6.0   \n",
       "2  58647          26          30000                  RENT                5.0   \n",
       "3  58648          33          50000                  RENT                4.0   \n",
       "4  58649          26         102000              MORTGAGE                8.0   \n",
       "\n",
       "         loan_intent loan_grade  loan_amnt  loan_int_rate  \\\n",
       "0    HOMEIMPROVEMENT          F      25000          15.76   \n",
       "1           PERSONAL          C      10000          12.68   \n",
       "2            VENTURE          E       4000          17.19   \n",
       "3  DEBTCONSOLIDATION          A       7000           8.90   \n",
       "4    HOMEIMPROVEMENT          D      15000          16.32   \n",
       "\n",
       "   loan_percent_income cb_person_default_on_file  cb_person_cred_hist_length  \n",
       "0                 0.36                         N                           2  \n",
       "1                 0.10                         Y                           4  \n",
       "2                 0.13                         Y                           2  \n",
       "3                 0.14                         N                           7  \n",
       "4                 0.15                         Y                           4  "
      ]
     },
     "execution_count": 4,
     "metadata": {},
     "output_type": "execute_result"
    }
   ],
   "source": [
    "df_test.head()"
   ]
  },
  {
   "cell_type": "code",
   "execution_count": 5,
   "id": "26635ad7",
   "metadata": {
    "execution": {
     "iopub.execute_input": "2024-10-10T19:05:07.485237Z",
     "iopub.status.busy": "2024-10-10T19:05:07.484825Z",
     "iopub.status.idle": "2024-10-10T19:05:07.491973Z",
     "shell.execute_reply": "2024-10-10T19:05:07.490888Z"
    },
    "papermill": {
     "duration": 0.015381,
     "end_time": "2024-10-10T19:05:07.494475",
     "exception": false,
     "start_time": "2024-10-10T19:05:07.479094",
     "status": "completed"
    },
    "tags": []
   },
   "outputs": [
    {
     "data": {
      "text/plain": [
       "(58645, 13)"
      ]
     },
     "execution_count": 5,
     "metadata": {},
     "output_type": "execute_result"
    }
   ],
   "source": [
    "df_train.shape"
   ]
  },
  {
   "cell_type": "code",
   "execution_count": 6,
   "id": "68323658",
   "metadata": {
    "execution": {
     "iopub.execute_input": "2024-10-10T19:05:07.505634Z",
     "iopub.status.busy": "2024-10-10T19:05:07.505180Z",
     "iopub.status.idle": "2024-10-10T19:05:07.512256Z",
     "shell.execute_reply": "2024-10-10T19:05:07.511186Z"
    },
    "papermill": {
     "duration": 0.015531,
     "end_time": "2024-10-10T19:05:07.514677",
     "exception": false,
     "start_time": "2024-10-10T19:05:07.499146",
     "status": "completed"
    },
    "tags": []
   },
   "outputs": [
    {
     "data": {
      "text/plain": [
       "(39098, 12)"
      ]
     },
     "execution_count": 6,
     "metadata": {},
     "output_type": "execute_result"
    }
   ],
   "source": [
    "df_test.shape"
   ]
  },
  {
   "cell_type": "code",
   "execution_count": 7,
   "id": "312caa65",
   "metadata": {
    "execution": {
     "iopub.execute_input": "2024-10-10T19:05:07.526144Z",
     "iopub.status.busy": "2024-10-10T19:05:07.525736Z",
     "iopub.status.idle": "2024-10-10T19:05:07.534629Z",
     "shell.execute_reply": "2024-10-10T19:05:07.533557Z"
    },
    "papermill": {
     "duration": 0.017686,
     "end_time": "2024-10-10T19:05:07.537230",
     "exception": false,
     "start_time": "2024-10-10T19:05:07.519544",
     "status": "completed"
    },
    "tags": []
   },
   "outputs": [
    {
     "data": {
      "text/plain": [
       "id                              int64\n",
       "person_age                      int64\n",
       "person_income                   int64\n",
       "person_home_ownership          object\n",
       "person_emp_length             float64\n",
       "loan_intent                    object\n",
       "loan_grade                     object\n",
       "loan_amnt                       int64\n",
       "loan_int_rate                 float64\n",
       "loan_percent_income           float64\n",
       "cb_person_default_on_file      object\n",
       "cb_person_cred_hist_length      int64\n",
       "loan_status                     int64\n",
       "dtype: object"
      ]
     },
     "execution_count": 7,
     "metadata": {},
     "output_type": "execute_result"
    }
   ],
   "source": [
    "df_train.dtypes"
   ]
  },
  {
   "cell_type": "code",
   "execution_count": null,
   "id": "03e62228",
   "metadata": {
    "papermill": {
     "duration": 0.004573,
     "end_time": "2024-10-10T19:05:07.546741",
     "exception": false,
     "start_time": "2024-10-10T19:05:07.542168",
     "status": "completed"
    },
    "tags": []
   },
   "outputs": [],
   "source": []
  }
 ],
 "metadata": {
  "kaggle": {
   "accelerator": "none",
   "dataSources": [
    {
     "databundleVersionId": 9709193,
     "sourceId": 84894,
     "sourceType": "competition"
    }
   ],
   "dockerImageVersionId": 30786,
   "isGpuEnabled": false,
   "isInternetEnabled": true,
   "language": "python",
   "sourceType": "notebook"
  },
  "kernelspec": {
   "display_name": "Python 3",
   "language": "python",
   "name": "python3"
  },
  "language_info": {
   "codemirror_mode": {
    "name": "ipython",
    "version": 3
   },
   "file_extension": ".py",
   "mimetype": "text/x-python",
   "name": "python",
   "nbconvert_exporter": "python",
   "pygments_lexer": "ipython3",
   "version": "3.10.14"
  },
  "papermill": {
   "default_parameters": {},
   "duration": 4.985842,
   "end_time": "2024-10-10T19:05:08.074138",
   "environment_variables": {},
   "exception": null,
   "input_path": "__notebook__.ipynb",
   "output_path": "__notebook__.ipynb",
   "parameters": {},
   "start_time": "2024-10-10T19:05:03.088296",
   "version": "2.6.0"
  }
 },
 "nbformat": 4,
 "nbformat_minor": 5
}
