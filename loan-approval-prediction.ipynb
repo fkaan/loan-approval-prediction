{
 "cells": [
  {
   "cell_type": "code",
   "execution_count": 1,
   "id": "9a7999d8",
   "metadata": {
    "_cell_guid": "b1076dfc-b9ad-4769-8c92-a6c4dae69d19",
    "_uuid": "8f2839f25d086af736a60e9eeb907d3b93b6e0e5",
    "execution": {
     "iopub.execute_input": "2024-10-12T00:53:25.134147Z",
     "iopub.status.busy": "2024-10-12T00:53:25.132781Z",
     "iopub.status.idle": "2024-10-12T00:53:26.025499Z",
     "shell.execute_reply": "2024-10-12T00:53:26.024230Z"
    },
    "papermill": {
     "duration": 0.904375,
     "end_time": "2024-10-12T00:53:26.028165",
     "exception": false,
     "start_time": "2024-10-12T00:53:25.123790",
     "status": "completed"
    },
    "tags": []
   },
   "outputs": [
    {
     "name": "stdout",
     "output_type": "stream",
     "text": [
      "/kaggle/input/playground-series-s4e10/sample_submission.csv\n",
      "/kaggle/input/playground-series-s4e10/train.csv\n",
      "/kaggle/input/playground-series-s4e10/test.csv\n"
     ]
    }
   ],
   "source": [
    "# This Python 3 environment comes with many helpful analytics libraries installed\n",
    "# It is defined by the kaggle/python Docker image: https://github.com/kaggle/docker-python\n",
    "# For example, here's several helpful packages to load\n",
    "\n",
    "import numpy as np # linear algebra\n",
    "import pandas as pd # data processing, CSV file I/O (e.g. pd.read_csv)\n",
    "\n",
    "# Input data files are available in the read-only \"../input/\" directory\n",
    "# For example, running this (by clicking run or pressing Shift+Enter) will list all files under the input directory\n",
    "\n",
    "import os\n",
    "for dirname, _, filenames in os.walk('/kaggle/input'):\n",
    "    for filename in filenames:\n",
    "        print(os.path.join(dirname, filename))\n",
    "\n",
    "# You can write up to 20GB to the current directory (/kaggle/working/) that gets preserved as output when you create a version using \"Save & Run All\" \n",
    "# You can also write temporary files to /kaggle/temp/, but they won't be saved outside of the current session"
   ]
  },
  {
   "cell_type": "code",
   "execution_count": 2,
   "id": "1b9dde76",
   "metadata": {
    "execution": {
     "iopub.execute_input": "2024-10-12T00:53:26.043663Z",
     "iopub.status.busy": "2024-10-12T00:53:26.043089Z",
     "iopub.status.idle": "2024-10-12T00:53:41.729348Z",
     "shell.execute_reply": "2024-10-12T00:53:41.728131Z"
    },
    "papermill": {
     "duration": 15.696901,
     "end_time": "2024-10-12T00:53:41.732062",
     "exception": false,
     "start_time": "2024-10-12T00:53:26.035161",
     "status": "completed"
    },
    "tags": []
   },
   "outputs": [],
   "source": [
    "from pathlib import Path\n",
    "import pandas as pd\n",
    "import numpy as np\n",
    "import matplotlib.pyplot as plt\n",
    "from sklearn.preprocessing import MinMaxScaler, OrdinalEncoder, OneHotEncoder, LabelEncoder, StandardScaler\n",
    "from sklearn.compose import ColumnTransformer\n",
    "from sklearn.model_selection import train_test_split\n",
    "from tensorflow.keras.models import Sequential\n",
    "from tensorflow.keras.layers import Dense, Dropout\n",
    "from tensorflow.keras.optimizers import Adam\n",
    "from tensorflow.keras.callbacks import EarlyStopping\n",
    "from imblearn.over_sampling import SMOTE\n",
    "from sklearn.metrics import confusion_matrix, ConfusionMatrixDisplay\n",
    "from sklearn.model_selection import train_test_split\n",
    "import tensorflow as tf\n",
    "from tensorflow import keras\n",
    "from keras import Sequential\n",
    "from keras import layers\n",
    "import keras_tuner as kt\n",
    "import warnings\n",
    "warnings.filterwarnings('ignore')"
   ]
  },
  {
   "cell_type": "markdown",
   "id": "21015cc2",
   "metadata": {
    "execution": {
     "iopub.execute_input": "2024-10-10T18:52:51.261884Z",
     "iopub.status.busy": "2024-10-10T18:52:51.261384Z",
     "iopub.status.idle": "2024-10-10T18:52:51.840814Z",
     "shell.execute_reply": "2024-10-10T18:52:51.839083Z",
     "shell.execute_reply.started": "2024-10-10T18:52:51.261839Z"
    },
    "papermill": {
     "duration": 0.006802,
     "end_time": "2024-10-12T00:53:41.745800",
     "exception": false,
     "start_time": "2024-10-12T00:53:41.738998",
     "status": "completed"
    },
    "tags": []
   },
   "source": [
    "# Data Loading"
   ]
  },
  {
   "cell_type": "code",
   "execution_count": 3,
   "id": "09d5c117",
   "metadata": {
    "execution": {
     "iopub.execute_input": "2024-10-12T00:53:41.761478Z",
     "iopub.status.busy": "2024-10-12T00:53:41.760330Z",
     "iopub.status.idle": "2024-10-12T00:53:41.980605Z",
     "shell.execute_reply": "2024-10-12T00:53:41.979100Z"
    },
    "papermill": {
     "duration": 0.230635,
     "end_time": "2024-10-12T00:53:41.983078",
     "exception": false,
     "start_time": "2024-10-12T00:53:41.752443",
     "status": "completed"
    },
    "tags": []
   },
   "outputs": [],
   "source": [
    "df_train = pd.read_csv(\"/kaggle/input/playground-series-s4e10/train.csv\")\n",
    "df_test = pd.read_csv(\"/kaggle/input/playground-series-s4e10/test.csv\")"
   ]
  },
  {
   "cell_type": "code",
   "execution_count": 4,
   "id": "da56bbba",
   "metadata": {
    "execution": {
     "iopub.execute_input": "2024-10-12T00:53:41.999175Z",
     "iopub.status.busy": "2024-10-12T00:53:41.998747Z",
     "iopub.status.idle": "2024-10-12T00:53:42.007041Z",
     "shell.execute_reply": "2024-10-12T00:53:42.005936Z"
    },
    "papermill": {
     "duration": 0.01864,
     "end_time": "2024-10-12T00:53:42.009493",
     "exception": false,
     "start_time": "2024-10-12T00:53:41.990853",
     "status": "completed"
    },
    "tags": []
   },
   "outputs": [
    {
     "data": {
      "text/plain": [
       "(58645, 13)"
      ]
     },
     "execution_count": 4,
     "metadata": {},
     "output_type": "execute_result"
    }
   ],
   "source": [
    "df_train.shape"
   ]
  },
  {
   "cell_type": "code",
   "execution_count": 5,
   "id": "e5a685d8",
   "metadata": {
    "execution": {
     "iopub.execute_input": "2024-10-12T00:53:42.024663Z",
     "iopub.status.busy": "2024-10-12T00:53:42.024195Z",
     "iopub.status.idle": "2024-10-12T00:53:42.047904Z",
     "shell.execute_reply": "2024-10-12T00:53:42.046710Z"
    },
    "papermill": {
     "duration": 0.03401,
     "end_time": "2024-10-12T00:53:42.050281",
     "exception": false,
     "start_time": "2024-10-12T00:53:42.016271",
     "status": "completed"
    },
    "tags": []
   },
   "outputs": [
    {
     "data": {
      "text/plain": [
       "loan_status\n",
       "0    0.857618\n",
       "1    0.142382\n",
       "Name: proportion, dtype: float64"
      ]
     },
     "execution_count": 5,
     "metadata": {},
     "output_type": "execute_result"
    }
   ],
   "source": [
    "df_train['loan_status'].value_counts(normalize=True)\n"
   ]
  },
  {
   "cell_type": "code",
   "execution_count": 6,
   "id": "7eadb5a9",
   "metadata": {
    "execution": {
     "iopub.execute_input": "2024-10-12T00:53:42.066344Z",
     "iopub.status.busy": "2024-10-12T00:53:42.065476Z",
     "iopub.status.idle": "2024-10-12T00:53:42.086706Z",
     "shell.execute_reply": "2024-10-12T00:53:42.085571Z"
    },
    "papermill": {
     "duration": 0.0317,
     "end_time": "2024-10-12T00:53:42.089174",
     "exception": false,
     "start_time": "2024-10-12T00:53:42.057474",
     "status": "completed"
    },
    "tags": []
   },
   "outputs": [
    {
     "data": {
      "text/html": [
       "<div>\n",
       "<style scoped>\n",
       "    .dataframe tbody tr th:only-of-type {\n",
       "        vertical-align: middle;\n",
       "    }\n",
       "\n",
       "    .dataframe tbody tr th {\n",
       "        vertical-align: top;\n",
       "    }\n",
       "\n",
       "    .dataframe thead th {\n",
       "        text-align: right;\n",
       "    }\n",
       "</style>\n",
       "<table border=\"1\" class=\"dataframe\">\n",
       "  <thead>\n",
       "    <tr style=\"text-align: right;\">\n",
       "      <th></th>\n",
       "      <th>id</th>\n",
       "      <th>person_age</th>\n",
       "      <th>person_income</th>\n",
       "      <th>person_home_ownership</th>\n",
       "      <th>person_emp_length</th>\n",
       "      <th>loan_intent</th>\n",
       "      <th>loan_grade</th>\n",
       "      <th>loan_amnt</th>\n",
       "      <th>loan_int_rate</th>\n",
       "      <th>loan_percent_income</th>\n",
       "      <th>cb_person_default_on_file</th>\n",
       "      <th>cb_person_cred_hist_length</th>\n",
       "      <th>loan_status</th>\n",
       "    </tr>\n",
       "  </thead>\n",
       "  <tbody>\n",
       "    <tr>\n",
       "      <th>0</th>\n",
       "      <td>0</td>\n",
       "      <td>37</td>\n",
       "      <td>35000</td>\n",
       "      <td>RENT</td>\n",
       "      <td>0.0</td>\n",
       "      <td>EDUCATION</td>\n",
       "      <td>B</td>\n",
       "      <td>6000</td>\n",
       "      <td>11.49</td>\n",
       "      <td>0.17</td>\n",
       "      <td>N</td>\n",
       "      <td>14</td>\n",
       "      <td>0</td>\n",
       "    </tr>\n",
       "    <tr>\n",
       "      <th>1</th>\n",
       "      <td>1</td>\n",
       "      <td>22</td>\n",
       "      <td>56000</td>\n",
       "      <td>OWN</td>\n",
       "      <td>6.0</td>\n",
       "      <td>MEDICAL</td>\n",
       "      <td>C</td>\n",
       "      <td>4000</td>\n",
       "      <td>13.35</td>\n",
       "      <td>0.07</td>\n",
       "      <td>N</td>\n",
       "      <td>2</td>\n",
       "      <td>0</td>\n",
       "    </tr>\n",
       "    <tr>\n",
       "      <th>2</th>\n",
       "      <td>2</td>\n",
       "      <td>29</td>\n",
       "      <td>28800</td>\n",
       "      <td>OWN</td>\n",
       "      <td>8.0</td>\n",
       "      <td>PERSONAL</td>\n",
       "      <td>A</td>\n",
       "      <td>6000</td>\n",
       "      <td>8.90</td>\n",
       "      <td>0.21</td>\n",
       "      <td>N</td>\n",
       "      <td>10</td>\n",
       "      <td>0</td>\n",
       "    </tr>\n",
       "    <tr>\n",
       "      <th>3</th>\n",
       "      <td>3</td>\n",
       "      <td>30</td>\n",
       "      <td>70000</td>\n",
       "      <td>RENT</td>\n",
       "      <td>14.0</td>\n",
       "      <td>VENTURE</td>\n",
       "      <td>B</td>\n",
       "      <td>12000</td>\n",
       "      <td>11.11</td>\n",
       "      <td>0.17</td>\n",
       "      <td>N</td>\n",
       "      <td>5</td>\n",
       "      <td>0</td>\n",
       "    </tr>\n",
       "    <tr>\n",
       "      <th>4</th>\n",
       "      <td>4</td>\n",
       "      <td>22</td>\n",
       "      <td>60000</td>\n",
       "      <td>RENT</td>\n",
       "      <td>2.0</td>\n",
       "      <td>MEDICAL</td>\n",
       "      <td>A</td>\n",
       "      <td>6000</td>\n",
       "      <td>6.92</td>\n",
       "      <td>0.10</td>\n",
       "      <td>N</td>\n",
       "      <td>3</td>\n",
       "      <td>0</td>\n",
       "    </tr>\n",
       "  </tbody>\n",
       "</table>\n",
       "</div>"
      ],
      "text/plain": [
       "   id  person_age  person_income person_home_ownership  person_emp_length  \\\n",
       "0   0          37          35000                  RENT                0.0   \n",
       "1   1          22          56000                   OWN                6.0   \n",
       "2   2          29          28800                   OWN                8.0   \n",
       "3   3          30          70000                  RENT               14.0   \n",
       "4   4          22          60000                  RENT                2.0   \n",
       "\n",
       "  loan_intent loan_grade  loan_amnt  loan_int_rate  loan_percent_income  \\\n",
       "0   EDUCATION          B       6000          11.49                 0.17   \n",
       "1     MEDICAL          C       4000          13.35                 0.07   \n",
       "2    PERSONAL          A       6000           8.90                 0.21   \n",
       "3     VENTURE          B      12000          11.11                 0.17   \n",
       "4     MEDICAL          A       6000           6.92                 0.10   \n",
       "\n",
       "  cb_person_default_on_file  cb_person_cred_hist_length  loan_status  \n",
       "0                         N                          14            0  \n",
       "1                         N                           2            0  \n",
       "2                         N                          10            0  \n",
       "3                         N                           5            0  \n",
       "4                         N                           3            0  "
      ]
     },
     "execution_count": 6,
     "metadata": {},
     "output_type": "execute_result"
    }
   ],
   "source": [
    "df_train.head()"
   ]
  },
  {
   "cell_type": "code",
   "execution_count": 7,
   "id": "f37d9ad7",
   "metadata": {
    "execution": {
     "iopub.execute_input": "2024-10-12T00:53:42.105367Z",
     "iopub.status.busy": "2024-10-12T00:53:42.104923Z",
     "iopub.status.idle": "2024-10-12T00:53:42.118736Z",
     "shell.execute_reply": "2024-10-12T00:53:42.117682Z"
    },
    "papermill": {
     "duration": 0.024509,
     "end_time": "2024-10-12T00:53:42.121063",
     "exception": false,
     "start_time": "2024-10-12T00:53:42.096554",
     "status": "completed"
    },
    "tags": []
   },
   "outputs": [],
   "source": [
    "X_train = df_train.drop(\"loan_status\", axis = 1)\n",
    "y_train = df_train[\"loan_status\"]"
   ]
  },
  {
   "cell_type": "markdown",
   "id": "e1ddcca0",
   "metadata": {
    "papermill": {
     "duration": 0.006603,
     "end_time": "2024-10-12T00:53:42.134710",
     "exception": false,
     "start_time": "2024-10-12T00:53:42.128107",
     "status": "completed"
    },
    "tags": []
   },
   "source": [
    "# Define and Train the ANN Model"
   ]
  },
  {
   "cell_type": "code",
   "execution_count": 8,
   "id": "1f50154e",
   "metadata": {
    "execution": {
     "iopub.execute_input": "2024-10-12T00:53:42.150412Z",
     "iopub.status.busy": "2024-10-12T00:53:42.149994Z",
     "iopub.status.idle": "2024-10-12T00:53:42.163074Z",
     "shell.execute_reply": "2024-10-12T00:53:42.161909Z"
    },
    "papermill": {
     "duration": 0.023754,
     "end_time": "2024-10-12T00:53:42.165454",
     "exception": false,
     "start_time": "2024-10-12T00:53:42.141700",
     "status": "completed"
    },
    "tags": []
   },
   "outputs": [],
   "source": [
    "full_data = pd.concat([X_train, df_test], axis=0)"
   ]
  },
  {
   "cell_type": "markdown",
   "id": "a2845d28",
   "metadata": {
    "papermill": {
     "duration": 0.006785,
     "end_time": "2024-10-12T00:53:42.179688",
     "exception": false,
     "start_time": "2024-10-12T00:53:42.172903",
     "status": "completed"
    },
    "tags": []
   },
   "source": [
    "# Preprocessing "
   ]
  },
  {
   "cell_type": "markdown",
   "id": "54f4d0d9",
   "metadata": {
    "papermill": {
     "duration": 0.00675,
     "end_time": "2024-10-12T00:53:42.193417",
     "exception": false,
     "start_time": "2024-10-12T00:53:42.186667",
     "status": "completed"
    },
    "tags": []
   },
   "source": [
    "## Categorical Columns Encoding"
   ]
  },
  {
   "cell_type": "code",
   "execution_count": 9,
   "id": "04d3f887",
   "metadata": {
    "execution": {
     "iopub.execute_input": "2024-10-12T00:53:42.209295Z",
     "iopub.status.busy": "2024-10-12T00:53:42.208873Z",
     "iopub.status.idle": "2024-10-12T00:53:42.298115Z",
     "shell.execute_reply": "2024-10-12T00:53:42.297001Z"
    },
    "papermill": {
     "duration": 0.100328,
     "end_time": "2024-10-12T00:53:42.300892",
     "exception": false,
     "start_time": "2024-10-12T00:53:42.200564",
     "status": "completed"
    },
    "tags": []
   },
   "outputs": [],
   "source": [
    "le = LabelEncoder()\n",
    "categorical_cols = ['person_home_ownership', 'loan_intent', 'loan_grade', 'cb_person_default_on_file']\n",
    "for col in categorical_cols:\n",
    "    full_data[col] = le.fit_transform(full_data[col])\n"
   ]
  },
  {
   "cell_type": "markdown",
   "id": "26a9f9dd",
   "metadata": {
    "papermill": {
     "duration": 0.006885,
     "end_time": "2024-10-12T00:53:42.314893",
     "exception": false,
     "start_time": "2024-10-12T00:53:42.308008",
     "status": "completed"
    },
    "tags": []
   },
   "source": [
    "## Scaling Numerical Features(Standardizing)"
   ]
  },
  {
   "cell_type": "code",
   "execution_count": 10,
   "id": "b9c19343",
   "metadata": {
    "execution": {
     "iopub.execute_input": "2024-10-12T00:53:42.331322Z",
     "iopub.status.busy": "2024-10-12T00:53:42.330908Z",
     "iopub.status.idle": "2024-10-12T00:53:42.365321Z",
     "shell.execute_reply": "2024-10-12T00:53:42.364063Z"
    },
    "papermill": {
     "duration": 0.04581,
     "end_time": "2024-10-12T00:53:42.367932",
     "exception": false,
     "start_time": "2024-10-12T00:53:42.322122",
     "status": "completed"
    },
    "tags": []
   },
   "outputs": [],
   "source": [
    "scaler = StandardScaler()\n",
    "numerical_cols = ['person_age', 'person_income', 'person_emp_length', 'loan_amnt', \n",
    "                  'loan_int_rate', 'loan_percent_income', 'cb_person_cred_hist_length']\n",
    "\n",
    "full_data[numerical_cols] = scaler.fit_transform(full_data[numerical_cols])"
   ]
  },
  {
   "cell_type": "code",
   "execution_count": 11,
   "id": "c64df95f",
   "metadata": {
    "execution": {
     "iopub.execute_input": "2024-10-12T00:53:42.383548Z",
     "iopub.status.busy": "2024-10-12T00:53:42.383139Z",
     "iopub.status.idle": "2024-10-12T00:53:42.402725Z",
     "shell.execute_reply": "2024-10-12T00:53:42.401666Z"
    },
    "papermill": {
     "duration": 0.030263,
     "end_time": "2024-10-12T00:53:42.405196",
     "exception": false,
     "start_time": "2024-10-12T00:53:42.374933",
     "status": "completed"
    },
    "tags": []
   },
   "outputs": [
    {
     "data": {
      "text/html": [
       "<div>\n",
       "<style scoped>\n",
       "    .dataframe tbody tr th:only-of-type {\n",
       "        vertical-align: middle;\n",
       "    }\n",
       "\n",
       "    .dataframe tbody tr th {\n",
       "        vertical-align: top;\n",
       "    }\n",
       "\n",
       "    .dataframe thead th {\n",
       "        text-align: right;\n",
       "    }\n",
       "</style>\n",
       "<table border=\"1\" class=\"dataframe\">\n",
       "  <thead>\n",
       "    <tr style=\"text-align: right;\">\n",
       "      <th></th>\n",
       "      <th>id</th>\n",
       "      <th>person_age</th>\n",
       "      <th>person_income</th>\n",
       "      <th>person_home_ownership</th>\n",
       "      <th>person_emp_length</th>\n",
       "      <th>loan_intent</th>\n",
       "      <th>loan_grade</th>\n",
       "      <th>loan_amnt</th>\n",
       "      <th>loan_int_rate</th>\n",
       "      <th>loan_percent_income</th>\n",
       "      <th>cb_person_default_on_file</th>\n",
       "      <th>cb_person_cred_hist_length</th>\n",
       "    </tr>\n",
       "  </thead>\n",
       "  <tbody>\n",
       "    <tr>\n",
       "      <th>0</th>\n",
       "      <td>0</td>\n",
       "      <td>1.565193</td>\n",
       "      <td>-0.765720</td>\n",
       "      <td>3</td>\n",
       "      <td>-1.196762</td>\n",
       "      <td>1</td>\n",
       "      <td>1</td>\n",
       "      <td>-0.580223</td>\n",
       "      <td>0.270326</td>\n",
       "      <td>0.115943</td>\n",
       "      <td>0</td>\n",
       "      <td>2.021446</td>\n",
       "    </tr>\n",
       "    <tr>\n",
       "      <th>1</th>\n",
       "      <td>1</td>\n",
       "      <td>-0.921142</td>\n",
       "      <td>-0.212223</td>\n",
       "      <td>2</td>\n",
       "      <td>0.332504</td>\n",
       "      <td>3</td>\n",
       "      <td>2</td>\n",
       "      <td>-0.939369</td>\n",
       "      <td>0.884412</td>\n",
       "      <td>-0.974955</td>\n",
       "      <td>0</td>\n",
       "      <td>-0.944151</td>\n",
       "    </tr>\n",
       "    <tr>\n",
       "      <th>2</th>\n",
       "      <td>2</td>\n",
       "      <td>0.239148</td>\n",
       "      <td>-0.929133</td>\n",
       "      <td>2</td>\n",
       "      <td>0.842260</td>\n",
       "      <td>4</td>\n",
       "      <td>0</td>\n",
       "      <td>-0.580223</td>\n",
       "      <td>-0.584771</td>\n",
       "      <td>0.552301</td>\n",
       "      <td>0</td>\n",
       "      <td>1.032913</td>\n",
       "    </tr>\n",
       "    <tr>\n",
       "      <th>3</th>\n",
       "      <td>3</td>\n",
       "      <td>0.404903</td>\n",
       "      <td>0.156774</td>\n",
       "      <td>3</td>\n",
       "      <td>2.371526</td>\n",
       "      <td>5</td>\n",
       "      <td>1</td>\n",
       "      <td>0.497217</td>\n",
       "      <td>0.144868</td>\n",
       "      <td>0.115943</td>\n",
       "      <td>0</td>\n",
       "      <td>-0.202752</td>\n",
       "    </tr>\n",
       "    <tr>\n",
       "      <th>4</th>\n",
       "      <td>4</td>\n",
       "      <td>-0.921142</td>\n",
       "      <td>-0.106796</td>\n",
       "      <td>3</td>\n",
       "      <td>-0.687007</td>\n",
       "      <td>3</td>\n",
       "      <td>0</td>\n",
       "      <td>-0.580223</td>\n",
       "      <td>-1.238475</td>\n",
       "      <td>-0.647686</td>\n",
       "      <td>0</td>\n",
       "      <td>-0.697018</td>\n",
       "    </tr>\n",
       "    <tr>\n",
       "      <th>...</th>\n",
       "      <td>...</td>\n",
       "      <td>...</td>\n",
       "      <td>...</td>\n",
       "      <td>...</td>\n",
       "      <td>...</td>\n",
       "      <td>...</td>\n",
       "      <td>...</td>\n",
       "      <td>...</td>\n",
       "      <td>...</td>\n",
       "      <td>...</td>\n",
       "      <td>...</td>\n",
       "      <td>...</td>\n",
       "    </tr>\n",
       "    <tr>\n",
       "      <th>39093</th>\n",
       "      <td>97738</td>\n",
       "      <td>-0.921142</td>\n",
       "      <td>-0.865877</td>\n",
       "      <td>0</td>\n",
       "      <td>-0.687007</td>\n",
       "      <td>0</td>\n",
       "      <td>1</td>\n",
       "      <td>-1.118943</td>\n",
       "      <td>-0.099446</td>\n",
       "      <td>-0.647686</td>\n",
       "      <td>0</td>\n",
       "      <td>-0.449885</td>\n",
       "    </tr>\n",
       "    <tr>\n",
       "      <th>39094</th>\n",
       "      <td>97739</td>\n",
       "      <td>-0.921142</td>\n",
       "      <td>-0.423079</td>\n",
       "      <td>0</td>\n",
       "      <td>0.332504</td>\n",
       "      <td>1</td>\n",
       "      <td>0</td>\n",
       "      <td>-0.400650</td>\n",
       "      <td>-1.532312</td>\n",
       "      <td>-0.102237</td>\n",
       "      <td>0</td>\n",
       "      <td>-0.697018</td>\n",
       "    </tr>\n",
       "    <tr>\n",
       "      <th>39095</th>\n",
       "      <td>97740</td>\n",
       "      <td>3.885772</td>\n",
       "      <td>-0.106796</td>\n",
       "      <td>0</td>\n",
       "      <td>-1.196762</td>\n",
       "      <td>4</td>\n",
       "      <td>0</td>\n",
       "      <td>1.035937</td>\n",
       "      <td>-1.043685</td>\n",
       "      <td>0.988660</td>\n",
       "      <td>0</td>\n",
       "      <td>4.739910</td>\n",
       "    </tr>\n",
       "    <tr>\n",
       "      <th>39096</th>\n",
       "      <td>97741</td>\n",
       "      <td>-0.921142</td>\n",
       "      <td>-0.739363</td>\n",
       "      <td>0</td>\n",
       "      <td>-0.177251</td>\n",
       "      <td>4</td>\n",
       "      <td>3</td>\n",
       "      <td>0.856363</td>\n",
       "      <td>1.633860</td>\n",
       "      <td>2.515917</td>\n",
       "      <td>1</td>\n",
       "      <td>-0.449885</td>\n",
       "    </tr>\n",
       "    <tr>\n",
       "      <th>39097</th>\n",
       "      <td>97742</td>\n",
       "      <td>0.570659</td>\n",
       "      <td>-0.502150</td>\n",
       "      <td>3</td>\n",
       "      <td>0.332504</td>\n",
       "      <td>0</td>\n",
       "      <td>1</td>\n",
       "      <td>1.835038</td>\n",
       "      <td>-0.251316</td>\n",
       "      <td>3.061366</td>\n",
       "      <td>0</td>\n",
       "      <td>0.785780</td>\n",
       "    </tr>\n",
       "  </tbody>\n",
       "</table>\n",
       "<p>97743 rows × 12 columns</p>\n",
       "</div>"
      ],
      "text/plain": [
       "          id  person_age  person_income  person_home_ownership  \\\n",
       "0          0    1.565193      -0.765720                      3   \n",
       "1          1   -0.921142      -0.212223                      2   \n",
       "2          2    0.239148      -0.929133                      2   \n",
       "3          3    0.404903       0.156774                      3   \n",
       "4          4   -0.921142      -0.106796                      3   \n",
       "...      ...         ...            ...                    ...   \n",
       "39093  97738   -0.921142      -0.865877                      0   \n",
       "39094  97739   -0.921142      -0.423079                      0   \n",
       "39095  97740    3.885772      -0.106796                      0   \n",
       "39096  97741   -0.921142      -0.739363                      0   \n",
       "39097  97742    0.570659      -0.502150                      3   \n",
       "\n",
       "       person_emp_length  loan_intent  loan_grade  loan_amnt  loan_int_rate  \\\n",
       "0              -1.196762            1           1  -0.580223       0.270326   \n",
       "1               0.332504            3           2  -0.939369       0.884412   \n",
       "2               0.842260            4           0  -0.580223      -0.584771   \n",
       "3               2.371526            5           1   0.497217       0.144868   \n",
       "4              -0.687007            3           0  -0.580223      -1.238475   \n",
       "...                  ...          ...         ...        ...            ...   \n",
       "39093          -0.687007            0           1  -1.118943      -0.099446   \n",
       "39094           0.332504            1           0  -0.400650      -1.532312   \n",
       "39095          -1.196762            4           0   1.035937      -1.043685   \n",
       "39096          -0.177251            4           3   0.856363       1.633860   \n",
       "39097           0.332504            0           1   1.835038      -0.251316   \n",
       "\n",
       "       loan_percent_income  cb_person_default_on_file  \\\n",
       "0                 0.115943                          0   \n",
       "1                -0.974955                          0   \n",
       "2                 0.552301                          0   \n",
       "3                 0.115943                          0   \n",
       "4                -0.647686                          0   \n",
       "...                    ...                        ...   \n",
       "39093            -0.647686                          0   \n",
       "39094            -0.102237                          0   \n",
       "39095             0.988660                          0   \n",
       "39096             2.515917                          1   \n",
       "39097             3.061366                          0   \n",
       "\n",
       "       cb_person_cred_hist_length  \n",
       "0                        2.021446  \n",
       "1                       -0.944151  \n",
       "2                        1.032913  \n",
       "3                       -0.202752  \n",
       "4                       -0.697018  \n",
       "...                           ...  \n",
       "39093                   -0.449885  \n",
       "39094                   -0.697018  \n",
       "39095                    4.739910  \n",
       "39096                   -0.449885  \n",
       "39097                    0.785780  \n",
       "\n",
       "[97743 rows x 12 columns]"
      ]
     },
     "execution_count": 11,
     "metadata": {},
     "output_type": "execute_result"
    }
   ],
   "source": [
    "full_data"
   ]
  },
  {
   "cell_type": "code",
   "execution_count": 12,
   "id": "2593d68f",
   "metadata": {
    "execution": {
     "iopub.execute_input": "2024-10-12T00:53:42.422643Z",
     "iopub.status.busy": "2024-10-12T00:53:42.421472Z",
     "iopub.status.idle": "2024-10-12T00:53:42.428354Z",
     "shell.execute_reply": "2024-10-12T00:53:42.427281Z"
    },
    "papermill": {
     "duration": 0.017832,
     "end_time": "2024-10-12T00:53:42.430645",
     "exception": false,
     "start_time": "2024-10-12T00:53:42.412813",
     "status": "completed"
    },
    "tags": []
   },
   "outputs": [
    {
     "data": {
      "text/plain": [
       "(97743, 12)"
      ]
     },
     "execution_count": 12,
     "metadata": {},
     "output_type": "execute_result"
    }
   ],
   "source": [
    "full_data.shape"
   ]
  },
  {
   "cell_type": "markdown",
   "id": "7a21a140",
   "metadata": {
    "papermill": {
     "duration": 0.007429,
     "end_time": "2024-10-12T00:53:42.445996",
     "exception": false,
     "start_time": "2024-10-12T00:53:42.438567",
     "status": "completed"
    },
    "tags": []
   },
   "source": [
    "# Train and Test Data"
   ]
  },
  {
   "cell_type": "code",
   "execution_count": 13,
   "id": "b439cb45",
   "metadata": {
    "execution": {
     "iopub.execute_input": "2024-10-12T00:53:42.462949Z",
     "iopub.status.busy": "2024-10-12T00:53:42.462003Z",
     "iopub.status.idle": "2024-10-12T00:53:42.483077Z",
     "shell.execute_reply": "2024-10-12T00:53:42.481974Z"
    },
    "papermill": {
     "duration": 0.032346,
     "end_time": "2024-10-12T00:53:42.485756",
     "exception": false,
     "start_time": "2024-10-12T00:53:42.453410",
     "status": "completed"
    },
    "tags": []
   },
   "outputs": [],
   "source": [
    "X_train = full_data.iloc[:len(df_train), :]\n",
    "X_test = full_data.iloc[len(df_train):, :]\n",
    "X_train_split, X_val, y_train_split, y_val = train_test_split(X_train, y_train, test_size=0.2, random_state=42)\n"
   ]
  },
  {
   "cell_type": "code",
   "execution_count": null,
   "id": "515dbd7d",
   "metadata": {
    "papermill": {
     "duration": 0.007564,
     "end_time": "2024-10-12T00:53:42.501034",
     "exception": false,
     "start_time": "2024-10-12T00:53:42.493470",
     "status": "completed"
    },
    "tags": []
   },
   "outputs": [],
   "source": []
  },
  {
   "cell_type": "markdown",
   "id": "1188aaec",
   "metadata": {
    "papermill": {
     "duration": 0.007283,
     "end_time": "2024-10-12T00:53:42.515883",
     "exception": false,
     "start_time": "2024-10-12T00:53:42.508600",
     "status": "completed"
    },
    "tags": []
   },
   "source": [
    "# ANN Model"
   ]
  },
  {
   "cell_type": "code",
   "execution_count": 14,
   "id": "1b5d2439",
   "metadata": {
    "execution": {
     "iopub.execute_input": "2024-10-12T00:53:42.532759Z",
     "iopub.status.busy": "2024-10-12T00:53:42.532309Z",
     "iopub.status.idle": "2024-10-12T00:53:42.677225Z",
     "shell.execute_reply": "2024-10-12T00:53:42.676100Z"
    },
    "papermill": {
     "duration": 0.156561,
     "end_time": "2024-10-12T00:53:42.679866",
     "exception": false,
     "start_time": "2024-10-12T00:53:42.523305",
     "status": "completed"
    },
    "tags": []
   },
   "outputs": [],
   "source": [
    "model = Sequential()\n",
    "\n",
    "#input layer\n",
    "model.add(Dense(units=128, activation=\"relu\", input_dim=X_train_split.shape[1]))\n",
    "model.add(Dropout(0.3))\n",
    "\n",
    "#hidden layers\n",
    "model.add(Dense(units=64, activation=\"relu\"))\n",
    "model.add(Dropout(0.3))\n",
    "model.add(Dense(units=32, activation=\"relu\"))\n",
    "model.add(Dropout(0.3))\n",
    "\n",
    "#output layer\n",
    "model.add(Dense(units=1, activation=\"sigmoid\"))\n",
    "\n",
    "#compiling\n",
    "optimizer = Adam(learning_rate=0.001)\n",
    "model.compile(optimizer = optimizer, loss = \"binary_crossentropy\", metrics=[\"accuracy\"])\n",
    "early_stopping = EarlyStopping(monitor='val_loss', patience=5, restore_best_weights=True)\n"
   ]
  },
  {
   "cell_type": "code",
   "execution_count": 15,
   "id": "870874f8",
   "metadata": {
    "execution": {
     "iopub.execute_input": "2024-10-12T00:53:42.696852Z",
     "iopub.status.busy": "2024-10-12T00:53:42.696447Z",
     "iopub.status.idle": "2024-10-12T00:53:42.720543Z",
     "shell.execute_reply": "2024-10-12T00:53:42.719459Z"
    },
    "papermill": {
     "duration": 0.034968,
     "end_time": "2024-10-12T00:53:42.722749",
     "exception": false,
     "start_time": "2024-10-12T00:53:42.687781",
     "status": "completed"
    },
    "tags": []
   },
   "outputs": [
    {
     "data": {
      "text/html": [
       "<pre style=\"white-space:pre;overflow-x:auto;line-height:normal;font-family:Menlo,'DejaVu Sans Mono',consolas,'Courier New',monospace\"><span style=\"font-weight: bold\">Model: \"sequential\"</span>\n",
       "</pre>\n"
      ],
      "text/plain": [
       "\u001b[1mModel: \"sequential\"\u001b[0m\n"
      ]
     },
     "metadata": {},
     "output_type": "display_data"
    },
    {
     "data": {
      "text/html": [
       "<pre style=\"white-space:pre;overflow-x:auto;line-height:normal;font-family:Menlo,'DejaVu Sans Mono',consolas,'Courier New',monospace\">┏━━━━━━━━━━━━━━━━━━━━━━━━━━━━━━━━━┳━━━━━━━━━━━━━━━━━━━━━━━━┳━━━━━━━━━━━━━━━┓\n",
       "┃<span style=\"font-weight: bold\"> Layer (type)                    </span>┃<span style=\"font-weight: bold\"> Output Shape           </span>┃<span style=\"font-weight: bold\">       Param # </span>┃\n",
       "┡━━━━━━━━━━━━━━━━━━━━━━━━━━━━━━━━━╇━━━━━━━━━━━━━━━━━━━━━━━━╇━━━━━━━━━━━━━━━┩\n",
       "│ dense (<span style=\"color: #0087ff; text-decoration-color: #0087ff\">Dense</span>)                   │ (<span style=\"color: #00d7ff; text-decoration-color: #00d7ff\">None</span>, <span style=\"color: #00af00; text-decoration-color: #00af00\">128</span>)            │         <span style=\"color: #00af00; text-decoration-color: #00af00\">1,664</span> │\n",
       "├─────────────────────────────────┼────────────────────────┼───────────────┤\n",
       "│ dropout (<span style=\"color: #0087ff; text-decoration-color: #0087ff\">Dropout</span>)               │ (<span style=\"color: #00d7ff; text-decoration-color: #00d7ff\">None</span>, <span style=\"color: #00af00; text-decoration-color: #00af00\">128</span>)            │             <span style=\"color: #00af00; text-decoration-color: #00af00\">0</span> │\n",
       "├─────────────────────────────────┼────────────────────────┼───────────────┤\n",
       "│ dense_1 (<span style=\"color: #0087ff; text-decoration-color: #0087ff\">Dense</span>)                 │ (<span style=\"color: #00d7ff; text-decoration-color: #00d7ff\">None</span>, <span style=\"color: #00af00; text-decoration-color: #00af00\">64</span>)             │         <span style=\"color: #00af00; text-decoration-color: #00af00\">8,256</span> │\n",
       "├─────────────────────────────────┼────────────────────────┼───────────────┤\n",
       "│ dropout_1 (<span style=\"color: #0087ff; text-decoration-color: #0087ff\">Dropout</span>)             │ (<span style=\"color: #00d7ff; text-decoration-color: #00d7ff\">None</span>, <span style=\"color: #00af00; text-decoration-color: #00af00\">64</span>)             │             <span style=\"color: #00af00; text-decoration-color: #00af00\">0</span> │\n",
       "├─────────────────────────────────┼────────────────────────┼───────────────┤\n",
       "│ dense_2 (<span style=\"color: #0087ff; text-decoration-color: #0087ff\">Dense</span>)                 │ (<span style=\"color: #00d7ff; text-decoration-color: #00d7ff\">None</span>, <span style=\"color: #00af00; text-decoration-color: #00af00\">32</span>)             │         <span style=\"color: #00af00; text-decoration-color: #00af00\">2,080</span> │\n",
       "├─────────────────────────────────┼────────────────────────┼───────────────┤\n",
       "│ dropout_2 (<span style=\"color: #0087ff; text-decoration-color: #0087ff\">Dropout</span>)             │ (<span style=\"color: #00d7ff; text-decoration-color: #00d7ff\">None</span>, <span style=\"color: #00af00; text-decoration-color: #00af00\">32</span>)             │             <span style=\"color: #00af00; text-decoration-color: #00af00\">0</span> │\n",
       "├─────────────────────────────────┼────────────────────────┼───────────────┤\n",
       "│ dense_3 (<span style=\"color: #0087ff; text-decoration-color: #0087ff\">Dense</span>)                 │ (<span style=\"color: #00d7ff; text-decoration-color: #00d7ff\">None</span>, <span style=\"color: #00af00; text-decoration-color: #00af00\">1</span>)              │            <span style=\"color: #00af00; text-decoration-color: #00af00\">33</span> │\n",
       "└─────────────────────────────────┴────────────────────────┴───────────────┘\n",
       "</pre>\n"
      ],
      "text/plain": [
       "┏━━━━━━━━━━━━━━━━━━━━━━━━━━━━━━━━━┳━━━━━━━━━━━━━━━━━━━━━━━━┳━━━━━━━━━━━━━━━┓\n",
       "┃\u001b[1m \u001b[0m\u001b[1mLayer (type)                   \u001b[0m\u001b[1m \u001b[0m┃\u001b[1m \u001b[0m\u001b[1mOutput Shape          \u001b[0m\u001b[1m \u001b[0m┃\u001b[1m \u001b[0m\u001b[1m      Param #\u001b[0m\u001b[1m \u001b[0m┃\n",
       "┡━━━━━━━━━━━━━━━━━━━━━━━━━━━━━━━━━╇━━━━━━━━━━━━━━━━━━━━━━━━╇━━━━━━━━━━━━━━━┩\n",
       "│ dense (\u001b[38;5;33mDense\u001b[0m)                   │ (\u001b[38;5;45mNone\u001b[0m, \u001b[38;5;34m128\u001b[0m)            │         \u001b[38;5;34m1,664\u001b[0m │\n",
       "├─────────────────────────────────┼────────────────────────┼───────────────┤\n",
       "│ dropout (\u001b[38;5;33mDropout\u001b[0m)               │ (\u001b[38;5;45mNone\u001b[0m, \u001b[38;5;34m128\u001b[0m)            │             \u001b[38;5;34m0\u001b[0m │\n",
       "├─────────────────────────────────┼────────────────────────┼───────────────┤\n",
       "│ dense_1 (\u001b[38;5;33mDense\u001b[0m)                 │ (\u001b[38;5;45mNone\u001b[0m, \u001b[38;5;34m64\u001b[0m)             │         \u001b[38;5;34m8,256\u001b[0m │\n",
       "├─────────────────────────────────┼────────────────────────┼───────────────┤\n",
       "│ dropout_1 (\u001b[38;5;33mDropout\u001b[0m)             │ (\u001b[38;5;45mNone\u001b[0m, \u001b[38;5;34m64\u001b[0m)             │             \u001b[38;5;34m0\u001b[0m │\n",
       "├─────────────────────────────────┼────────────────────────┼───────────────┤\n",
       "│ dense_2 (\u001b[38;5;33mDense\u001b[0m)                 │ (\u001b[38;5;45mNone\u001b[0m, \u001b[38;5;34m32\u001b[0m)             │         \u001b[38;5;34m2,080\u001b[0m │\n",
       "├─────────────────────────────────┼────────────────────────┼───────────────┤\n",
       "│ dropout_2 (\u001b[38;5;33mDropout\u001b[0m)             │ (\u001b[38;5;45mNone\u001b[0m, \u001b[38;5;34m32\u001b[0m)             │             \u001b[38;5;34m0\u001b[0m │\n",
       "├─────────────────────────────────┼────────────────────────┼───────────────┤\n",
       "│ dense_3 (\u001b[38;5;33mDense\u001b[0m)                 │ (\u001b[38;5;45mNone\u001b[0m, \u001b[38;5;34m1\u001b[0m)              │            \u001b[38;5;34m33\u001b[0m │\n",
       "└─────────────────────────────────┴────────────────────────┴───────────────┘\n"
      ]
     },
     "metadata": {},
     "output_type": "display_data"
    },
    {
     "data": {
      "text/html": [
       "<pre style=\"white-space:pre;overflow-x:auto;line-height:normal;font-family:Menlo,'DejaVu Sans Mono',consolas,'Courier New',monospace\"><span style=\"font-weight: bold\"> Total params: </span><span style=\"color: #00af00; text-decoration-color: #00af00\">12,033</span> (47.00 KB)\n",
       "</pre>\n"
      ],
      "text/plain": [
       "\u001b[1m Total params: \u001b[0m\u001b[38;5;34m12,033\u001b[0m (47.00 KB)\n"
      ]
     },
     "metadata": {},
     "output_type": "display_data"
    },
    {
     "data": {
      "text/html": [
       "<pre style=\"white-space:pre;overflow-x:auto;line-height:normal;font-family:Menlo,'DejaVu Sans Mono',consolas,'Courier New',monospace\"><span style=\"font-weight: bold\"> Trainable params: </span><span style=\"color: #00af00; text-decoration-color: #00af00\">12,033</span> (47.00 KB)\n",
       "</pre>\n"
      ],
      "text/plain": [
       "\u001b[1m Trainable params: \u001b[0m\u001b[38;5;34m12,033\u001b[0m (47.00 KB)\n"
      ]
     },
     "metadata": {},
     "output_type": "display_data"
    },
    {
     "data": {
      "text/html": [
       "<pre style=\"white-space:pre;overflow-x:auto;line-height:normal;font-family:Menlo,'DejaVu Sans Mono',consolas,'Courier New',monospace\"><span style=\"font-weight: bold\"> Non-trainable params: </span><span style=\"color: #00af00; text-decoration-color: #00af00\">0</span> (0.00 B)\n",
       "</pre>\n"
      ],
      "text/plain": [
       "\u001b[1m Non-trainable params: \u001b[0m\u001b[38;5;34m0\u001b[0m (0.00 B)\n"
      ]
     },
     "metadata": {},
     "output_type": "display_data"
    }
   ],
   "source": [
    "model.summary()"
   ]
  },
  {
   "cell_type": "markdown",
   "id": "b3f2d268",
   "metadata": {
    "papermill": {
     "duration": 0.00805,
     "end_time": "2024-10-12T00:53:42.739190",
     "exception": false,
     "start_time": "2024-10-12T00:53:42.731140",
     "status": "completed"
    },
    "tags": []
   },
   "source": [
    "# Train Model"
   ]
  },
  {
   "cell_type": "code",
   "execution_count": 16,
   "id": "57829461",
   "metadata": {
    "execution": {
     "iopub.execute_input": "2024-10-12T00:53:42.757297Z",
     "iopub.status.busy": "2024-10-12T00:53:42.756875Z",
     "iopub.status.idle": "2024-10-12T00:54:36.156155Z",
     "shell.execute_reply": "2024-10-12T00:54:36.155011Z"
    },
    "papermill": {
     "duration": 53.411254,
     "end_time": "2024-10-12T00:54:36.158642",
     "exception": false,
     "start_time": "2024-10-12T00:53:42.747388",
     "status": "completed"
    },
    "tags": []
   },
   "outputs": [
    {
     "name": "stdout",
     "output_type": "stream",
     "text": [
      "Epoch 1/20\n",
      "\u001b[1m1173/1173\u001b[0m \u001b[32m━━━━━━━━━━━━━━━━━━━━\u001b[0m\u001b[37m\u001b[0m \u001b[1m4s\u001b[0m 2ms/step - accuracy: 0.7626 - loss: 177.0129 - val_accuracy: 0.8569 - val_loss: 0.4697\n",
      "Epoch 2/20\n",
      "\u001b[1m1173/1173\u001b[0m \u001b[32m━━━━━━━━━━━━━━━━━━━━\u001b[0m\u001b[37m\u001b[0m \u001b[1m3s\u001b[0m 2ms/step - accuracy: 0.8557 - loss: 1.5504 - val_accuracy: 0.8569 - val_loss: 0.4161\n",
      "Epoch 3/20\n",
      "\u001b[1m1173/1173\u001b[0m \u001b[32m━━━━━━━━━━━━━━━━━━━━\u001b[0m\u001b[37m\u001b[0m \u001b[1m3s\u001b[0m 2ms/step - accuracy: 0.8528 - loss: 0.6271 - val_accuracy: 0.8569 - val_loss: 0.4107\n",
      "Epoch 4/20\n",
      "\u001b[1m1173/1173\u001b[0m \u001b[32m━━━━━━━━━━━━━━━━━━━━\u001b[0m\u001b[37m\u001b[0m \u001b[1m3s\u001b[0m 2ms/step - accuracy: 0.8560 - loss: 0.5046 - val_accuracy: 0.8569 - val_loss: 0.4106\n",
      "Epoch 5/20\n",
      "\u001b[1m1173/1173\u001b[0m \u001b[32m━━━━━━━━━━━━━━━━━━━━\u001b[0m\u001b[37m\u001b[0m \u001b[1m3s\u001b[0m 2ms/step - accuracy: 0.8569 - loss: 0.4892 - val_accuracy: 0.8569 - val_loss: 0.4106\n",
      "Epoch 6/20\n",
      "\u001b[1m1173/1173\u001b[0m \u001b[32m━━━━━━━━━━━━━━━━━━━━\u001b[0m\u001b[37m\u001b[0m \u001b[1m3s\u001b[0m 2ms/step - accuracy: 0.8546 - loss: 0.4837 - val_accuracy: 0.8569 - val_loss: 0.4106\n",
      "Epoch 7/20\n",
      "\u001b[1m1173/1173\u001b[0m \u001b[32m━━━━━━━━━━━━━━━━━━━━\u001b[0m\u001b[37m\u001b[0m \u001b[1m3s\u001b[0m 2ms/step - accuracy: 0.8559 - loss: 0.4292 - val_accuracy: 0.8569 - val_loss: 0.4106\n",
      "Epoch 8/20\n",
      "\u001b[1m1173/1173\u001b[0m \u001b[32m━━━━━━━━━━━━━━━━━━━━\u001b[0m\u001b[37m\u001b[0m \u001b[1m3s\u001b[0m 2ms/step - accuracy: 0.8569 - loss: 0.4186 - val_accuracy: 0.8569 - val_loss: 0.4106\n",
      "Epoch 9/20\n",
      "\u001b[1m1173/1173\u001b[0m \u001b[32m━━━━━━━━━━━━━━━━━━━━\u001b[0m\u001b[37m\u001b[0m \u001b[1m3s\u001b[0m 2ms/step - accuracy: 0.8558 - loss: 0.4305 - val_accuracy: 0.8569 - val_loss: 0.4106\n",
      "Epoch 10/20\n",
      "\u001b[1m1173/1173\u001b[0m \u001b[32m━━━━━━━━━━━━━━━━━━━━\u001b[0m\u001b[37m\u001b[0m \u001b[1m3s\u001b[0m 2ms/step - accuracy: 0.8587 - loss: 0.4127 - val_accuracy: 0.8569 - val_loss: 0.4106\n",
      "Epoch 11/20\n",
      "\u001b[1m1173/1173\u001b[0m \u001b[32m━━━━━━━━━━━━━━━━━━━━\u001b[0m\u001b[37m\u001b[0m \u001b[1m3s\u001b[0m 2ms/step - accuracy: 0.8541 - loss: 0.4163 - val_accuracy: 0.8569 - val_loss: 0.4106\n",
      "Epoch 12/20\n",
      "\u001b[1m1173/1173\u001b[0m \u001b[32m━━━━━━━━━━━━━━━━━━━━\u001b[0m\u001b[37m\u001b[0m \u001b[1m3s\u001b[0m 2ms/step - accuracy: 0.8592 - loss: 0.4089 - val_accuracy: 0.8569 - val_loss: 0.4106\n",
      "Epoch 13/20\n",
      "\u001b[1m1173/1173\u001b[0m \u001b[32m━━━━━━━━━━━━━━━━━━━━\u001b[0m\u001b[37m\u001b[0m \u001b[1m3s\u001b[0m 2ms/step - accuracy: 0.8584 - loss: 0.4085 - val_accuracy: 0.8569 - val_loss: 0.4106\n",
      "Epoch 14/20\n",
      "\u001b[1m1173/1173\u001b[0m \u001b[32m━━━━━━━━━━━━━━━━━━━━\u001b[0m\u001b[37m\u001b[0m \u001b[1m3s\u001b[0m 2ms/step - accuracy: 0.8544 - loss: 0.4196 - val_accuracy: 0.8569 - val_loss: 0.4106\n",
      "Epoch 15/20\n",
      "\u001b[1m1173/1173\u001b[0m \u001b[32m━━━━━━━━━━━━━━━━━━━━\u001b[0m\u001b[37m\u001b[0m \u001b[1m3s\u001b[0m 2ms/step - accuracy: 0.8553 - loss: 0.4232 - val_accuracy: 0.8569 - val_loss: 0.4106\n",
      "Epoch 16/20\n",
      "\u001b[1m1173/1173\u001b[0m \u001b[32m━━━━━━━━━━━━━━━━━━━━\u001b[0m\u001b[37m\u001b[0m \u001b[1m3s\u001b[0m 2ms/step - accuracy: 0.8572 - loss: 0.4130 - val_accuracy: 0.8569 - val_loss: 0.4106\n",
      "Epoch 17/20\n",
      "\u001b[1m1173/1173\u001b[0m \u001b[32m━━━━━━━━━━━━━━━━━━━━\u001b[0m\u001b[37m\u001b[0m \u001b[1m3s\u001b[0m 2ms/step - accuracy: 0.8558 - loss: 0.4184 - val_accuracy: 0.8569 - val_loss: 0.4106\n",
      "Epoch 18/20\n",
      "\u001b[1m1173/1173\u001b[0m \u001b[32m━━━━━━━━━━━━━━━━━━━━\u001b[0m\u001b[37m\u001b[0m \u001b[1m3s\u001b[0m 2ms/step - accuracy: 0.8558 - loss: 0.4362 - val_accuracy: 0.8569 - val_loss: 0.4106\n",
      "Epoch 19/20\n",
      "\u001b[1m1173/1173\u001b[0m \u001b[32m━━━━━━━━━━━━━━━━━━━━\u001b[0m\u001b[37m\u001b[0m \u001b[1m3s\u001b[0m 2ms/step - accuracy: 0.8591 - loss: 0.4071 - val_accuracy: 0.8569 - val_loss: 0.4106\n",
      "Epoch 20/20\n",
      "\u001b[1m1173/1173\u001b[0m \u001b[32m━━━━━━━━━━━━━━━━━━━━\u001b[0m\u001b[37m\u001b[0m \u001b[1m3s\u001b[0m 2ms/step - accuracy: 0.8600 - loss: 0.4050 - val_accuracy: 0.8569 - val_loss: 0.4106\n"
     ]
    }
   ],
   "source": [
    "history = model.fit(X_train_split, y_train_split, epochs=20, batch_size=32, validation_split=0.2)\n"
   ]
  },
  {
   "cell_type": "markdown",
   "id": "d564b7c0",
   "metadata": {
    "papermill": {
     "duration": 0.068663,
     "end_time": "2024-10-12T00:54:36.298358",
     "exception": false,
     "start_time": "2024-10-12T00:54:36.229695",
     "status": "completed"
    },
    "tags": []
   },
   "source": [
    "# More"
   ]
  },
  {
   "cell_type": "code",
   "execution_count": 17,
   "id": "c7fca152",
   "metadata": {
    "execution": {
     "iopub.execute_input": "2024-10-12T00:54:36.441017Z",
     "iopub.status.busy": "2024-10-12T00:54:36.440577Z",
     "iopub.status.idle": "2024-10-12T00:54:37.168004Z",
     "shell.execute_reply": "2024-10-12T00:54:37.166771Z"
    },
    "papermill": {
     "duration": 0.80298,
     "end_time": "2024-10-12T00:54:37.170620",
     "exception": false,
     "start_time": "2024-10-12T00:54:36.367640",
     "status": "completed"
    },
    "tags": []
   },
   "outputs": [
    {
     "name": "stdout",
     "output_type": "stream",
     "text": [
      "\u001b[1m367/367\u001b[0m \u001b[32m━━━━━━━━━━━━━━━━━━━━\u001b[0m\u001b[37m\u001b[0m \u001b[1m1s\u001b[0m 1ms/step\n"
     ]
    }
   ],
   "source": [
    "y_val_pred_prob = model.predict(X_val)\n",
    "y_val_pred_classes = (y_val_pred_prob > 0.5).astype(int)"
   ]
  },
  {
   "cell_type": "code",
   "execution_count": 18,
   "id": "89046303",
   "metadata": {
    "execution": {
     "iopub.execute_input": "2024-10-12T00:54:37.311825Z",
     "iopub.status.busy": "2024-10-12T00:54:37.310799Z",
     "iopub.status.idle": "2024-10-12T00:54:37.614218Z",
     "shell.execute_reply": "2024-10-12T00:54:37.613098Z"
    },
    "papermill": {
     "duration": 0.376448,
     "end_time": "2024-10-12T00:54:37.616491",
     "exception": false,
     "start_time": "2024-10-12T00:54:37.240043",
     "status": "completed"
    },
    "tags": []
   },
   "outputs": [
    {
     "data": {
      "text/plain": [
       "<Figure size 800x600 with 0 Axes>"
      ]
     },
     "metadata": {},
     "output_type": "display_data"
    },
    {
     "data": {
      "image/png": "[encoded data removed]",
      "text/plain": [
       "<Figure size 640x480 with 2 Axes>"
      ]
     },
     "metadata": {},
     "output_type": "display_data"
    }
   ],
   "source": [
    "cm = confusion_matrix(y_val, y_val_pred_classes)\n",
    "cm_display = ConfusionMatrixDisplay(confusion_matrix=cm)\n",
    "plt.figure(figsize=(8, 6))\n",
    "cm_display.plot(cmap=plt.cm.Blues)\n",
    "plt.title('Confusion Matrix')\n",
    "plt.show()"
   ]
  },
  {
   "cell_type": "code",
   "execution_count": 19,
   "id": "540c30fe",
   "metadata": {
    "execution": {
     "iopub.execute_input": "2024-10-12T00:54:37.757595Z",
     "iopub.status.busy": "2024-10-12T00:54:37.756637Z",
     "iopub.status.idle": "2024-10-12T00:54:38.357438Z",
     "shell.execute_reply": "2024-10-12T00:54:38.356248Z"
    },
    "papermill": {
     "duration": 0.674132,
     "end_time": "2024-10-12T00:54:38.360038",
     "exception": false,
     "start_time": "2024-10-12T00:54:37.685906",
     "status": "completed"
    },
    "tags": []
   },
   "outputs": [
    {
     "data": {
      "image/png": "[encoded data removed]",
      "text/plain": [
       "<Figure size 1200x400 with 2 Axes>"
      ]
     },
     "metadata": {},
     "output_type": "display_data"
    }
   ],
   "source": [
    "plt.figure(figsize=(12, 4))\n",
    "\n",
    "plt.subplot(1, 2, 1)\n",
    "plt.plot(history.history['loss'], label='Training Loss')\n",
    "plt.plot(history.history['val_loss'], label='Validation Loss')\n",
    "plt.title('Model Loss')\n",
    "plt.xlabel('Epoch')\n",
    "plt.ylabel('Loss')\n",
    "plt.legend()\n",
    "\n",
    "plt.subplot(1, 2, 2)\n",
    "plt.plot(history.history['accuracy'], label='Training Accuracy')\n",
    "plt.plot(history.history['val_accuracy'], label='Validation Accuracy')\n",
    "plt.title('Model Accuracy')\n",
    "plt.xlabel('Epoch')\n",
    "plt.ylabel('Accuracy')\n",
    "plt.legend()\n",
    "\n",
    "\n",
    "plt.tight_layout()\n",
    "plt.show()"
   ]
  },
  {
   "cell_type": "code",
   "execution_count": null,
   "id": "1f4c8b78",
   "metadata": {
    "papermill": {
     "duration": 0.070034,
     "end_time": "2024-10-12T00:54:38.500654",
     "exception": false,
     "start_time": "2024-10-12T00:54:38.430620",
     "status": "completed"
    },
    "tags": []
   },
   "outputs": [],
   "source": []
  }
 ],
 "metadata": {
  "kaggle": {
   "accelerator": "none",
   "dataSources": [
    {
     "databundleVersionId": 9709193,
     "sourceId": 84894,
     "sourceType": "competition"
    }
   ],
   "dockerImageVersionId": 30786,
   "isGpuEnabled": false,
   "isInternetEnabled": true,
   "language": "python",
   "sourceType": "notebook"
  },
  "kernelspec": {
   "display_name": "Python 3",
   "language": "python",
   "name": "python3"
  },
  "language_info": {
   "codemirror_mode": {
    "name": "ipython",
    "version": 3
   },
   "file_extension": ".py",
   "mimetype": "text/x-python",
   "name": "python",
   "nbconvert_exporter": "python",
   "pygments_lexer": "ipython3",
   "version": "3.10.14"
  },
  "papermill": {
   "default_parameters": {},
   "duration": 77.94773,
   "end_time": "2024-10-12T00:54:40.250351",
   "environment_variables": {},
   "exception": null,
   "input_path": "__notebook__.ipynb",
   "output_path": "__notebook__.ipynb",
   "parameters": {},
   "start_time": "2024-10-12T00:53:22.302621",
   "version": "2.6.0"
  }
 },
 "nbformat": 4,
 "nbformat_minor": 5
}
